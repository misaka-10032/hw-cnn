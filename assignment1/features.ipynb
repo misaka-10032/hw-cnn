{
 "metadata": {
  "name": "",
  "signature": "sha256:a7e92316b92bfeb21e54bca492e1d9f979bb5f68b127a44be5b82a2668dbceec"
 },
 "nbformat": 3,
 "nbformat_minor": 0,
 "worksheets": [
  {
   "cells": [
    {
     "cell_type": "markdown",
     "metadata": {},
     "source": [
      "# Image features exercise\n",
      "*Complete and hand in this completed worksheet (including its outputs and any supporting code outside of the worksheet) with your assignment submission. For more details see the [assignments page](http://vision.stanford.edu/teaching/cs231n/assignments.html) on the course website.*\n",
      "\n",
      "We have seen that we can achieve reasonable performance on an image classification task by training a linear classifier on the pixels of the input image. In this exercise we will show that we can improve our classification performance by training linear classifiers not on raw pixels but on features that are computed from the raw pixels.\n",
      "\n",
      "All of your work for this exercise will be done in this notebook."
     ]
    },
    {
     "cell_type": "code",
     "collapsed": false,
     "input": [
      "import random\n",
      "import numpy as np\n",
      "from cs231n.data_utils import load_CIFAR10\n",
      "import matplotlib.pyplot as plt\n",
      "%matplotlib inline\n",
      "plt.rcParams['figure.figsize'] = (10.0, 8.0) # set default size of plots\n",
      "plt.rcParams['image.interpolation'] = 'nearest'\n",
      "plt.rcParams['image.cmap'] = 'gray'\n",
      "\n",
      "# for auto-reloading extenrnal modules\n",
      "# see http://stackoverflow.com/questions/1907993/autoreload-of-modules-in-ipython\n",
      "%load_ext autoreload\n",
      "%autoreload 2"
     ],
     "language": "python",
     "metadata": {},
     "outputs": [
      {
       "output_type": "stream",
       "stream": "stdout",
       "text": [
        "The autoreload extension is already loaded. To reload it, use:\n",
        "  %reload_ext autoreload\n"
       ]
      }
     ],
     "prompt_number": 38
    },
    {
     "cell_type": "code",
     "collapsed": false,
     "input": [
      "# Load the CIFAR10 data\n",
      "from cs231n.features import color_histogram_hsv, hog_feature\n",
      "\n",
      "def get_CIFAR10_data(num_training=49000, num_validation=1000, num_test=1000):\n",
      "  # Load the raw CIFAR-10 data\n",
      "  cifar10_dir = 'cs231n/datasets/cifar-10-batches-py'\n",
      "  X_train, y_train, X_test, y_test = load_CIFAR10(cifar10_dir)\n",
      "  \n",
      "  # Subsample the data\n",
      "  mask = range(num_training, num_training + num_validation)\n",
      "  X_val = X_train[mask]\n",
      "  y_val = y_train[mask]\n",
      "  mask = range(num_training)\n",
      "  X_train = X_train[mask]\n",
      "  y_train = y_train[mask]\n",
      "  mask = range(num_test)\n",
      "  X_test = X_test[mask]\n",
      "  y_test = y_test[mask]\n",
      "\n",
      "  return X_train, y_train, X_val, y_val, X_test, y_test\n",
      "\n",
      "X_train, y_train, X_val, y_val, X_test, y_test = get_CIFAR10_data()"
     ],
     "language": "python",
     "metadata": {},
     "outputs": [],
     "prompt_number": 20
    },
    {
     "cell_type": "code",
     "collapsed": false,
     "input": [
      "from cs231n.features import *\n",
      "\n",
      "# Extract features. For each image we will compute a Histogram of Oriented\n",
      "# Gradients (HOG) as well as a color histogram using the hue channel in HSV\n",
      "# color space. We form our final feature vector for each image by concatenating\n",
      "# the HOG and color histogram feature vectors.\n",
      "#\n",
      "# Roughly speaking, HOG should capture the texture of the image while ignoring\n",
      "# color information, and the color histogram represents the color of the input\n",
      "# image while ignoring texture. As a result, we expect that using both together\n",
      "# ought to work better than using either alone. Verifying this assumption would\n",
      "# be a good thing to try for the bonus section.\n",
      "\n",
      "# The hog_feature and color_histogram_hsv functions both operate on a single\n",
      "# image and return a feature vector for that image. The extract_features\n",
      "# function takes a set of images and a list of feature functions and evaluates\n",
      "# each feature function on each image, storing the results in a matrix where\n",
      "# each column is the concatenation of all feature vectors for a single image.\n",
      "\n",
      "num_color_bins = 10 # Number of bins in the color histogram\n",
      "feature_fns = [hog_feature, lambda img: color_histogram_hsv(img, nbin=num_color_bins)]\n",
      "X_train_feats = extract_features(X_train, feature_fns, verbose=True)\n",
      "X_val_feats = extract_features(X_val, feature_fns)\n",
      "X_test_feats = extract_features(X_test, feature_fns)\n",
      "\n",
      "# Preprocessing: Subtract the mean feature\n",
      "mean_feat = np.mean(X_train_feats, axis=1)\n",
      "mean_feat = np.expand_dims(mean_feat, axis=1)\n",
      "X_train_feats -= mean_feat\n",
      "X_val_feats -= mean_feat\n",
      "X_test_feats -= mean_feat\n",
      "\n",
      "# Preprocessing: Divide by standard deviation. This ensures that each feature\n",
      "# has roughly the same scale.\n",
      "std_feat = np.std(X_train_feats, axis=1)\n",
      "std_feat = np.expand_dims(std_feat, axis=1)\n",
      "X_train_feats /= std_feat\n",
      "X_val_feats /= std_feat\n",
      "X_test_feats /= std_feat\n",
      "\n",
      "# Preprocessing: Add a bias dimension\n",
      "X_train_feats = np.vstack([X_train_feats, np.ones((1, X_train_feats.shape[1]))])\n",
      "X_val_feats = np.vstack([X_val_feats, np.ones((1, X_val_feats.shape[1]))])\n",
      "X_test_feats = np.vstack([X_test_feats, np.ones((1, X_test_feats.shape[1]))])"
     ],
     "language": "python",
     "metadata": {},
     "outputs": [
      {
       "output_type": "stream",
       "stream": "stdout",
       "text": [
        "Done extracting features for 1000 / 49000 images\n",
        "Done extracting features for 2000 / 49000 images"
       ]
      },
      {
       "output_type": "stream",
       "stream": "stdout",
       "text": [
        "\n",
        "Done extracting features for 3000 / 49000 images"
       ]
      },
      {
       "output_type": "stream",
       "stream": "stdout",
       "text": [
        "\n",
        "Done extracting features for 4000 / 49000 images"
       ]
      },
      {
       "output_type": "stream",
       "stream": "stdout",
       "text": [
        "\n",
        "Done extracting features for 5000 / 49000 images"
       ]
      },
      {
       "output_type": "stream",
       "stream": "stdout",
       "text": [
        "\n",
        "Done extracting features for 6000 / 49000 images"
       ]
      },
      {
       "output_type": "stream",
       "stream": "stdout",
       "text": [
        "\n",
        "Done extracting features for 7000 / 49000 images"
       ]
      },
      {
       "output_type": "stream",
       "stream": "stdout",
       "text": [
        "\n",
        "Done extracting features for 8000 / 49000 images"
       ]
      },
      {
       "output_type": "stream",
       "stream": "stdout",
       "text": [
        "\n",
        "Done extracting features for 9000 / 49000 images"
       ]
      },
      {
       "output_type": "stream",
       "stream": "stdout",
       "text": [
        "\n",
        "Done extracting features for 10000 / 49000 images"
       ]
      },
      {
       "output_type": "stream",
       "stream": "stdout",
       "text": [
        "\n",
        "Done extracting features for 11000 / 49000 images"
       ]
      },
      {
       "output_type": "stream",
       "stream": "stdout",
       "text": [
        "\n",
        "Done extracting features for 12000 / 49000 images"
       ]
      },
      {
       "output_type": "stream",
       "stream": "stdout",
       "text": [
        "\n",
        "Done extracting features for 13000 / 49000 images"
       ]
      },
      {
       "output_type": "stream",
       "stream": "stdout",
       "text": [
        "\n",
        "Done extracting features for 14000 / 49000 images"
       ]
      },
      {
       "output_type": "stream",
       "stream": "stdout",
       "text": [
        "\n",
        "Done extracting features for 15000 / 49000 images"
       ]
      },
      {
       "output_type": "stream",
       "stream": "stdout",
       "text": [
        "\n",
        "Done extracting features for 16000 / 49000 images"
       ]
      },
      {
       "output_type": "stream",
       "stream": "stdout",
       "text": [
        "\n",
        "Done extracting features for 17000 / 49000 images"
       ]
      },
      {
       "output_type": "stream",
       "stream": "stdout",
       "text": [
        "\n",
        "Done extracting features for 18000 / 49000 images"
       ]
      },
      {
       "output_type": "stream",
       "stream": "stdout",
       "text": [
        "\n",
        "Done extracting features for 19000 / 49000 images"
       ]
      },
      {
       "output_type": "stream",
       "stream": "stdout",
       "text": [
        "\n",
        "Done extracting features for 20000 / 49000 images"
       ]
      },
      {
       "output_type": "stream",
       "stream": "stdout",
       "text": [
        "\n",
        "Done extracting features for 21000 / 49000 images"
       ]
      },
      {
       "output_type": "stream",
       "stream": "stdout",
       "text": [
        "\n",
        "Done extracting features for 22000 / 49000 images"
       ]
      },
      {
       "output_type": "stream",
       "stream": "stdout",
       "text": [
        "\n",
        "Done extracting features for 23000 / 49000 images"
       ]
      },
      {
       "output_type": "stream",
       "stream": "stdout",
       "text": [
        "\n",
        "Done extracting features for 24000 / 49000 images"
       ]
      },
      {
       "output_type": "stream",
       "stream": "stdout",
       "text": [
        "\n",
        "Done extracting features for 25000 / 49000 images"
       ]
      },
      {
       "output_type": "stream",
       "stream": "stdout",
       "text": [
        "\n",
        "Done extracting features for 26000 / 49000 images"
       ]
      },
      {
       "output_type": "stream",
       "stream": "stdout",
       "text": [
        "\n",
        "Done extracting features for 27000 / 49000 images"
       ]
      },
      {
       "output_type": "stream",
       "stream": "stdout",
       "text": [
        "\n",
        "Done extracting features for 28000 / 49000 images"
       ]
      },
      {
       "output_type": "stream",
       "stream": "stdout",
       "text": [
        "\n",
        "Done extracting features for 29000 / 49000 images"
       ]
      },
      {
       "output_type": "stream",
       "stream": "stdout",
       "text": [
        "\n",
        "Done extracting features for 30000 / 49000 images"
       ]
      },
      {
       "output_type": "stream",
       "stream": "stdout",
       "text": [
        "\n",
        "Done extracting features for 31000 / 49000 images"
       ]
      },
      {
       "output_type": "stream",
       "stream": "stdout",
       "text": [
        "\n",
        "Done extracting features for 32000 / 49000 images"
       ]
      },
      {
       "output_type": "stream",
       "stream": "stdout",
       "text": [
        "\n",
        "Done extracting features for 33000 / 49000 images"
       ]
      },
      {
       "output_type": "stream",
       "stream": "stdout",
       "text": [
        "\n",
        "Done extracting features for 34000 / 49000 images"
       ]
      },
      {
       "output_type": "stream",
       "stream": "stdout",
       "text": [
        "\n",
        "Done extracting features for 35000 / 49000 images"
       ]
      },
      {
       "output_type": "stream",
       "stream": "stdout",
       "text": [
        "\n",
        "Done extracting features for 36000 / 49000 images"
       ]
      },
      {
       "output_type": "stream",
       "stream": "stdout",
       "text": [
        "\n",
        "Done extracting features for 37000 / 49000 images"
       ]
      },
      {
       "output_type": "stream",
       "stream": "stdout",
       "text": [
        "\n",
        "Done extracting features for 38000 / 49000 images"
       ]
      },
      {
       "output_type": "stream",
       "stream": "stdout",
       "text": [
        "\n",
        "Done extracting features for 39000 / 49000 images"
       ]
      },
      {
       "output_type": "stream",
       "stream": "stdout",
       "text": [
        "\n",
        "Done extracting features for 40000 / 49000 images"
       ]
      },
      {
       "output_type": "stream",
       "stream": "stdout",
       "text": [
        "\n",
        "Done extracting features for 41000 / 49000 images"
       ]
      },
      {
       "output_type": "stream",
       "stream": "stdout",
       "text": [
        "\n",
        "Done extracting features for 42000 / 49000 images"
       ]
      },
      {
       "output_type": "stream",
       "stream": "stdout",
       "text": [
        "\n",
        "Done extracting features for 43000 / 49000 images"
       ]
      },
      {
       "output_type": "stream",
       "stream": "stdout",
       "text": [
        "\n",
        "Done extracting features for 44000 / 49000 images"
       ]
      },
      {
       "output_type": "stream",
       "stream": "stdout",
       "text": [
        "\n",
        "Done extracting features for 45000 / 49000 images"
       ]
      },
      {
       "output_type": "stream",
       "stream": "stdout",
       "text": [
        "\n",
        "Done extracting features for 46000 / 49000 images"
       ]
      },
      {
       "output_type": "stream",
       "stream": "stdout",
       "text": [
        "\n",
        "Done extracting features for 47000 / 49000 images"
       ]
      },
      {
       "output_type": "stream",
       "stream": "stdout",
       "text": [
        "\n",
        "Done extracting features for 48000 / 49000 images"
       ]
      },
      {
       "output_type": "stream",
       "stream": "stdout",
       "text": [
        "\n"
       ]
      }
     ],
     "prompt_number": 22
    },
    {
     "cell_type": "code",
     "collapsed": false,
     "input": [
      "print X_train_feats.shape"
     ],
     "language": "python",
     "metadata": {},
     "outputs": [
      {
       "output_type": "stream",
       "stream": "stdout",
       "text": [
        "(155, 49000)\n"
       ]
      }
     ],
     "prompt_number": 24
    },
    {
     "cell_type": "code",
     "collapsed": false,
     "input": [
      "# Use the validation set to tune the learning rate and regularization strength\n",
      "\n",
      "from cs231n.classifiers.linear_classifier import LinearSVM\n",
      "\n",
      "learning_rates = [1e-3, 1e-4, 1e-5, 1e-6, 1e-7, 1e-8]\n",
      "regularization_strengths = [5e-1, 1e-2, 5e-2, 1e-3, 5e-3, 1e-4, 5e-4]\n",
      "\n",
      "results = {}\n",
      "best_val = -1\n",
      "best_svm = None\n",
      "\n",
      "pass\n",
      "################################################################################\n",
      "# TODO:                                                                        #\n",
      "# Use the validation set to set the learning rate and regularization strength. #\n",
      "# This should be identical to the validation that you did for the SVM; save    #\n",
      "# the best trained softmax classifer in best_svm. You might also want to play  #\n",
      "# with different numbers of bins in the color histogram. If you are careful    #\n",
      "# you should be able to get accuracy of near 0.44 on the validation set.       #\n",
      "################################################################################\n",
      "\n",
      "from cs231n.classifiers import LinearSVM\n",
      "for lr in learning_rates:\n",
      "    for rs in regularization_strengths:\n",
      "        svm = LinearSVM()\n",
      "        svm.train(X_train_feats, y_train, learning_rate=lr, reg=rs,\n",
      "                  num_iters=3000, verbose=True)\n",
      "        ac_train = np.mean(y_train == svm.predict(X_train_feats))\n",
      "        ac_val = np.mean(y_val == svm.predict(X_val_feats))\n",
      "        if ac_val > best_val:\n",
      "            best_val = ac_val\n",
      "            best_svm = svm\n",
      "        key = (lr, rs)\n",
      "        results[key] = ac_train, ac_val\n",
      "        \n",
      "################################################################################\n",
      "#                              END OF YOUR CODE                                #\n",
      "################################################################################\n",
      "\n",
      "# Print out results.\n",
      "for lr, reg in sorted(results):\n",
      "    train_accuracy, val_accuracy = results[(lr, reg)]\n",
      "    print 'lr %e reg %e train accuracy: %f val accuracy: %f' % (\n",
      "                lr, reg, train_accuracy, val_accuracy)\n",
      "    \n",
      "print 'best validation accuracy achieved during cross-validation: %f' % best_val"
     ],
     "language": "python",
     "metadata": {},
     "outputs": [
      {
       "output_type": "stream",
       "stream": "stdout",
       "text": [
        "iteration 0 / 3000: loss 9.007596\n",
        "iteration 100 / 3000: loss 5.044473"
       ]
      },
      {
       "output_type": "stream",
       "stream": "stdout",
       "text": [
        "\n",
        "iteration 200 / 3000: loss 4.549948"
       ]
      },
      {
       "output_type": "stream",
       "stream": "stdout",
       "text": [
        "\n",
        "iteration 300 / 3000: loss 4.060989"
       ]
      },
      {
       "output_type": "stream",
       "stream": "stdout",
       "text": [
        "\n",
        "iteration 400 / 3000: loss 3.946293"
       ]
      },
      {
       "output_type": "stream",
       "stream": "stdout",
       "text": [
        "\n",
        "iteration 500 / 3000: loss 3.687998"
       ]
      },
      {
       "output_type": "stream",
       "stream": "stdout",
       "text": [
        "\n",
        "iteration 600 / 3000: loss 4.093763"
       ]
      },
      {
       "output_type": "stream",
       "stream": "stdout",
       "text": [
        "\n",
        "iteration 700 / 3000: loss 4.054311"
       ]
      },
      {
       "output_type": "stream",
       "stream": "stdout",
       "text": [
        "\n",
        "iteration 800 / 3000: loss 3.795409"
       ]
      },
      {
       "output_type": "stream",
       "stream": "stdout",
       "text": [
        "\n",
        "iteration 900 / 3000: loss 3.508654"
       ]
      },
      {
       "output_type": "stream",
       "stream": "stdout",
       "text": [
        "\n",
        "iteration 1000 / 3000: loss 3.694174"
       ]
      },
      {
       "output_type": "stream",
       "stream": "stdout",
       "text": [
        "\n",
        "iteration 1100 / 3000: loss 3.861540"
       ]
      },
      {
       "output_type": "stream",
       "stream": "stdout",
       "text": [
        "\n",
        "iteration 1200 / 3000: loss 3.942737"
       ]
      },
      {
       "output_type": "stream",
       "stream": "stdout",
       "text": [
        "\n",
        "iteration 1300 / 3000: loss 3.780984"
       ]
      },
      {
       "output_type": "stream",
       "stream": "stdout",
       "text": [
        "\n",
        "iteration 1400 / 3000: loss 3.796716"
       ]
      },
      {
       "output_type": "stream",
       "stream": "stdout",
       "text": [
        "\n",
        "iteration 1500 / 3000: loss 3.900735"
       ]
      },
      {
       "output_type": "stream",
       "stream": "stdout",
       "text": [
        "\n",
        "iteration 1600 / 3000: loss 4.402851"
       ]
      },
      {
       "output_type": "stream",
       "stream": "stdout",
       "text": [
        "\n",
        "iteration 1700 / 3000: loss 3.828646"
       ]
      },
      {
       "output_type": "stream",
       "stream": "stdout",
       "text": [
        "\n",
        "iteration 1800 / 3000: loss 3.911883"
       ]
      },
      {
       "output_type": "stream",
       "stream": "stdout",
       "text": [
        "\n",
        "iteration 1900 / 3000: loss 4.233911"
       ]
      },
      {
       "output_type": "stream",
       "stream": "stdout",
       "text": [
        "\n",
        "iteration 2000 / 3000: loss 4.360029"
       ]
      },
      {
       "output_type": "stream",
       "stream": "stdout",
       "text": [
        "\n",
        "iteration 2100 / 3000: loss 3.975058"
       ]
      },
      {
       "output_type": "stream",
       "stream": "stdout",
       "text": [
        "\n",
        "iteration 2200 / 3000: loss 3.721878"
       ]
      },
      {
       "output_type": "stream",
       "stream": "stdout",
       "text": [
        "\n",
        "iteration 2300 / 3000: loss 4.223281"
       ]
      },
      {
       "output_type": "stream",
       "stream": "stdout",
       "text": [
        "\n",
        "iteration 2400 / 3000: loss 4.297317"
       ]
      },
      {
       "output_type": "stream",
       "stream": "stdout",
       "text": [
        "\n",
        "iteration 2500 / 3000: loss 3.871490"
       ]
      },
      {
       "output_type": "stream",
       "stream": "stdout",
       "text": [
        "\n",
        "iteration 2600 / 3000: loss 4.140352"
       ]
      },
      {
       "output_type": "stream",
       "stream": "stdout",
       "text": [
        "\n",
        "iteration 2700 / 3000: loss 3.739466"
       ]
      },
      {
       "output_type": "stream",
       "stream": "stdout",
       "text": [
        "\n",
        "iteration 2800 / 3000: loss 3.739539"
       ]
      },
      {
       "output_type": "stream",
       "stream": "stdout",
       "text": [
        "\n",
        "iteration 2900 / 3000: loss 3.973973"
       ]
      },
      {
       "output_type": "stream",
       "stream": "stdout",
       "text": [
        "\n",
        "iteration 0 / 3000: loss 8.994237"
       ]
      },
      {
       "output_type": "stream",
       "stream": "stdout",
       "text": [
        "\n",
        "iteration 100 / 3000: loss 4.852521"
       ]
      },
      {
       "output_type": "stream",
       "stream": "stdout",
       "text": [
        "\n",
        "iteration 200 / 3000: loss 3.912255"
       ]
      },
      {
       "output_type": "stream",
       "stream": "stdout",
       "text": [
        "\n",
        "iteration 300 / 3000: loss 3.716609"
       ]
      },
      {
       "output_type": "stream",
       "stream": "stdout",
       "text": [
        "\n",
        "iteration 400 / 3000: loss 3.339621"
       ]
      },
      {
       "output_type": "stream",
       "stream": "stdout",
       "text": [
        "\n",
        "iteration 500 / 3000: loss 3.655614"
       ]
      },
      {
       "output_type": "stream",
       "stream": "stdout",
       "text": [
        "\n",
        "iteration 600 / 3000: loss 3.450752"
       ]
      },
      {
       "output_type": "stream",
       "stream": "stdout",
       "text": [
        "\n",
        "iteration 700 / 3000: loss 3.182633"
       ]
      },
      {
       "output_type": "stream",
       "stream": "stdout",
       "text": [
        "\n",
        "iteration 800 / 3000: loss 3.737959"
       ]
      },
      {
       "output_type": "stream",
       "stream": "stdout",
       "text": [
        "\n",
        "iteration 900 / 3000: loss 2.803027"
       ]
      },
      {
       "output_type": "stream",
       "stream": "stdout",
       "text": [
        "\n",
        "iteration 1000 / 3000: loss 3.455521"
       ]
      },
      {
       "output_type": "stream",
       "stream": "stdout",
       "text": [
        "\n",
        "iteration 1100 / 3000: loss 3.554594"
       ]
      },
      {
       "output_type": "stream",
       "stream": "stdout",
       "text": [
        "\n",
        "iteration 1200 / 3000: loss 3.355871"
       ]
      },
      {
       "output_type": "stream",
       "stream": "stdout",
       "text": [
        "\n",
        "iteration 1300 / 3000: loss 3.437408"
       ]
      },
      {
       "output_type": "stream",
       "stream": "stdout",
       "text": [
        "\n",
        "iteration 1400 / 3000: loss 3.113738"
       ]
      },
      {
       "output_type": "stream",
       "stream": "stdout",
       "text": [
        "\n",
        "iteration 1500 / 3000: loss 3.252155"
       ]
      },
      {
       "output_type": "stream",
       "stream": "stdout",
       "text": [
        "\n",
        "iteration 1600 / 3000: loss 2.903968"
       ]
      },
      {
       "output_type": "stream",
       "stream": "stdout",
       "text": [
        "\n",
        "iteration 1700 / 3000: loss 3.511043"
       ]
      },
      {
       "output_type": "stream",
       "stream": "stdout",
       "text": [
        "\n",
        "iteration 1800 / 3000: loss 3.083611"
       ]
      },
      {
       "output_type": "stream",
       "stream": "stdout",
       "text": [
        "\n",
        "iteration 1900 / 3000: loss 2.730022"
       ]
      },
      {
       "output_type": "stream",
       "stream": "stdout",
       "text": [
        "\n",
        "iteration 2000 / 3000: loss 3.212121"
       ]
      },
      {
       "output_type": "stream",
       "stream": "stdout",
       "text": [
        "\n",
        "iteration 2100 / 3000: loss 2.904702"
       ]
      },
      {
       "output_type": "stream",
       "stream": "stdout",
       "text": [
        "\n",
        "iteration 2200 / 3000: loss 3.237604"
       ]
      },
      {
       "output_type": "stream",
       "stream": "stdout",
       "text": [
        "\n",
        "iteration 2300 / 3000: loss 2.973149"
       ]
      },
      {
       "output_type": "stream",
       "stream": "stdout",
       "text": [
        "\n",
        "iteration 2400 / 3000: loss 2.828660"
       ]
      },
      {
       "output_type": "stream",
       "stream": "stdout",
       "text": [
        "\n",
        "iteration 2500 / 3000: loss 3.189395"
       ]
      },
      {
       "output_type": "stream",
       "stream": "stdout",
       "text": [
        "\n",
        "iteration 2600 / 3000: loss 3.317750"
       ]
      },
      {
       "output_type": "stream",
       "stream": "stdout",
       "text": [
        "\n",
        "iteration 2700 / 3000: loss 3.276200"
       ]
      },
      {
       "output_type": "stream",
       "stream": "stdout",
       "text": [
        "\n",
        "iteration 2800 / 3000: loss 2.513435"
       ]
      },
      {
       "output_type": "stream",
       "stream": "stdout",
       "text": [
        "\n",
        "iteration 2900 / 3000: loss 2.964675"
       ]
      },
      {
       "output_type": "stream",
       "stream": "stdout",
       "text": [
        "\n",
        "iteration 0 / 3000: loss 8.998047"
       ]
      },
      {
       "output_type": "stream",
       "stream": "stdout",
       "text": [
        "\n",
        "iteration 100 / 3000: loss 4.845179"
       ]
      },
      {
       "output_type": "stream",
       "stream": "stdout",
       "text": [
        "\n",
        "iteration 200 / 3000: loss 4.428148"
       ]
      },
      {
       "output_type": "stream",
       "stream": "stdout",
       "text": [
        "\n",
        "iteration 300 / 3000: loss 3.495307"
       ]
      },
      {
       "output_type": "stream",
       "stream": "stdout",
       "text": [
        "\n",
        "iteration 400 / 3000: loss 3.651473"
       ]
      },
      {
       "output_type": "stream",
       "stream": "stdout",
       "text": [
        "\n",
        "iteration 500 / 3000: loss 3.826932"
       ]
      },
      {
       "output_type": "stream",
       "stream": "stdout",
       "text": [
        "\n",
        "iteration 600 / 3000: loss 3.353696"
       ]
      },
      {
       "output_type": "stream",
       "stream": "stdout",
       "text": [
        "\n",
        "iteration 700 / 3000: loss 3.569141"
       ]
      },
      {
       "output_type": "stream",
       "stream": "stdout",
       "text": [
        "\n",
        "iteration 800 / 3000: loss 3.189388"
       ]
      },
      {
       "output_type": "stream",
       "stream": "stdout",
       "text": [
        "\n",
        "iteration 900 / 3000: loss 3.217362"
       ]
      },
      {
       "output_type": "stream",
       "stream": "stdout",
       "text": [
        "\n",
        "iteration 1000 / 3000: loss 3.190504"
       ]
      },
      {
       "output_type": "stream",
       "stream": "stdout",
       "text": [
        "\n",
        "iteration 1100 / 3000: loss 3.311684"
       ]
      },
      {
       "output_type": "stream",
       "stream": "stdout",
       "text": [
        "\n",
        "iteration 1200 / 3000: loss 3.519670"
       ]
      },
      {
       "output_type": "stream",
       "stream": "stdout",
       "text": [
        "\n",
        "iteration 1300 / 3000: loss 3.388585"
       ]
      },
      {
       "output_type": "stream",
       "stream": "stdout",
       "text": [
        "\n",
        "iteration 1400 / 3000: loss 2.798356"
       ]
      },
      {
       "output_type": "stream",
       "stream": "stdout",
       "text": [
        "\n",
        "iteration 1500 / 3000: loss 3.337353"
       ]
      },
      {
       "output_type": "stream",
       "stream": "stdout",
       "text": [
        "\n",
        "iteration 1600 / 3000: loss 3.283309"
       ]
      },
      {
       "output_type": "stream",
       "stream": "stdout",
       "text": [
        "\n",
        "iteration 1700 / 3000: loss 3.239806"
       ]
      },
      {
       "output_type": "stream",
       "stream": "stdout",
       "text": [
        "\n",
        "iteration 1800 / 3000: loss 3.344001"
       ]
      },
      {
       "output_type": "stream",
       "stream": "stdout",
       "text": [
        "\n",
        "iteration 1900 / 3000: loss 3.096227"
       ]
      },
      {
       "output_type": "stream",
       "stream": "stdout",
       "text": [
        "\n",
        "iteration 2000 / 3000: loss 3.212501"
       ]
      },
      {
       "output_type": "stream",
       "stream": "stdout",
       "text": [
        "\n",
        "iteration 2100 / 3000: loss 3.132049"
       ]
      },
      {
       "output_type": "stream",
       "stream": "stdout",
       "text": [
        "\n",
        "iteration 2200 / 3000: loss 2.874629"
       ]
      },
      {
       "output_type": "stream",
       "stream": "stdout",
       "text": [
        "\n",
        "iteration 2300 / 3000: loss 3.367390"
       ]
      },
      {
       "output_type": "stream",
       "stream": "stdout",
       "text": [
        "\n",
        "iteration 2400 / 3000: loss 3.174708"
       ]
      },
      {
       "output_type": "stream",
       "stream": "stdout",
       "text": [
        "\n",
        "iteration 2500 / 3000: loss 3.582097"
       ]
      },
      {
       "output_type": "stream",
       "stream": "stdout",
       "text": [
        "\n",
        "iteration 2600 / 3000: loss 3.121482"
       ]
      },
      {
       "output_type": "stream",
       "stream": "stdout",
       "text": [
        "\n",
        "iteration 2700 / 3000: loss 3.428332"
       ]
      },
      {
       "output_type": "stream",
       "stream": "stdout",
       "text": [
        "\n",
        "iteration 2800 / 3000: loss 3.354142"
       ]
      },
      {
       "output_type": "stream",
       "stream": "stdout",
       "text": [
        "\n",
        "iteration 2900 / 3000: loss 3.545987"
       ]
      },
      {
       "output_type": "stream",
       "stream": "stdout",
       "text": [
        "\n",
        "iteration 0 / 3000: loss 8.986616"
       ]
      },
      {
       "output_type": "stream",
       "stream": "stdout",
       "text": [
        "\n",
        "iteration 100 / 3000: loss 4.729628"
       ]
      },
      {
       "output_type": "stream",
       "stream": "stdout",
       "text": [
        "\n",
        "iteration 200 / 3000: loss 3.950965"
       ]
      },
      {
       "output_type": "stream",
       "stream": "stdout",
       "text": [
        "\n",
        "iteration 300 / 3000: loss 3.453822"
       ]
      },
      {
       "output_type": "stream",
       "stream": "stdout",
       "text": [
        "\n",
        "iteration 400 / 3000: loss 3.715278"
       ]
      },
      {
       "output_type": "stream",
       "stream": "stdout",
       "text": [
        "\n",
        "iteration 500 / 3000: loss 3.646283"
       ]
      },
      {
       "output_type": "stream",
       "stream": "stdout",
       "text": [
        "\n",
        "iteration 600 / 3000: loss 3.279273"
       ]
      },
      {
       "output_type": "stream",
       "stream": "stdout",
       "text": [
        "\n",
        "iteration 700 / 3000: loss 3.699378"
       ]
      },
      {
       "output_type": "stream",
       "stream": "stdout",
       "text": [
        "\n",
        "iteration 800 / 3000: loss 3.201139"
       ]
      },
      {
       "output_type": "stream",
       "stream": "stdout",
       "text": [
        "\n",
        "iteration 900 / 3000: loss 3.218615"
       ]
      },
      {
       "output_type": "stream",
       "stream": "stdout",
       "text": [
        "\n",
        "iteration 1000 / 3000: loss 3.014120"
       ]
      },
      {
       "output_type": "stream",
       "stream": "stdout",
       "text": [
        "\n",
        "iteration 1100 / 3000: loss 3.471527"
       ]
      },
      {
       "output_type": "stream",
       "stream": "stdout",
       "text": [
        "\n",
        "iteration 1200 / 3000: loss 2.882415"
       ]
      },
      {
       "output_type": "stream",
       "stream": "stdout",
       "text": [
        "\n",
        "iteration 1300 / 3000: loss 2.907075"
       ]
      },
      {
       "output_type": "stream",
       "stream": "stdout",
       "text": [
        "\n",
        "iteration 1400 / 3000: loss 3.101567"
       ]
      },
      {
       "output_type": "stream",
       "stream": "stdout",
       "text": [
        "\n",
        "iteration 1500 / 3000: loss 3.288792"
       ]
      },
      {
       "output_type": "stream",
       "stream": "stdout",
       "text": [
        "\n",
        "iteration 1600 / 3000: loss 3.235426"
       ]
      },
      {
       "output_type": "stream",
       "stream": "stdout",
       "text": [
        "\n",
        "iteration 1700 / 3000: loss 3.421291"
       ]
      },
      {
       "output_type": "stream",
       "stream": "stdout",
       "text": [
        "\n",
        "iteration 1800 / 3000: loss 2.911181"
       ]
      },
      {
       "output_type": "stream",
       "stream": "stdout",
       "text": [
        "\n",
        "iteration 1900 / 3000: loss 3.032334"
       ]
      },
      {
       "output_type": "stream",
       "stream": "stdout",
       "text": [
        "\n",
        "iteration 2000 / 3000: loss 3.224704"
       ]
      },
      {
       "output_type": "stream",
       "stream": "stdout",
       "text": [
        "\n",
        "iteration 2100 / 3000: loss 3.172178"
       ]
      },
      {
       "output_type": "stream",
       "stream": "stdout",
       "text": [
        "\n",
        "iteration 2200 / 3000: loss 2.769722"
       ]
      },
      {
       "output_type": "stream",
       "stream": "stdout",
       "text": [
        "\n",
        "iteration 2300 / 3000: loss 3.021275"
       ]
      },
      {
       "output_type": "stream",
       "stream": "stdout",
       "text": [
        "\n",
        "iteration 2400 / 3000: loss 2.581488"
       ]
      },
      {
       "output_type": "stream",
       "stream": "stdout",
       "text": [
        "\n",
        "iteration 2500 / 3000: loss 3.162565"
       ]
      },
      {
       "output_type": "stream",
       "stream": "stdout",
       "text": [
        "\n",
        "iteration 2600 / 3000: loss 2.551252"
       ]
      },
      {
       "output_type": "stream",
       "stream": "stdout",
       "text": [
        "\n",
        "iteration 2700 / 3000: loss 2.731020"
       ]
      },
      {
       "output_type": "stream",
       "stream": "stdout",
       "text": [
        "\n",
        "iteration 2800 / 3000: loss 2.971193"
       ]
      },
      {
       "output_type": "stream",
       "stream": "stdout",
       "text": [
        "\n",
        "iteration 2900 / 3000: loss 3.159070"
       ]
      },
      {
       "output_type": "stream",
       "stream": "stdout",
       "text": [
        "\n",
        "iteration 0 / 3000: loss 8.972424"
       ]
      },
      {
       "output_type": "stream",
       "stream": "stdout",
       "text": [
        "\n",
        "iteration 100 / 3000: loss 4.442684"
       ]
      },
      {
       "output_type": "stream",
       "stream": "stdout",
       "text": [
        "\n",
        "iteration 200 / 3000: loss 4.138233"
       ]
      },
      {
       "output_type": "stream",
       "stream": "stdout",
       "text": [
        "\n",
        "iteration 300 / 3000: loss 3.605588"
       ]
      },
      {
       "output_type": "stream",
       "stream": "stdout",
       "text": [
        "\n",
        "iteration 400 / 3000: loss 3.510077"
       ]
      },
      {
       "output_type": "stream",
       "stream": "stdout",
       "text": [
        "\n",
        "iteration 500 / 3000: loss 3.530680"
       ]
      },
      {
       "output_type": "stream",
       "stream": "stdout",
       "text": [
        "\n",
        "iteration 600 / 3000: loss 3.294478"
       ]
      },
      {
       "output_type": "stream",
       "stream": "stdout",
       "text": [
        "\n",
        "iteration 700 / 3000: loss 3.507142"
       ]
      },
      {
       "output_type": "stream",
       "stream": "stdout",
       "text": [
        "\n",
        "iteration 800 / 3000: loss 3.455186"
       ]
      },
      {
       "output_type": "stream",
       "stream": "stdout",
       "text": [
        "\n",
        "iteration 900 / 3000: loss 2.835865"
       ]
      },
      {
       "output_type": "stream",
       "stream": "stdout",
       "text": [
        "\n",
        "iteration 1000 / 3000: loss 3.312006"
       ]
      },
      {
       "output_type": "stream",
       "stream": "stdout",
       "text": [
        "\n",
        "iteration 1100 / 3000: loss 3.121358"
       ]
      },
      {
       "output_type": "stream",
       "stream": "stdout",
       "text": [
        "\n",
        "iteration 1200 / 3000: loss 2.932864"
       ]
      },
      {
       "output_type": "stream",
       "stream": "stdout",
       "text": [
        "\n",
        "iteration 1300 / 3000: loss 2.588945"
       ]
      },
      {
       "output_type": "stream",
       "stream": "stdout",
       "text": [
        "\n",
        "iteration 1400 / 3000: loss 3.093514"
       ]
      },
      {
       "output_type": "stream",
       "stream": "stdout",
       "text": [
        "\n",
        "iteration 1500 / 3000: loss 3.196162"
       ]
      },
      {
       "output_type": "stream",
       "stream": "stdout",
       "text": [
        "\n",
        "iteration 1600 / 3000: loss 2.996531"
       ]
      },
      {
       "output_type": "stream",
       "stream": "stdout",
       "text": [
        "\n",
        "iteration 1700 / 3000: loss 3.344364"
       ]
      },
      {
       "output_type": "stream",
       "stream": "stdout",
       "text": [
        "\n",
        "iteration 1800 / 3000: loss 2.962048"
       ]
      },
      {
       "output_type": "stream",
       "stream": "stdout",
       "text": [
        "\n",
        "iteration 1900 / 3000: loss 2.713209"
       ]
      },
      {
       "output_type": "stream",
       "stream": "stdout",
       "text": [
        "\n",
        "iteration 2000 / 3000: loss 2.685392"
       ]
      },
      {
       "output_type": "stream",
       "stream": "stdout",
       "text": [
        "\n",
        "iteration 2100 / 3000: loss 3.321754"
       ]
      },
      {
       "output_type": "stream",
       "stream": "stdout",
       "text": [
        "\n",
        "iteration 2200 / 3000: loss 3.262606"
       ]
      },
      {
       "output_type": "stream",
       "stream": "stdout",
       "text": [
        "\n",
        "iteration 2300 / 3000: loss 2.702863"
       ]
      },
      {
       "output_type": "stream",
       "stream": "stdout",
       "text": [
        "\n",
        "iteration 2400 / 3000: loss 3.204300"
       ]
      },
      {
       "output_type": "stream",
       "stream": "stdout",
       "text": [
        "\n",
        "iteration 2500 / 3000: loss 2.998015"
       ]
      },
      {
       "output_type": "stream",
       "stream": "stdout",
       "text": [
        "\n",
        "iteration 2600 / 3000: loss 2.945446"
       ]
      },
      {
       "output_type": "stream",
       "stream": "stdout",
       "text": [
        "\n",
        "iteration 2700 / 3000: loss 2.846424"
       ]
      },
      {
       "output_type": "stream",
       "stream": "stdout",
       "text": [
        "\n",
        "iteration 2800 / 3000: loss 2.713082"
       ]
      },
      {
       "output_type": "stream",
       "stream": "stdout",
       "text": [
        "\n",
        "iteration 2900 / 3000: loss 2.971620"
       ]
      },
      {
       "output_type": "stream",
       "stream": "stdout",
       "text": [
        "\n",
        "iteration 0 / 3000: loss 8.979490"
       ]
      },
      {
       "output_type": "stream",
       "stream": "stdout",
       "text": [
        "\n",
        "iteration 100 / 3000: loss 4.987717"
       ]
      },
      {
       "output_type": "stream",
       "stream": "stdout",
       "text": [
        "\n",
        "iteration 200 / 3000: loss 3.971092"
       ]
      },
      {
       "output_type": "stream",
       "stream": "stdout",
       "text": [
        "\n",
        "iteration 300 / 3000: loss 3.780194"
       ]
      },
      {
       "output_type": "stream",
       "stream": "stdout",
       "text": [
        "\n",
        "iteration 400 / 3000: loss 3.221882"
       ]
      },
      {
       "output_type": "stream",
       "stream": "stdout",
       "text": [
        "\n",
        "iteration 500 / 3000: loss 3.595630"
       ]
      },
      {
       "output_type": "stream",
       "stream": "stdout",
       "text": [
        "\n",
        "iteration 600 / 3000: loss 3.244001"
       ]
      },
      {
       "output_type": "stream",
       "stream": "stdout",
       "text": [
        "\n",
        "iteration 700 / 3000: loss 3.882439"
       ]
      },
      {
       "output_type": "stream",
       "stream": "stdout",
       "text": [
        "\n",
        "iteration 800 / 3000: loss 2.891301"
       ]
      },
      {
       "output_type": "stream",
       "stream": "stdout",
       "text": [
        "\n",
        "iteration 900 / 3000: loss 3.411043"
       ]
      },
      {
       "output_type": "stream",
       "stream": "stdout",
       "text": [
        "\n",
        "iteration 1000 / 3000: loss 3.358828"
       ]
      },
      {
       "output_type": "stream",
       "stream": "stdout",
       "text": [
        "\n",
        "iteration 1100 / 3000: loss 3.826461"
       ]
      },
      {
       "output_type": "stream",
       "stream": "stdout",
       "text": [
        "\n",
        "iteration 1200 / 3000: loss 2.561496"
       ]
      },
      {
       "output_type": "stream",
       "stream": "stdout",
       "text": [
        "\n",
        "iteration 1300 / 3000: loss 3.404587"
       ]
      },
      {
       "output_type": "stream",
       "stream": "stdout",
       "text": [
        "\n",
        "iteration 1400 / 3000: loss 2.790233"
       ]
      },
      {
       "output_type": "stream",
       "stream": "stdout",
       "text": [
        "\n",
        "iteration 1500 / 3000: loss 3.361435"
       ]
      },
      {
       "output_type": "stream",
       "stream": "stdout",
       "text": [
        "\n",
        "iteration 1600 / 3000: loss 2.842336"
       ]
      },
      {
       "output_type": "stream",
       "stream": "stdout",
       "text": [
        "\n",
        "iteration 1700 / 3000: loss 2.987006"
       ]
      },
      {
       "output_type": "stream",
       "stream": "stdout",
       "text": [
        "\n",
        "iteration 1800 / 3000: loss 2.733072"
       ]
      },
      {
       "output_type": "stream",
       "stream": "stdout",
       "text": [
        "\n",
        "iteration 1900 / 3000: loss 2.901423"
       ]
      },
      {
       "output_type": "stream",
       "stream": "stdout",
       "text": [
        "\n",
        "iteration 2000 / 3000: loss 3.004984"
       ]
      },
      {
       "output_type": "stream",
       "stream": "stdout",
       "text": [
        "\n",
        "iteration 2100 / 3000: loss 3.094719"
       ]
      },
      {
       "output_type": "stream",
       "stream": "stdout",
       "text": [
        "\n",
        "iteration 2200 / 3000: loss 3.418310"
       ]
      },
      {
       "output_type": "stream",
       "stream": "stdout",
       "text": [
        "\n",
        "iteration 2300 / 3000: loss 2.717556"
       ]
      },
      {
       "output_type": "stream",
       "stream": "stdout",
       "text": [
        "\n",
        "iteration 2400 / 3000: loss 3.141026"
       ]
      },
      {
       "output_type": "stream",
       "stream": "stdout",
       "text": [
        "\n",
        "iteration 2500 / 3000: loss 3.363286"
       ]
      },
      {
       "output_type": "stream",
       "stream": "stdout",
       "text": [
        "\n",
        "iteration 2600 / 3000: loss 3.093068"
       ]
      },
      {
       "output_type": "stream",
       "stream": "stdout",
       "text": [
        "\n",
        "iteration 2700 / 3000: loss 3.166350"
       ]
      },
      {
       "output_type": "stream",
       "stream": "stdout",
       "text": [
        "\n",
        "iteration 2800 / 3000: loss 3.302421"
       ]
      },
      {
       "output_type": "stream",
       "stream": "stdout",
       "text": [
        "\n",
        "iteration 2900 / 3000: loss 3.022279"
       ]
      },
      {
       "output_type": "stream",
       "stream": "stdout",
       "text": [
        "\n",
        "iteration 0 / 3000: loss 9.005086"
       ]
      },
      {
       "output_type": "stream",
       "stream": "stdout",
       "text": [
        "\n",
        "iteration 100 / 3000: loss 4.559667"
       ]
      },
      {
       "output_type": "stream",
       "stream": "stdout",
       "text": [
        "\n",
        "iteration 200 / 3000: loss 4.613337"
       ]
      },
      {
       "output_type": "stream",
       "stream": "stdout",
       "text": [
        "\n",
        "iteration 300 / 3000: loss 3.756685"
       ]
      },
      {
       "output_type": "stream",
       "stream": "stdout",
       "text": [
        "\n",
        "iteration 400 / 3000: loss 3.550815"
       ]
      },
      {
       "output_type": "stream",
       "stream": "stdout",
       "text": [
        "\n",
        "iteration 500 / 3000: loss 3.433739"
       ]
      },
      {
       "output_type": "stream",
       "stream": "stdout",
       "text": [
        "\n",
        "iteration 600 / 3000: loss 3.255715"
       ]
      },
      {
       "output_type": "stream",
       "stream": "stdout",
       "text": [
        "\n",
        "iteration 700 / 3000: loss 3.118611"
       ]
      },
      {
       "output_type": "stream",
       "stream": "stdout",
       "text": [
        "\n",
        "iteration 800 / 3000: loss 3.068668"
       ]
      },
      {
       "output_type": "stream",
       "stream": "stdout",
       "text": [
        "\n",
        "iteration 900 / 3000: loss 2.879534"
       ]
      },
      {
       "output_type": "stream",
       "stream": "stdout",
       "text": [
        "\n",
        "iteration 1000 / 3000: loss 2.905594"
       ]
      },
      {
       "output_type": "stream",
       "stream": "stdout",
       "text": [
        "\n",
        "iteration 1100 / 3000: loss 2.867890"
       ]
      },
      {
       "output_type": "stream",
       "stream": "stdout",
       "text": [
        "\n",
        "iteration 1200 / 3000: loss 3.275426"
       ]
      },
      {
       "output_type": "stream",
       "stream": "stdout",
       "text": [
        "\n",
        "iteration 1300 / 3000: loss 3.128328"
       ]
      },
      {
       "output_type": "stream",
       "stream": "stdout",
       "text": [
        "\n",
        "iteration 1400 / 3000: loss 3.107863"
       ]
      },
      {
       "output_type": "stream",
       "stream": "stdout",
       "text": [
        "\n",
        "iteration 1500 / 3000: loss 3.027312"
       ]
      },
      {
       "output_type": "stream",
       "stream": "stdout",
       "text": [
        "\n",
        "iteration 1600 / 3000: loss 2.936788"
       ]
      },
      {
       "output_type": "stream",
       "stream": "stdout",
       "text": [
        "\n",
        "iteration 1700 / 3000: loss 2.857725"
       ]
      },
      {
       "output_type": "stream",
       "stream": "stdout",
       "text": [
        "\n",
        "iteration 1800 / 3000: loss 2.947830"
       ]
      },
      {
       "output_type": "stream",
       "stream": "stdout",
       "text": [
        "\n",
        "iteration 1900 / 3000: loss 3.092073"
       ]
      },
      {
       "output_type": "stream",
       "stream": "stdout",
       "text": [
        "\n",
        "iteration 2000 / 3000: loss 3.002729"
       ]
      },
      {
       "output_type": "stream",
       "stream": "stdout",
       "text": [
        "\n",
        "iteration 2100 / 3000: loss 3.311115"
       ]
      },
      {
       "output_type": "stream",
       "stream": "stdout",
       "text": [
        "\n",
        "iteration 2200 / 3000: loss 2.707113"
       ]
      },
      {
       "output_type": "stream",
       "stream": "stdout",
       "text": [
        "\n",
        "iteration 2300 / 3000: loss 2.842715"
       ]
      },
      {
       "output_type": "stream",
       "stream": "stdout",
       "text": [
        "\n",
        "iteration 2400 / 3000: loss 3.448204"
       ]
      },
      {
       "output_type": "stream",
       "stream": "stdout",
       "text": [
        "\n",
        "iteration 2500 / 3000: loss 2.940450"
       ]
      },
      {
       "output_type": "stream",
       "stream": "stdout",
       "text": [
        "\n",
        "iteration 2600 / 3000: loss 3.307874"
       ]
      },
      {
       "output_type": "stream",
       "stream": "stdout",
       "text": [
        "\n",
        "iteration 2700 / 3000: loss 3.069306"
       ]
      },
      {
       "output_type": "stream",
       "stream": "stdout",
       "text": [
        "\n",
        "iteration 2800 / 3000: loss 3.119155"
       ]
      },
      {
       "output_type": "stream",
       "stream": "stdout",
       "text": [
        "\n",
        "iteration 2900 / 3000: loss 3.390418"
       ]
      },
      {
       "output_type": "stream",
       "stream": "stdout",
       "text": [
        "\n",
        "iteration 0 / 3000: loss 8.996955"
       ]
      },
      {
       "output_type": "stream",
       "stream": "stdout",
       "text": [
        "\n",
        "iteration 100 / 3000: loss 8.212547"
       ]
      },
      {
       "output_type": "stream",
       "stream": "stdout",
       "text": [
        "\n",
        "iteration 200 / 3000: loss 7.546303"
       ]
      },
      {
       "output_type": "stream",
       "stream": "stdout",
       "text": [
        "\n",
        "iteration 300 / 3000: loss 6.963969"
       ]
      },
      {
       "output_type": "stream",
       "stream": "stdout",
       "text": [
        "\n",
        "iteration 400 / 3000: loss 6.290524"
       ]
      },
      {
       "output_type": "stream",
       "stream": "stdout",
       "text": [
        "\n",
        "iteration 500 / 3000: loss 5.775969"
       ]
      },
      {
       "output_type": "stream",
       "stream": "stdout",
       "text": [
        "\n",
        "iteration 600 / 3000: loss 5.779392"
       ]
      },
      {
       "output_type": "stream",
       "stream": "stdout",
       "text": [
        "\n",
        "iteration 700 / 3000: loss 5.530112"
       ]
      },
      {
       "output_type": "stream",
       "stream": "stdout",
       "text": [
        "\n",
        "iteration 800 / 3000: loss 4.739008"
       ]
      },
      {
       "output_type": "stream",
       "stream": "stdout",
       "text": [
        "\n",
        "iteration 900 / 3000: loss 4.919446"
       ]
      },
      {
       "output_type": "stream",
       "stream": "stdout",
       "text": [
        "\n",
        "iteration 1000 / 3000: loss 4.884214"
       ]
      },
      {
       "output_type": "stream",
       "stream": "stdout",
       "text": [
        "\n",
        "iteration 1100 / 3000: loss 4.759997"
       ]
      },
      {
       "output_type": "stream",
       "stream": "stdout",
       "text": [
        "\n",
        "iteration 1200 / 3000: loss 4.744839"
       ]
      },
      {
       "output_type": "stream",
       "stream": "stdout",
       "text": [
        "\n",
        "iteration 1300 / 3000: loss 5.067117"
       ]
      },
      {
       "output_type": "stream",
       "stream": "stdout",
       "text": [
        "\n",
        "iteration 1400 / 3000: loss 4.760447"
       ]
      },
      {
       "output_type": "stream",
       "stream": "stdout",
       "text": [
        "\n",
        "iteration 1500 / 3000: loss 4.331022"
       ]
      },
      {
       "output_type": "stream",
       "stream": "stdout",
       "text": [
        "\n",
        "iteration 1600 / 3000: loss 4.741243"
       ]
      },
      {
       "output_type": "stream",
       "stream": "stdout",
       "text": [
        "\n",
        "iteration 1700 / 3000: loss 4.558597"
       ]
      },
      {
       "output_type": "stream",
       "stream": "stdout",
       "text": [
        "\n",
        "iteration 1800 / 3000: loss 4.439578"
       ]
      },
      {
       "output_type": "stream",
       "stream": "stdout",
       "text": [
        "\n",
        "iteration 1900 / 3000: loss 4.552842"
       ]
      },
      {
       "output_type": "stream",
       "stream": "stdout",
       "text": [
        "\n",
        "iteration 2000 / 3000: loss 4.288216"
       ]
      },
      {
       "output_type": "stream",
       "stream": "stdout",
       "text": [
        "\n",
        "iteration 2100 / 3000: loss 4.327723"
       ]
      },
      {
       "output_type": "stream",
       "stream": "stdout",
       "text": [
        "\n",
        "iteration 2200 / 3000: loss 4.074480"
       ]
      },
      {
       "output_type": "stream",
       "stream": "stdout",
       "text": [
        "\n",
        "iteration 2300 / 3000: loss 4.089140"
       ]
      },
      {
       "output_type": "stream",
       "stream": "stdout",
       "text": [
        "\n",
        "iteration 2400 / 3000: loss 4.261324"
       ]
      },
      {
       "output_type": "stream",
       "stream": "stdout",
       "text": [
        "\n",
        "iteration 2500 / 3000: loss 4.017520"
       ]
      },
      {
       "output_type": "stream",
       "stream": "stdout",
       "text": [
        "\n",
        "iteration 2600 / 3000: loss 3.863044"
       ]
      },
      {
       "output_type": "stream",
       "stream": "stdout",
       "text": [
        "\n",
        "iteration 2700 / 3000: loss 4.128297"
       ]
      },
      {
       "output_type": "stream",
       "stream": "stdout",
       "text": [
        "\n",
        "iteration 2800 / 3000: loss 4.099771"
       ]
      },
      {
       "output_type": "stream",
       "stream": "stdout",
       "text": [
        "\n",
        "iteration 2900 / 3000: loss 4.176350"
       ]
      },
      {
       "output_type": "stream",
       "stream": "stdout",
       "text": [
        "\n",
        "iteration 0 / 3000: loss 8.992385"
       ]
      },
      {
       "output_type": "stream",
       "stream": "stdout",
       "text": [
        "\n",
        "iteration 100 / 3000: loss 8.319300"
       ]
      },
      {
       "output_type": "stream",
       "stream": "stdout",
       "text": [
        "\n",
        "iteration 200 / 3000: loss 7.532151"
       ]
      },
      {
       "output_type": "stream",
       "stream": "stdout",
       "text": [
        "\n",
        "iteration 300 / 3000: loss 6.696268"
       ]
      },
      {
       "output_type": "stream",
       "stream": "stdout",
       "text": [
        "\n",
        "iteration 400 / 3000: loss 6.397973"
       ]
      },
      {
       "output_type": "stream",
       "stream": "stdout",
       "text": [
        "\n",
        "iteration 500 / 3000: loss 5.679504"
       ]
      },
      {
       "output_type": "stream",
       "stream": "stdout",
       "text": [
        "\n",
        "iteration 600 / 3000: loss 5.243510"
       ]
      },
      {
       "output_type": "stream",
       "stream": "stdout",
       "text": [
        "\n",
        "iteration 700 / 3000: loss 5.546887"
       ]
      },
      {
       "output_type": "stream",
       "stream": "stdout",
       "text": [
        "\n",
        "iteration 800 / 3000: loss 5.222840"
       ]
      },
      {
       "output_type": "stream",
       "stream": "stdout",
       "text": [
        "\n",
        "iteration 900 / 3000: loss 4.996459"
       ]
      },
      {
       "output_type": "stream",
       "stream": "stdout",
       "text": [
        "\n",
        "iteration 1000 / 3000: loss 4.800649"
       ]
      },
      {
       "output_type": "stream",
       "stream": "stdout",
       "text": [
        "\n",
        "iteration 1100 / 3000: loss 4.591188"
       ]
      },
      {
       "output_type": "stream",
       "stream": "stdout",
       "text": [
        "\n",
        "iteration 1200 / 3000: loss 4.374094"
       ]
      },
      {
       "output_type": "stream",
       "stream": "stdout",
       "text": [
        "\n",
        "iteration 1300 / 3000: loss 4.902467"
       ]
      },
      {
       "output_type": "stream",
       "stream": "stdout",
       "text": [
        "\n",
        "iteration 1400 / 3000: loss 4.388111"
       ]
      },
      {
       "output_type": "stream",
       "stream": "stdout",
       "text": [
        "\n",
        "iteration 1500 / 3000: loss 4.545811"
       ]
      },
      {
       "output_type": "stream",
       "stream": "stdout",
       "text": [
        "\n",
        "iteration 1600 / 3000: loss 4.598947"
       ]
      },
      {
       "output_type": "stream",
       "stream": "stdout",
       "text": [
        "\n",
        "iteration 1700 / 3000: loss 4.180851"
       ]
      },
      {
       "output_type": "stream",
       "stream": "stdout",
       "text": [
        "\n",
        "iteration 1800 / 3000: loss 4.232516"
       ]
      },
      {
       "output_type": "stream",
       "stream": "stdout",
       "text": [
        "\n",
        "iteration 1900 / 3000: loss 3.780979"
       ]
      },
      {
       "output_type": "stream",
       "stream": "stdout",
       "text": [
        "\n",
        "iteration 2000 / 3000: loss 4.129706"
       ]
      },
      {
       "output_type": "stream",
       "stream": "stdout",
       "text": [
        "\n",
        "iteration 2100 / 3000: loss 4.273645"
       ]
      },
      {
       "output_type": "stream",
       "stream": "stdout",
       "text": [
        "\n",
        "iteration 2200 / 3000: loss 4.480082"
       ]
      },
      {
       "output_type": "stream",
       "stream": "stdout",
       "text": [
        "\n",
        "iteration 2300 / 3000: loss 3.710719"
       ]
      },
      {
       "output_type": "stream",
       "stream": "stdout",
       "text": [
        "\n",
        "iteration 2400 / 3000: loss 4.075253"
       ]
      },
      {
       "output_type": "stream",
       "stream": "stdout",
       "text": [
        "\n",
        "iteration 2500 / 3000: loss 4.484264"
       ]
      },
      {
       "output_type": "stream",
       "stream": "stdout",
       "text": [
        "\n",
        "iteration 2600 / 3000: loss 3.629774"
       ]
      },
      {
       "output_type": "stream",
       "stream": "stdout",
       "text": [
        "\n",
        "iteration 2700 / 3000: loss 3.790386"
       ]
      },
      {
       "output_type": "stream",
       "stream": "stdout",
       "text": [
        "\n",
        "iteration 2800 / 3000: loss 3.927933"
       ]
      },
      {
       "output_type": "stream",
       "stream": "stdout",
       "text": [
        "\n",
        "iteration 2900 / 3000: loss 3.653753"
       ]
      },
      {
       "output_type": "stream",
       "stream": "stdout",
       "text": [
        "\n",
        "iteration 0 / 3000: loss 9.011081"
       ]
      },
      {
       "output_type": "stream",
       "stream": "stdout",
       "text": [
        "\n",
        "iteration 100 / 3000: loss 8.254264"
       ]
      },
      {
       "output_type": "stream",
       "stream": "stdout",
       "text": [
        "\n",
        "iteration 200 / 3000: loss 7.605411"
       ]
      },
      {
       "output_type": "stream",
       "stream": "stdout",
       "text": [
        "\n",
        "iteration 300 / 3000: loss 6.981949"
       ]
      },
      {
       "output_type": "stream",
       "stream": "stdout",
       "text": [
        "\n",
        "iteration 400 / 3000: loss 6.410475"
       ]
      },
      {
       "output_type": "stream",
       "stream": "stdout",
       "text": [
        "\n",
        "iteration 500 / 3000: loss 5.934417"
       ]
      },
      {
       "output_type": "stream",
       "stream": "stdout",
       "text": [
        "\n",
        "iteration 600 / 3000: loss 5.538369"
       ]
      },
      {
       "output_type": "stream",
       "stream": "stdout",
       "text": [
        "\n",
        "iteration 700 / 3000: loss 5.395353"
       ]
      },
      {
       "output_type": "stream",
       "stream": "stdout",
       "text": [
        "\n",
        "iteration 800 / 3000: loss 5.128427"
       ]
      },
      {
       "output_type": "stream",
       "stream": "stdout",
       "text": [
        "\n",
        "iteration 900 / 3000: loss 5.158627"
       ]
      },
      {
       "output_type": "stream",
       "stream": "stdout",
       "text": [
        "\n",
        "iteration 1000 / 3000: loss 4.879100"
       ]
      },
      {
       "output_type": "stream",
       "stream": "stdout",
       "text": [
        "\n",
        "iteration 1100 / 3000: loss 4.522813"
       ]
      },
      {
       "output_type": "stream",
       "stream": "stdout",
       "text": [
        "\n",
        "iteration 1200 / 3000: loss 4.999276"
       ]
      },
      {
       "output_type": "stream",
       "stream": "stdout",
       "text": [
        "\n",
        "iteration 1300 / 3000: loss 4.532997"
       ]
      },
      {
       "output_type": "stream",
       "stream": "stdout",
       "text": [
        "\n",
        "iteration 1400 / 3000: loss 4.292128"
       ]
      },
      {
       "output_type": "stream",
       "stream": "stdout",
       "text": [
        "\n",
        "iteration 1500 / 3000: loss 4.756857"
       ]
      },
      {
       "output_type": "stream",
       "stream": "stdout",
       "text": [
        "\n",
        "iteration 1600 / 3000: loss 4.143512"
       ]
      },
      {
       "output_type": "stream",
       "stream": "stdout",
       "text": [
        "\n",
        "iteration 1700 / 3000: loss 4.039267"
       ]
      },
      {
       "output_type": "stream",
       "stream": "stdout",
       "text": [
        "\n",
        "iteration 1800 / 3000: loss 4.334743"
       ]
      },
      {
       "output_type": "stream",
       "stream": "stdout",
       "text": [
        "\n",
        "iteration 1900 / 3000: loss 4.034802"
       ]
      },
      {
       "output_type": "stream",
       "stream": "stdout",
       "text": [
        "\n",
        "iteration 2000 / 3000: loss 4.272580"
       ]
      },
      {
       "output_type": "stream",
       "stream": "stdout",
       "text": [
        "\n",
        "iteration 2100 / 3000: loss 4.260078"
       ]
      },
      {
       "output_type": "stream",
       "stream": "stdout",
       "text": [
        "\n",
        "iteration 2200 / 3000: loss 3.918745"
       ]
      },
      {
       "output_type": "stream",
       "stream": "stdout",
       "text": [
        "\n",
        "iteration 2300 / 3000: loss 4.100603"
       ]
      },
      {
       "output_type": "stream",
       "stream": "stdout",
       "text": [
        "\n",
        "iteration 2400 / 3000: loss 4.186738"
       ]
      },
      {
       "output_type": "stream",
       "stream": "stdout",
       "text": [
        "\n",
        "iteration 2500 / 3000: loss 4.294322"
       ]
      },
      {
       "output_type": "stream",
       "stream": "stdout",
       "text": [
        "\n",
        "iteration 2600 / 3000: loss 4.114801"
       ]
      },
      {
       "output_type": "stream",
       "stream": "stdout",
       "text": [
        "\n",
        "iteration 2700 / 3000: loss 3.869081"
       ]
      },
      {
       "output_type": "stream",
       "stream": "stdout",
       "text": [
        "\n",
        "iteration 2800 / 3000: loss 4.053745"
       ]
      },
      {
       "output_type": "stream",
       "stream": "stdout",
       "text": [
        "\n",
        "iteration 2900 / 3000: loss 4.014699"
       ]
      },
      {
       "output_type": "stream",
       "stream": "stdout",
       "text": [
        "\n",
        "iteration 0 / 3000: loss 9.006886"
       ]
      },
      {
       "output_type": "stream",
       "stream": "stdout",
       "text": [
        "\n",
        "iteration 100 / 3000: loss 8.341970"
       ]
      },
      {
       "output_type": "stream",
       "stream": "stdout",
       "text": [
        "\n",
        "iteration 200 / 3000: loss 7.539323"
       ]
      },
      {
       "output_type": "stream",
       "stream": "stdout",
       "text": [
        "\n",
        "iteration 300 / 3000: loss 6.730466"
       ]
      },
      {
       "output_type": "stream",
       "stream": "stdout",
       "text": [
        "\n",
        "iteration 400 / 3000: loss 6.138732"
       ]
      },
      {
       "output_type": "stream",
       "stream": "stdout",
       "text": [
        "\n",
        "iteration 500 / 3000: loss 5.559441"
       ]
      },
      {
       "output_type": "stream",
       "stream": "stdout",
       "text": [
        "\n",
        "iteration 600 / 3000: loss 5.868178"
       ]
      },
      {
       "output_type": "stream",
       "stream": "stdout",
       "text": [
        "\n",
        "iteration 700 / 3000: loss 5.406587"
       ]
      },
      {
       "output_type": "stream",
       "stream": "stdout",
       "text": [
        "\n",
        "iteration 800 / 3000: loss 4.927126"
       ]
      },
      {
       "output_type": "stream",
       "stream": "stdout",
       "text": [
        "\n",
        "iteration 900 / 3000: loss 4.888110"
       ]
      },
      {
       "output_type": "stream",
       "stream": "stdout",
       "text": [
        "\n",
        "iteration 1000 / 3000: loss 5.058461"
       ]
      },
      {
       "output_type": "stream",
       "stream": "stdout",
       "text": [
        "\n",
        "iteration 1100 / 3000: loss 4.818248"
       ]
      },
      {
       "output_type": "stream",
       "stream": "stdout",
       "text": [
        "\n",
        "iteration 1200 / 3000: loss 4.876985"
       ]
      },
      {
       "output_type": "stream",
       "stream": "stdout",
       "text": [
        "\n",
        "iteration 1300 / 3000: loss 4.685840"
       ]
      },
      {
       "output_type": "stream",
       "stream": "stdout",
       "text": [
        "\n",
        "iteration 1400 / 3000: loss 4.252002"
       ]
      },
      {
       "output_type": "stream",
       "stream": "stdout",
       "text": [
        "\n",
        "iteration 1500 / 3000: loss 4.224888"
       ]
      },
      {
       "output_type": "stream",
       "stream": "stdout",
       "text": [
        "\n",
        "iteration 1600 / 3000: loss 3.987942"
       ]
      },
      {
       "output_type": "stream",
       "stream": "stdout",
       "text": [
        "\n",
        "iteration 1700 / 3000: loss 4.673339"
       ]
      },
      {
       "output_type": "stream",
       "stream": "stdout",
       "text": [
        "\n",
        "iteration 1800 / 3000: loss 4.103147"
       ]
      },
      {
       "output_type": "stream",
       "stream": "stdout",
       "text": [
        "\n",
        "iteration 1900 / 3000: loss 4.040202"
       ]
      },
      {
       "output_type": "stream",
       "stream": "stdout",
       "text": [
        "\n",
        "iteration 2000 / 3000: loss 4.013663"
       ]
      },
      {
       "output_type": "stream",
       "stream": "stdout",
       "text": [
        "\n",
        "iteration 2100 / 3000: loss 4.025711"
       ]
      },
      {
       "output_type": "stream",
       "stream": "stdout",
       "text": [
        "\n",
        "iteration 2200 / 3000: loss 3.969976"
       ]
      },
      {
       "output_type": "stream",
       "stream": "stdout",
       "text": [
        "\n",
        "iteration 2300 / 3000: loss 4.554643"
       ]
      },
      {
       "output_type": "stream",
       "stream": "stdout",
       "text": [
        "\n",
        "iteration 2400 / 3000: loss 3.951172"
       ]
      },
      {
       "output_type": "stream",
       "stream": "stdout",
       "text": [
        "\n",
        "iteration 2500 / 3000: loss 4.098678"
       ]
      },
      {
       "output_type": "stream",
       "stream": "stdout",
       "text": [
        "\n",
        "iteration 2600 / 3000: loss 3.673076"
       ]
      },
      {
       "output_type": "stream",
       "stream": "stdout",
       "text": [
        "\n",
        "iteration 2700 / 3000: loss 3.759176"
       ]
      },
      {
       "output_type": "stream",
       "stream": "stdout",
       "text": [
        "\n",
        "iteration 2800 / 3000: loss 3.737705"
       ]
      },
      {
       "output_type": "stream",
       "stream": "stdout",
       "text": [
        "\n",
        "iteration 2900 / 3000: loss 3.845705"
       ]
      },
      {
       "output_type": "stream",
       "stream": "stdout",
       "text": [
        "\n",
        "iteration 0 / 3000: loss 8.999714"
       ]
      },
      {
       "output_type": "stream",
       "stream": "stdout",
       "text": [
        "\n",
        "iteration 100 / 3000: loss 8.303746"
       ]
      },
      {
       "output_type": "stream",
       "stream": "stdout",
       "text": [
        "\n",
        "iteration 200 / 3000: loss 7.713649"
       ]
      },
      {
       "output_type": "stream",
       "stream": "stdout",
       "text": [
        "\n",
        "iteration 300 / 3000: loss 6.979991"
       ]
      },
      {
       "output_type": "stream",
       "stream": "stdout",
       "text": [
        "\n",
        "iteration 400 / 3000: loss 6.267382"
       ]
      },
      {
       "output_type": "stream",
       "stream": "stdout",
       "text": [
        "\n",
        "iteration 500 / 3000: loss 6.035892"
       ]
      },
      {
       "output_type": "stream",
       "stream": "stdout",
       "text": [
        "\n",
        "iteration 600 / 3000: loss 5.460050"
       ]
      },
      {
       "output_type": "stream",
       "stream": "stdout",
       "text": [
        "\n",
        "iteration 700 / 3000: loss 5.364649"
       ]
      },
      {
       "output_type": "stream",
       "stream": "stdout",
       "text": [
        "\n",
        "iteration 800 / 3000: loss 4.799713"
       ]
      },
      {
       "output_type": "stream",
       "stream": "stdout",
       "text": [
        "\n",
        "iteration 900 / 3000: loss 4.711398"
       ]
      },
      {
       "output_type": "stream",
       "stream": "stdout",
       "text": [
        "\n",
        "iteration 1000 / 3000: loss 4.914574"
       ]
      },
      {
       "output_type": "stream",
       "stream": "stdout",
       "text": [
        "\n",
        "iteration 1100 / 3000: loss 4.607739"
       ]
      },
      {
       "output_type": "stream",
       "stream": "stdout",
       "text": [
        "\n",
        "iteration 1200 / 3000: loss 4.609314"
       ]
      },
      {
       "output_type": "stream",
       "stream": "stdout",
       "text": [
        "\n",
        "iteration 1300 / 3000: loss 4.777797"
       ]
      },
      {
       "output_type": "stream",
       "stream": "stdout",
       "text": [
        "\n",
        "iteration 1400 / 3000: loss 4.727640"
       ]
      },
      {
       "output_type": "stream",
       "stream": "stdout",
       "text": [
        "\n",
        "iteration 1500 / 3000: loss 4.403099"
       ]
      },
      {
       "output_type": "stream",
       "stream": "stdout",
       "text": [
        "\n",
        "iteration 1600 / 3000: loss 4.135378"
       ]
      },
      {
       "output_type": "stream",
       "stream": "stdout",
       "text": [
        "\n",
        "iteration 1700 / 3000: loss 4.197119"
       ]
      },
      {
       "output_type": "stream",
       "stream": "stdout",
       "text": [
        "\n",
        "iteration 1800 / 3000: loss 4.403568"
       ]
      },
      {
       "output_type": "stream",
       "stream": "stdout",
       "text": [
        "\n",
        "iteration 1900 / 3000: loss 4.702333"
       ]
      },
      {
       "output_type": "stream",
       "stream": "stdout",
       "text": [
        "\n",
        "iteration 2000 / 3000: loss 4.211418"
       ]
      },
      {
       "output_type": "stream",
       "stream": "stdout",
       "text": [
        "\n",
        "iteration 2100 / 3000: loss 4.316431"
       ]
      },
      {
       "output_type": "stream",
       "stream": "stdout",
       "text": [
        "\n",
        "iteration 2200 / 3000: loss 4.463315"
       ]
      },
      {
       "output_type": "stream",
       "stream": "stdout",
       "text": [
        "\n",
        "iteration 2300 / 3000: loss 3.743783"
       ]
      },
      {
       "output_type": "stream",
       "stream": "stdout",
       "text": [
        "\n",
        "iteration 2400 / 3000: loss 3.867408"
       ]
      },
      {
       "output_type": "stream",
       "stream": "stdout",
       "text": [
        "\n",
        "iteration 2500 / 3000: loss 4.043255"
       ]
      },
      {
       "output_type": "stream",
       "stream": "stdout",
       "text": [
        "\n",
        "iteration 2600 / 3000: loss 3.531129"
       ]
      },
      {
       "output_type": "stream",
       "stream": "stdout",
       "text": [
        "\n",
        "iteration 2700 / 3000: loss 4.230201"
       ]
      },
      {
       "output_type": "stream",
       "stream": "stdout",
       "text": [
        "\n",
        "iteration 2800 / 3000: loss 3.333942"
       ]
      },
      {
       "output_type": "stream",
       "stream": "stdout",
       "text": [
        "\n",
        "iteration 2900 / 3000: loss 3.905086"
       ]
      },
      {
       "output_type": "stream",
       "stream": "stdout",
       "text": [
        "\n",
        "iteration 0 / 3000: loss 8.991479"
       ]
      },
      {
       "output_type": "stream",
       "stream": "stdout",
       "text": [
        "\n",
        "iteration 100 / 3000: loss 8.215088"
       ]
      },
      {
       "output_type": "stream",
       "stream": "stdout",
       "text": [
        "\n",
        "iteration 200 / 3000: loss 7.728787"
       ]
      },
      {
       "output_type": "stream",
       "stream": "stdout",
       "text": [
        "\n",
        "iteration 300 / 3000: loss 7.182750"
       ]
      },
      {
       "output_type": "stream",
       "stream": "stdout",
       "text": [
        "\n",
        "iteration 400 / 3000: loss 6.386240"
       ]
      },
      {
       "output_type": "stream",
       "stream": "stdout",
       "text": [
        "\n",
        "iteration 500 / 3000: loss 5.611961"
       ]
      },
      {
       "output_type": "stream",
       "stream": "stdout",
       "text": [
        "\n",
        "iteration 600 / 3000: loss 5.772114"
       ]
      },
      {
       "output_type": "stream",
       "stream": "stdout",
       "text": [
        "\n",
        "iteration 700 / 3000: loss 5.596381"
       ]
      },
      {
       "output_type": "stream",
       "stream": "stdout",
       "text": [
        "\n",
        "iteration 800 / 3000: loss 5.165101"
       ]
      },
      {
       "output_type": "stream",
       "stream": "stdout",
       "text": [
        "\n",
        "iteration 900 / 3000: loss 5.047193"
       ]
      },
      {
       "output_type": "stream",
       "stream": "stdout",
       "text": [
        "\n",
        "iteration 1000 / 3000: loss 4.377595"
       ]
      },
      {
       "output_type": "stream",
       "stream": "stdout",
       "text": [
        "\n",
        "iteration 1100 / 3000: loss 4.868229"
       ]
      },
      {
       "output_type": "stream",
       "stream": "stdout",
       "text": [
        "\n",
        "iteration 1200 / 3000: loss 4.522995"
       ]
      },
      {
       "output_type": "stream",
       "stream": "stdout",
       "text": [
        "\n",
        "iteration 1300 / 3000: loss 3.947553"
       ]
      },
      {
       "output_type": "stream",
       "stream": "stdout",
       "text": [
        "\n",
        "iteration 1400 / 3000: loss 4.460213"
       ]
      },
      {
       "output_type": "stream",
       "stream": "stdout",
       "text": [
        "\n",
        "iteration 1500 / 3000: loss 4.278624"
       ]
      },
      {
       "output_type": "stream",
       "stream": "stdout",
       "text": [
        "\n",
        "iteration 1600 / 3000: loss 4.491815"
       ]
      },
      {
       "output_type": "stream",
       "stream": "stdout",
       "text": [
        "\n",
        "iteration 1700 / 3000: loss 3.907204"
       ]
      },
      {
       "output_type": "stream",
       "stream": "stdout",
       "text": [
        "\n",
        "iteration 1800 / 3000: loss 4.125515"
       ]
      },
      {
       "output_type": "stream",
       "stream": "stdout",
       "text": [
        "\n",
        "iteration 1900 / 3000: loss 4.083783"
       ]
      },
      {
       "output_type": "stream",
       "stream": "stdout",
       "text": [
        "\n",
        "iteration 2000 / 3000: loss 3.954618"
       ]
      },
      {
       "output_type": "stream",
       "stream": "stdout",
       "text": [
        "\n",
        "iteration 2100 / 3000: loss 3.723707"
       ]
      },
      {
       "output_type": "stream",
       "stream": "stdout",
       "text": [
        "\n",
        "iteration 2200 / 3000: loss 4.627797"
       ]
      },
      {
       "output_type": "stream",
       "stream": "stdout",
       "text": [
        "\n",
        "iteration 2300 / 3000: loss 4.133773"
       ]
      },
      {
       "output_type": "stream",
       "stream": "stdout",
       "text": [
        "\n",
        "iteration 2400 / 3000: loss 3.846496"
       ]
      },
      {
       "output_type": "stream",
       "stream": "stdout",
       "text": [
        "\n",
        "iteration 2500 / 3000: loss 3.849198"
       ]
      },
      {
       "output_type": "stream",
       "stream": "stdout",
       "text": [
        "\n",
        "iteration 2600 / 3000: loss 3.854518"
       ]
      },
      {
       "output_type": "stream",
       "stream": "stdout",
       "text": [
        "\n",
        "iteration 2700 / 3000: loss 3.659774"
       ]
      },
      {
       "output_type": "stream",
       "stream": "stdout",
       "text": [
        "\n",
        "iteration 2800 / 3000: loss 4.006489"
       ]
      },
      {
       "output_type": "stream",
       "stream": "stdout",
       "text": [
        "\n",
        "iteration 2900 / 3000: loss 4.140561"
       ]
      },
      {
       "output_type": "stream",
       "stream": "stdout",
       "text": [
        "\n",
        "iteration 0 / 3000: loss 9.006249"
       ]
      },
      {
       "output_type": "stream",
       "stream": "stdout",
       "text": [
        "\n",
        "iteration 100 / 3000: loss 8.211607"
       ]
      },
      {
       "output_type": "stream",
       "stream": "stdout",
       "text": [
        "\n",
        "iteration 200 / 3000: loss 7.695828"
       ]
      },
      {
       "output_type": "stream",
       "stream": "stdout",
       "text": [
        "\n",
        "iteration 300 / 3000: loss 6.723459"
       ]
      },
      {
       "output_type": "stream",
       "stream": "stdout",
       "text": [
        "\n",
        "iteration 400 / 3000: loss 6.436102"
       ]
      },
      {
       "output_type": "stream",
       "stream": "stdout",
       "text": [
        "\n",
        "iteration 500 / 3000: loss 5.628048"
       ]
      },
      {
       "output_type": "stream",
       "stream": "stdout",
       "text": [
        "\n",
        "iteration 600 / 3000: loss 5.487059"
       ]
      },
      {
       "output_type": "stream",
       "stream": "stdout",
       "text": [
        "\n",
        "iteration 700 / 3000: loss 5.643265"
       ]
      },
      {
       "output_type": "stream",
       "stream": "stdout",
       "text": [
        "\n",
        "iteration 800 / 3000: loss 4.929633"
       ]
      },
      {
       "output_type": "stream",
       "stream": "stdout",
       "text": [
        "\n",
        "iteration 900 / 3000: loss 5.175656"
       ]
      },
      {
       "output_type": "stream",
       "stream": "stdout",
       "text": [
        "\n",
        "iteration 1000 / 3000: loss 5.272324"
       ]
      },
      {
       "output_type": "stream",
       "stream": "stdout",
       "text": [
        "\n",
        "iteration 1100 / 3000: loss 4.658098"
       ]
      },
      {
       "output_type": "stream",
       "stream": "stdout",
       "text": [
        "\n",
        "iteration 1200 / 3000: loss 4.542000"
       ]
      },
      {
       "output_type": "stream",
       "stream": "stdout",
       "text": [
        "\n",
        "iteration 1300 / 3000: loss 4.589241"
       ]
      },
      {
       "output_type": "stream",
       "stream": "stdout",
       "text": [
        "\n",
        "iteration 1400 / 3000: loss 4.857254"
       ]
      },
      {
       "output_type": "stream",
       "stream": "stdout",
       "text": [
        "\n",
        "iteration 1500 / 3000: loss 4.183568"
       ]
      },
      {
       "output_type": "stream",
       "stream": "stdout",
       "text": [
        "\n",
        "iteration 1600 / 3000: loss 4.034966"
       ]
      },
      {
       "output_type": "stream",
       "stream": "stdout",
       "text": [
        "\n",
        "iteration 1700 / 3000: loss 4.234665"
       ]
      },
      {
       "output_type": "stream",
       "stream": "stdout",
       "text": [
        "\n",
        "iteration 1800 / 3000: loss 4.079308"
       ]
      },
      {
       "output_type": "stream",
       "stream": "stdout",
       "text": [
        "\n",
        "iteration 1900 / 3000: loss 4.410347"
       ]
      },
      {
       "output_type": "stream",
       "stream": "stdout",
       "text": [
        "\n",
        "iteration 2000 / 3000: loss 4.487056"
       ]
      },
      {
       "output_type": "stream",
       "stream": "stdout",
       "text": [
        "\n",
        "iteration 2100 / 3000: loss 3.834748"
       ]
      },
      {
       "output_type": "stream",
       "stream": "stdout",
       "text": [
        "\n",
        "iteration 2200 / 3000: loss 3.722487"
       ]
      },
      {
       "output_type": "stream",
       "stream": "stdout",
       "text": [
        "\n",
        "iteration 2300 / 3000: loss 3.799653"
       ]
      },
      {
       "output_type": "stream",
       "stream": "stdout",
       "text": [
        "\n",
        "iteration 2400 / 3000: loss 4.062153"
       ]
      },
      {
       "output_type": "stream",
       "stream": "stdout",
       "text": [
        "\n",
        "iteration 2500 / 3000: loss 4.051935"
       ]
      },
      {
       "output_type": "stream",
       "stream": "stdout",
       "text": [
        "\n",
        "iteration 2600 / 3000: loss 3.532264"
       ]
      },
      {
       "output_type": "stream",
       "stream": "stdout",
       "text": [
        "\n",
        "iteration 2700 / 3000: loss 3.697439"
       ]
      },
      {
       "output_type": "stream",
       "stream": "stdout",
       "text": [
        "\n",
        "iteration 2800 / 3000: loss 4.329191"
       ]
      },
      {
       "output_type": "stream",
       "stream": "stdout",
       "text": [
        "\n",
        "iteration 2900 / 3000: loss 4.233846"
       ]
      },
      {
       "output_type": "stream",
       "stream": "stdout",
       "text": [
        "\n",
        "iteration 0 / 3000: loss 8.987745"
       ]
      },
      {
       "output_type": "stream",
       "stream": "stdout",
       "text": [
        "\n",
        "iteration 100 / 3000: loss 8.939551"
       ]
      },
      {
       "output_type": "stream",
       "stream": "stdout",
       "text": [
        "\n",
        "iteration 200 / 3000: loss 8.877077"
       ]
      },
      {
       "output_type": "stream",
       "stream": "stdout",
       "text": [
        "\n",
        "iteration 300 / 3000: loss 8.795021"
       ]
      },
      {
       "output_type": "stream",
       "stream": "stdout",
       "text": [
        "\n",
        "iteration 400 / 3000: loss 8.693803"
       ]
      },
      {
       "output_type": "stream",
       "stream": "stdout",
       "text": [
        "\n",
        "iteration 500 / 3000: loss 8.651642"
       ]
      },
      {
       "output_type": "stream",
       "stream": "stdout",
       "text": [
        "\n",
        "iteration 600 / 3000: loss 8.595065"
       ]
      },
      {
       "output_type": "stream",
       "stream": "stdout",
       "text": [
        "\n",
        "iteration 700 / 3000: loss 8.532686"
       ]
      },
      {
       "output_type": "stream",
       "stream": "stdout",
       "text": [
        "\n",
        "iteration 800 / 3000: loss 8.381519"
       ]
      },
      {
       "output_type": "stream",
       "stream": "stdout",
       "text": [
        "\n",
        "iteration 900 / 3000: loss 8.390035"
       ]
      },
      {
       "output_type": "stream",
       "stream": "stdout",
       "text": [
        "\n",
        "iteration 1000 / 3000: loss 8.268685"
       ]
      },
      {
       "output_type": "stream",
       "stream": "stdout",
       "text": [
        "\n",
        "iteration 1100 / 3000: loss 8.161012"
       ]
      },
      {
       "output_type": "stream",
       "stream": "stdout",
       "text": [
        "\n",
        "iteration 1200 / 3000: loss 8.125891"
       ]
      },
      {
       "output_type": "stream",
       "stream": "stdout",
       "text": [
        "\n",
        "iteration 1300 / 3000: loss 8.045806"
       ]
      },
      {
       "output_type": "stream",
       "stream": "stdout",
       "text": [
        "\n",
        "iteration 1400 / 3000: loss 8.042098"
       ]
      },
      {
       "output_type": "stream",
       "stream": "stdout",
       "text": [
        "\n",
        "iteration 1500 / 3000: loss 8.029465"
       ]
      },
      {
       "output_type": "stream",
       "stream": "stdout",
       "text": [
        "\n",
        "iteration 1600 / 3000: loss 7.737513"
       ]
      },
      {
       "output_type": "stream",
       "stream": "stdout",
       "text": [
        "\n",
        "iteration 1700 / 3000: loss 7.900809"
       ]
      },
      {
       "output_type": "stream",
       "stream": "stdout",
       "text": [
        "\n",
        "iteration 1800 / 3000: loss 7.632608"
       ]
      },
      {
       "output_type": "stream",
       "stream": "stdout",
       "text": [
        "\n",
        "iteration 1900 / 3000: loss 7.623403"
       ]
      },
      {
       "output_type": "stream",
       "stream": "stdout",
       "text": [
        "\n",
        "iteration 2000 / 3000: loss 7.690411"
       ]
      },
      {
       "output_type": "stream",
       "stream": "stdout",
       "text": [
        "\n",
        "iteration 2100 / 3000: loss 7.651083"
       ]
      },
      {
       "output_type": "stream",
       "stream": "stdout",
       "text": [
        "\n",
        "iteration 2200 / 3000: loss 7.346193"
       ]
      },
      {
       "output_type": "stream",
       "stream": "stdout",
       "text": [
        "\n",
        "iteration 2300 / 3000: loss 7.328389"
       ]
      },
      {
       "output_type": "stream",
       "stream": "stdout",
       "text": [
        "\n",
        "iteration 2400 / 3000: loss 7.330793"
       ]
      },
      {
       "output_type": "stream",
       "stream": "stdout",
       "text": [
        "\n",
        "iteration 2500 / 3000: loss 7.325911"
       ]
      },
      {
       "output_type": "stream",
       "stream": "stdout",
       "text": [
        "\n",
        "iteration 2600 / 3000: loss 7.231495"
       ]
      },
      {
       "output_type": "stream",
       "stream": "stdout",
       "text": [
        "\n",
        "iteration 2700 / 3000: loss 7.214318"
       ]
      },
      {
       "output_type": "stream",
       "stream": "stdout",
       "text": [
        "\n",
        "iteration 2800 / 3000: loss 7.088255"
       ]
      },
      {
       "output_type": "stream",
       "stream": "stdout",
       "text": [
        "\n",
        "iteration 2900 / 3000: loss 6.995382"
       ]
      },
      {
       "output_type": "stream",
       "stream": "stdout",
       "text": [
        "\n",
        "iteration 0 / 3000: loss 9.002911"
       ]
      },
      {
       "output_type": "stream",
       "stream": "stdout",
       "text": [
        "\n",
        "iteration 100 / 3000: loss 8.947189"
       ]
      },
      {
       "output_type": "stream",
       "stream": "stdout",
       "text": [
        "\n",
        "iteration 200 / 3000: loss 8.880417"
       ]
      },
      {
       "output_type": "stream",
       "stream": "stdout",
       "text": [
        "\n",
        "iteration 300 / 3000: loss 8.776364"
       ]
      },
      {
       "output_type": "stream",
       "stream": "stdout",
       "text": [
        "\n",
        "iteration 400 / 3000: loss 8.680734"
       ]
      },
      {
       "output_type": "stream",
       "stream": "stdout",
       "text": [
        "\n",
        "iteration 500 / 3000: loss 8.627147"
       ]
      },
      {
       "output_type": "stream",
       "stream": "stdout",
       "text": [
        "\n",
        "iteration 600 / 3000: loss 8.560325"
       ]
      },
      {
       "output_type": "stream",
       "stream": "stdout",
       "text": [
        "\n",
        "iteration 700 / 3000: loss 8.496150"
       ]
      },
      {
       "output_type": "stream",
       "stream": "stdout",
       "text": [
        "\n",
        "iteration 800 / 3000: loss 8.391109"
       ]
      },
      {
       "output_type": "stream",
       "stream": "stdout",
       "text": [
        "\n",
        "iteration 900 / 3000: loss 8.407862"
       ]
      },
      {
       "output_type": "stream",
       "stream": "stdout",
       "text": [
        "\n",
        "iteration 1000 / 3000: loss 8.203987"
       ]
      },
      {
       "output_type": "stream",
       "stream": "stdout",
       "text": [
        "\n",
        "iteration 1100 / 3000: loss 8.244288"
       ]
      },
      {
       "output_type": "stream",
       "stream": "stdout",
       "text": [
        "\n",
        "iteration 1200 / 3000: loss 8.249551"
       ]
      },
      {
       "output_type": "stream",
       "stream": "stdout",
       "text": [
        "\n",
        "iteration 1300 / 3000: loss 8.138374"
       ]
      },
      {
       "output_type": "stream",
       "stream": "stdout",
       "text": [
        "\n",
        "iteration 1400 / 3000: loss 8.096298"
       ]
      },
      {
       "output_type": "stream",
       "stream": "stdout",
       "text": [
        "\n",
        "iteration 1500 / 3000: loss 7.731317"
       ]
      },
      {
       "output_type": "stream",
       "stream": "stdout",
       "text": [
        "\n",
        "iteration 1600 / 3000: loss 7.880724"
       ]
      },
      {
       "output_type": "stream",
       "stream": "stdout",
       "text": [
        "\n",
        "iteration 1700 / 3000: loss 7.745521"
       ]
      },
      {
       "output_type": "stream",
       "stream": "stdout",
       "text": [
        "\n",
        "iteration 1800 / 3000: loss 7.858289"
       ]
      },
      {
       "output_type": "stream",
       "stream": "stdout",
       "text": [
        "\n",
        "iteration 1900 / 3000: loss 7.596195"
       ]
      },
      {
       "output_type": "stream",
       "stream": "stdout",
       "text": [
        "\n",
        "iteration 2000 / 3000: loss 7.655486"
       ]
      },
      {
       "output_type": "stream",
       "stream": "stdout",
       "text": [
        "\n",
        "iteration 2100 / 3000: loss 7.447768"
       ]
      },
      {
       "output_type": "stream",
       "stream": "stdout",
       "text": [
        "\n",
        "iteration 2200 / 3000: loss 7.380023"
       ]
      },
      {
       "output_type": "stream",
       "stream": "stdout",
       "text": [
        "\n",
        "iteration 2300 / 3000: loss 7.568863"
       ]
      },
      {
       "output_type": "stream",
       "stream": "stdout",
       "text": [
        "\n",
        "iteration 2400 / 3000: loss 7.424701"
       ]
      },
      {
       "output_type": "stream",
       "stream": "stdout",
       "text": [
        "\n",
        "iteration 2500 / 3000: loss 7.304643"
       ]
      },
      {
       "output_type": "stream",
       "stream": "stdout",
       "text": [
        "\n",
        "iteration 2600 / 3000: loss 7.122630"
       ]
      },
      {
       "output_type": "stream",
       "stream": "stdout",
       "text": [
        "\n",
        "iteration 2700 / 3000: loss 6.942904"
       ]
      },
      {
       "output_type": "stream",
       "stream": "stdout",
       "text": [
        "\n",
        "iteration 2800 / 3000: loss 7.068356"
       ]
      },
      {
       "output_type": "stream",
       "stream": "stdout",
       "text": [
        "\n",
        "iteration 2900 / 3000: loss 6.893272"
       ]
      },
      {
       "output_type": "stream",
       "stream": "stdout",
       "text": [
        "\n",
        "iteration 0 / 3000: loss 8.989034"
       ]
      },
      {
       "output_type": "stream",
       "stream": "stdout",
       "text": [
        "\n",
        "iteration 100 / 3000: loss 8.946203"
       ]
      },
      {
       "output_type": "stream",
       "stream": "stdout",
       "text": [
        "\n",
        "iteration 200 / 3000: loss 8.867634"
       ]
      },
      {
       "output_type": "stream",
       "stream": "stdout",
       "text": [
        "\n",
        "iteration 300 / 3000: loss 8.821497"
       ]
      },
      {
       "output_type": "stream",
       "stream": "stdout",
       "text": [
        "\n",
        "iteration 400 / 3000: loss 8.699157"
       ]
      },
      {
       "output_type": "stream",
       "stream": "stdout",
       "text": [
        "\n",
        "iteration 500 / 3000: loss 8.656161"
       ]
      },
      {
       "output_type": "stream",
       "stream": "stdout",
       "text": [
        "\n",
        "iteration 600 / 3000: loss 8.566484"
       ]
      },
      {
       "output_type": "stream",
       "stream": "stdout",
       "text": [
        "\n",
        "iteration 700 / 3000: loss 8.536167"
       ]
      },
      {
       "output_type": "stream",
       "stream": "stdout",
       "text": [
        "\n",
        "iteration 800 / 3000: loss 8.398389"
       ]
      },
      {
       "output_type": "stream",
       "stream": "stdout",
       "text": [
        "\n",
        "iteration 900 / 3000: loss 8.325545"
       ]
      },
      {
       "output_type": "stream",
       "stream": "stdout",
       "text": [
        "\n",
        "iteration 1000 / 3000: loss 8.272205"
       ]
      },
      {
       "output_type": "stream",
       "stream": "stdout",
       "text": [
        "\n",
        "iteration 1100 / 3000: loss 8.188546"
       ]
      },
      {
       "output_type": "stream",
       "stream": "stdout",
       "text": [
        "\n",
        "iteration 1200 / 3000: loss 8.150881"
       ]
      },
      {
       "output_type": "stream",
       "stream": "stdout",
       "text": [
        "\n",
        "iteration 1300 / 3000: loss 8.044328"
       ]
      },
      {
       "output_type": "stream",
       "stream": "stdout",
       "text": [
        "\n",
        "iteration 1400 / 3000: loss 7.993955"
       ]
      },
      {
       "output_type": "stream",
       "stream": "stdout",
       "text": [
        "\n",
        "iteration 1500 / 3000: loss 7.837728"
       ]
      },
      {
       "output_type": "stream",
       "stream": "stdout",
       "text": [
        "\n",
        "iteration 1600 / 3000: loss 7.922105"
       ]
      },
      {
       "output_type": "stream",
       "stream": "stdout",
       "text": [
        "\n",
        "iteration 1700 / 3000: loss 7.840238"
       ]
      },
      {
       "output_type": "stream",
       "stream": "stdout",
       "text": [
        "\n",
        "iteration 1800 / 3000: loss 7.746404"
       ]
      },
      {
       "output_type": "stream",
       "stream": "stdout",
       "text": [
        "\n",
        "iteration 1900 / 3000: loss 7.472082"
       ]
      },
      {
       "output_type": "stream",
       "stream": "stdout",
       "text": [
        "\n",
        "iteration 2000 / 3000: loss 7.601318"
       ]
      },
      {
       "output_type": "stream",
       "stream": "stdout",
       "text": [
        "\n",
        "iteration 2100 / 3000: loss 7.562121"
       ]
      },
      {
       "output_type": "stream",
       "stream": "stdout",
       "text": [
        "\n",
        "iteration 2200 / 3000: loss 7.497107"
       ]
      },
      {
       "output_type": "stream",
       "stream": "stdout",
       "text": [
        "\n",
        "iteration 2300 / 3000: loss 7.413719"
       ]
      },
      {
       "output_type": "stream",
       "stream": "stdout",
       "text": [
        "\n",
        "iteration 2400 / 3000: loss 7.327955"
       ]
      },
      {
       "output_type": "stream",
       "stream": "stdout",
       "text": [
        "\n",
        "iteration 2500 / 3000: loss 7.359162"
       ]
      },
      {
       "output_type": "stream",
       "stream": "stdout",
       "text": [
        "\n",
        "iteration 2600 / 3000: loss 7.295804"
       ]
      },
      {
       "output_type": "stream",
       "stream": "stdout",
       "text": [
        "\n",
        "iteration 2700 / 3000: loss 7.259869"
       ]
      },
      {
       "output_type": "stream",
       "stream": "stdout",
       "text": [
        "\n",
        "iteration 2800 / 3000: loss 6.870910"
       ]
      },
      {
       "output_type": "stream",
       "stream": "stdout",
       "text": [
        "\n",
        "iteration 2900 / 3000: loss 7.027282"
       ]
      },
      {
       "output_type": "stream",
       "stream": "stdout",
       "text": [
        "\n",
        "iteration 0 / 3000: loss 9.006063"
       ]
      },
      {
       "output_type": "stream",
       "stream": "stdout",
       "text": [
        "\n",
        "iteration 100 / 3000: loss 8.949989"
       ]
      },
      {
       "output_type": "stream",
       "stream": "stdout",
       "text": [
        "\n",
        "iteration 200 / 3000: loss 8.855002"
       ]
      },
      {
       "output_type": "stream",
       "stream": "stdout",
       "text": [
        "\n",
        "iteration 300 / 3000: loss 8.776730"
       ]
      },
      {
       "output_type": "stream",
       "stream": "stdout",
       "text": [
        "\n",
        "iteration 400 / 3000: loss 8.725148"
       ]
      },
      {
       "output_type": "stream",
       "stream": "stdout",
       "text": [
        "\n",
        "iteration 500 / 3000: loss 8.628794"
       ]
      },
      {
       "output_type": "stream",
       "stream": "stdout",
       "text": [
        "\n",
        "iteration 600 / 3000: loss 8.645512"
       ]
      },
      {
       "output_type": "stream",
       "stream": "stdout",
       "text": [
        "\n",
        "iteration 700 / 3000: loss 8.481055"
       ]
      },
      {
       "output_type": "stream",
       "stream": "stdout",
       "text": [
        "\n",
        "iteration 800 / 3000: loss 8.429747"
       ]
      },
      {
       "output_type": "stream",
       "stream": "stdout",
       "text": [
        "\n",
        "iteration 900 / 3000: loss 8.355088"
       ]
      },
      {
       "output_type": "stream",
       "stream": "stdout",
       "text": [
        "\n",
        "iteration 1000 / 3000: loss 8.306235"
       ]
      },
      {
       "output_type": "stream",
       "stream": "stdout",
       "text": [
        "\n",
        "iteration 1100 / 3000: loss 8.148498"
       ]
      },
      {
       "output_type": "stream",
       "stream": "stdout",
       "text": [
        "\n",
        "iteration 1200 / 3000: loss 7.999087"
       ]
      },
      {
       "output_type": "stream",
       "stream": "stdout",
       "text": [
        "\n",
        "iteration 1300 / 3000: loss 8.123311"
       ]
      },
      {
       "output_type": "stream",
       "stream": "stdout",
       "text": [
        "\n",
        "iteration 1400 / 3000: loss 8.064579"
       ]
      },
      {
       "output_type": "stream",
       "stream": "stdout",
       "text": [
        "\n",
        "iteration 1500 / 3000: loss 7.879352"
       ]
      },
      {
       "output_type": "stream",
       "stream": "stdout",
       "text": [
        "\n",
        "iteration 1600 / 3000: loss 7.760333"
       ]
      },
      {
       "output_type": "stream",
       "stream": "stdout",
       "text": [
        "\n",
        "iteration 1700 / 3000: loss 7.816610"
       ]
      },
      {
       "output_type": "stream",
       "stream": "stdout",
       "text": [
        "\n",
        "iteration 1800 / 3000: loss 7.820094"
       ]
      },
      {
       "output_type": "stream",
       "stream": "stdout",
       "text": [
        "\n",
        "iteration 1900 / 3000: loss 7.731372"
       ]
      },
      {
       "output_type": "stream",
       "stream": "stdout",
       "text": [
        "\n",
        "iteration 2000 / 3000: loss 7.600240"
       ]
      },
      {
       "output_type": "stream",
       "stream": "stdout",
       "text": [
        "\n",
        "iteration 2100 / 3000: loss 7.268537"
       ]
      },
      {
       "output_type": "stream",
       "stream": "stdout",
       "text": [
        "\n",
        "iteration 2200 / 3000: loss 7.529531"
       ]
      },
      {
       "output_type": "stream",
       "stream": "stdout",
       "text": [
        "\n",
        "iteration 2300 / 3000: loss 7.396408"
       ]
      },
      {
       "output_type": "stream",
       "stream": "stdout",
       "text": [
        "\n",
        "iteration 2400 / 3000: loss 7.454091"
       ]
      },
      {
       "output_type": "stream",
       "stream": "stdout",
       "text": [
        "\n",
        "iteration 2500 / 3000: loss 7.198826"
       ]
      },
      {
       "output_type": "stream",
       "stream": "stdout",
       "text": [
        "\n",
        "iteration 2600 / 3000: loss 6.963806"
       ]
      },
      {
       "output_type": "stream",
       "stream": "stdout",
       "text": [
        "\n",
        "iteration 2700 / 3000: loss 7.038740"
       ]
      },
      {
       "output_type": "stream",
       "stream": "stdout",
       "text": [
        "\n",
        "iteration 2800 / 3000: loss 7.235038"
       ]
      },
      {
       "output_type": "stream",
       "stream": "stdout",
       "text": [
        "\n",
        "iteration 2900 / 3000: loss 6.851731"
       ]
      },
      {
       "output_type": "stream",
       "stream": "stdout",
       "text": [
        "\n",
        "iteration 0 / 3000: loss 9.001762"
       ]
      },
      {
       "output_type": "stream",
       "stream": "stdout",
       "text": [
        "\n",
        "iteration 100 / 3000: loss 8.944694"
       ]
      },
      {
       "output_type": "stream",
       "stream": "stdout",
       "text": [
        "\n",
        "iteration 200 / 3000: loss 8.859689"
       ]
      },
      {
       "output_type": "stream",
       "stream": "stdout",
       "text": [
        "\n",
        "iteration 300 / 3000: loss 8.804814"
       ]
      },
      {
       "output_type": "stream",
       "stream": "stdout",
       "text": [
        "\n",
        "iteration 400 / 3000: loss 8.718860"
       ]
      },
      {
       "output_type": "stream",
       "stream": "stdout",
       "text": [
        "\n",
        "iteration 500 / 3000: loss 8.656959"
       ]
      },
      {
       "output_type": "stream",
       "stream": "stdout",
       "text": [
        "\n",
        "iteration 600 / 3000: loss 8.541490"
       ]
      },
      {
       "output_type": "stream",
       "stream": "stdout",
       "text": [
        "\n",
        "iteration 700 / 3000: loss 8.553874"
       ]
      },
      {
       "output_type": "stream",
       "stream": "stdout",
       "text": [
        "\n",
        "iteration 800 / 3000: loss 8.378595"
       ]
      },
      {
       "output_type": "stream",
       "stream": "stdout",
       "text": [
        "\n",
        "iteration 900 / 3000: loss 8.282297"
       ]
      },
      {
       "output_type": "stream",
       "stream": "stdout",
       "text": [
        "\n",
        "iteration 1000 / 3000: loss 8.345914"
       ]
      },
      {
       "output_type": "stream",
       "stream": "stdout",
       "text": [
        "\n",
        "iteration 1100 / 3000: loss 8.248899"
       ]
      },
      {
       "output_type": "stream",
       "stream": "stdout",
       "text": [
        "\n",
        "iteration 1200 / 3000: loss 8.224204"
       ]
      },
      {
       "output_type": "stream",
       "stream": "stdout",
       "text": [
        "\n",
        "iteration 1300 / 3000: loss 8.074970"
       ]
      },
      {
       "output_type": "stream",
       "stream": "stdout",
       "text": [
        "\n",
        "iteration 1400 / 3000: loss 7.958247"
       ]
      },
      {
       "output_type": "stream",
       "stream": "stdout",
       "text": [
        "\n",
        "iteration 1500 / 3000: loss 8.032509"
       ]
      },
      {
       "output_type": "stream",
       "stream": "stdout",
       "text": [
        "\n",
        "iteration 1600 / 3000: loss 7.722237"
       ]
      },
      {
       "output_type": "stream",
       "stream": "stdout",
       "text": [
        "\n",
        "iteration 1700 / 3000: loss 7.752311"
       ]
      },
      {
       "output_type": "stream",
       "stream": "stdout",
       "text": [
        "\n",
        "iteration 1800 / 3000: loss 7.594397"
       ]
      },
      {
       "output_type": "stream",
       "stream": "stdout",
       "text": [
        "\n",
        "iteration 1900 / 3000: loss 7.694038"
       ]
      },
      {
       "output_type": "stream",
       "stream": "stdout",
       "text": [
        "\n",
        "iteration 2000 / 3000: loss 7.694867"
       ]
      },
      {
       "output_type": "stream",
       "stream": "stdout",
       "text": [
        "\n",
        "iteration 2100 / 3000: loss 7.646516"
       ]
      },
      {
       "output_type": "stream",
       "stream": "stdout",
       "text": [
        "\n",
        "iteration 2200 / 3000: loss 7.350438"
       ]
      },
      {
       "output_type": "stream",
       "stream": "stdout",
       "text": [
        "\n",
        "iteration 2300 / 3000: loss 7.368638"
       ]
      },
      {
       "output_type": "stream",
       "stream": "stdout",
       "text": [
        "\n",
        "iteration 2400 / 3000: loss 7.293784"
       ]
      },
      {
       "output_type": "stream",
       "stream": "stdout",
       "text": [
        "\n",
        "iteration 2500 / 3000: loss 7.231183"
       ]
      },
      {
       "output_type": "stream",
       "stream": "stdout",
       "text": [
        "\n",
        "iteration 2600 / 3000: loss 7.186226"
       ]
      },
      {
       "output_type": "stream",
       "stream": "stdout",
       "text": [
        "\n",
        "iteration 2700 / 3000: loss 7.054328"
       ]
      },
      {
       "output_type": "stream",
       "stream": "stdout",
       "text": [
        "\n",
        "iteration 2800 / 3000: loss 7.087912"
       ]
      },
      {
       "output_type": "stream",
       "stream": "stdout",
       "text": [
        "\n",
        "iteration 2900 / 3000: loss 7.177147"
       ]
      },
      {
       "output_type": "stream",
       "stream": "stdout",
       "text": [
        "\n",
        "iteration 0 / 3000: loss 9.028786"
       ]
      },
      {
       "output_type": "stream",
       "stream": "stdout",
       "text": [
        "\n",
        "iteration 100 / 3000: loss 8.925730"
       ]
      },
      {
       "output_type": "stream",
       "stream": "stdout",
       "text": [
        "\n",
        "iteration 200 / 3000: loss 8.854067"
       ]
      },
      {
       "output_type": "stream",
       "stream": "stdout",
       "text": [
        "\n",
        "iteration 300 / 3000: loss 8.784180"
       ]
      },
      {
       "output_type": "stream",
       "stream": "stdout",
       "text": [
        "\n",
        "iteration 400 / 3000: loss 8.704137"
       ]
      },
      {
       "output_type": "stream",
       "stream": "stdout",
       "text": [
        "\n",
        "iteration 500 / 3000: loss 8.684223"
       ]
      },
      {
       "output_type": "stream",
       "stream": "stdout",
       "text": [
        "\n",
        "iteration 600 / 3000: loss 8.575489"
       ]
      },
      {
       "output_type": "stream",
       "stream": "stdout",
       "text": [
        "\n",
        "iteration 700 / 3000: loss 8.496868"
       ]
      },
      {
       "output_type": "stream",
       "stream": "stdout",
       "text": [
        "\n",
        "iteration 800 / 3000: loss 8.477569"
       ]
      },
      {
       "output_type": "stream",
       "stream": "stdout",
       "text": [
        "\n",
        "iteration 900 / 3000: loss 8.335907"
       ]
      },
      {
       "output_type": "stream",
       "stream": "stdout",
       "text": [
        "\n",
        "iteration 1000 / 3000: loss 8.295443"
       ]
      },
      {
       "output_type": "stream",
       "stream": "stdout",
       "text": [
        "\n",
        "iteration 1100 / 3000: loss 8.299445"
       ]
      },
      {
       "output_type": "stream",
       "stream": "stdout",
       "text": [
        "\n",
        "iteration 1200 / 3000: loss 8.187081"
       ]
      },
      {
       "output_type": "stream",
       "stream": "stdout",
       "text": [
        "\n",
        "iteration 1300 / 3000: loss 8.155509"
       ]
      },
      {
       "output_type": "stream",
       "stream": "stdout",
       "text": [
        "\n",
        "iteration 1400 / 3000: loss 7.990110"
       ]
      },
      {
       "output_type": "stream",
       "stream": "stdout",
       "text": [
        "\n",
        "iteration 1500 / 3000: loss 7.970555"
       ]
      },
      {
       "output_type": "stream",
       "stream": "stdout",
       "text": [
        "\n",
        "iteration 1600 / 3000: loss 7.773857"
       ]
      },
      {
       "output_type": "stream",
       "stream": "stdout",
       "text": [
        "\n",
        "iteration 1700 / 3000: loss 7.854159"
       ]
      },
      {
       "output_type": "stream",
       "stream": "stdout",
       "text": [
        "\n",
        "iteration 1800 / 3000: loss 7.727604"
       ]
      },
      {
       "output_type": "stream",
       "stream": "stdout",
       "text": [
        "\n",
        "iteration 1900 / 3000: loss 7.754421"
       ]
      },
      {
       "output_type": "stream",
       "stream": "stdout",
       "text": [
        "\n",
        "iteration 2000 / 3000: loss 7.486073"
       ]
      },
      {
       "output_type": "stream",
       "stream": "stdout",
       "text": [
        "\n",
        "iteration 2100 / 3000: loss 7.447122"
       ]
      },
      {
       "output_type": "stream",
       "stream": "stdout",
       "text": [
        "\n",
        "iteration 2200 / 3000: loss 7.386025"
       ]
      },
      {
       "output_type": "stream",
       "stream": "stdout",
       "text": [
        "\n",
        "iteration 2300 / 3000: loss 7.421667"
       ]
      },
      {
       "output_type": "stream",
       "stream": "stdout",
       "text": [
        "\n",
        "iteration 2400 / 3000: loss 7.264010"
       ]
      },
      {
       "output_type": "stream",
       "stream": "stdout",
       "text": [
        "\n",
        "iteration 2500 / 3000: loss 7.112150"
       ]
      },
      {
       "output_type": "stream",
       "stream": "stdout",
       "text": [
        "\n",
        "iteration 2600 / 3000: loss 7.243657"
       ]
      },
      {
       "output_type": "stream",
       "stream": "stdout",
       "text": [
        "\n",
        "iteration 2700 / 3000: loss 6.935474"
       ]
      },
      {
       "output_type": "stream",
       "stream": "stdout",
       "text": [
        "\n",
        "iteration 2800 / 3000: loss 7.178896"
       ]
      },
      {
       "output_type": "stream",
       "stream": "stdout",
       "text": [
        "\n",
        "iteration 2900 / 3000: loss 7.112821"
       ]
      },
      {
       "output_type": "stream",
       "stream": "stdout",
       "text": [
        "\n",
        "iteration 0 / 3000: loss 8.999012"
       ]
      },
      {
       "output_type": "stream",
       "stream": "stdout",
       "text": [
        "\n",
        "iteration 100 / 3000: loss 8.941289"
       ]
      },
      {
       "output_type": "stream",
       "stream": "stdout",
       "text": [
        "\n",
        "iteration 200 / 3000: loss 8.868786"
       ]
      },
      {
       "output_type": "stream",
       "stream": "stdout",
       "text": [
        "\n",
        "iteration 300 / 3000: loss 8.791754"
       ]
      },
      {
       "output_type": "stream",
       "stream": "stdout",
       "text": [
        "\n",
        "iteration 400 / 3000: loss 8.711151"
       ]
      },
      {
       "output_type": "stream",
       "stream": "stdout",
       "text": [
        "\n",
        "iteration 500 / 3000: loss 8.649272"
       ]
      },
      {
       "output_type": "stream",
       "stream": "stdout",
       "text": [
        "\n",
        "iteration 600 / 3000: loss 8.537232"
       ]
      },
      {
       "output_type": "stream",
       "stream": "stdout",
       "text": [
        "\n",
        "iteration 700 / 3000: loss 8.497736"
       ]
      },
      {
       "output_type": "stream",
       "stream": "stdout",
       "text": [
        "\n",
        "iteration 800 / 3000: loss 8.434932"
       ]
      },
      {
       "output_type": "stream",
       "stream": "stdout",
       "text": [
        "\n",
        "iteration 900 / 3000: loss 8.293595"
       ]
      },
      {
       "output_type": "stream",
       "stream": "stdout",
       "text": [
        "\n",
        "iteration 1000 / 3000: loss 8.318509"
       ]
      },
      {
       "output_type": "stream",
       "stream": "stdout",
       "text": [
        "\n",
        "iteration 1100 / 3000: loss 8.253018"
       ]
      },
      {
       "output_type": "stream",
       "stream": "stdout",
       "text": [
        "\n",
        "iteration 1200 / 3000: loss 8.181271"
       ]
      },
      {
       "output_type": "stream",
       "stream": "stdout",
       "text": [
        "\n",
        "iteration 1300 / 3000: loss 8.207522"
       ]
      },
      {
       "output_type": "stream",
       "stream": "stdout",
       "text": [
        "\n",
        "iteration 1400 / 3000: loss 8.012619"
       ]
      },
      {
       "output_type": "stream",
       "stream": "stdout",
       "text": [
        "\n",
        "iteration 1500 / 3000: loss 8.039805"
       ]
      },
      {
       "output_type": "stream",
       "stream": "stdout",
       "text": [
        "\n",
        "iteration 1600 / 3000: loss 7.812461"
       ]
      },
      {
       "output_type": "stream",
       "stream": "stdout",
       "text": [
        "\n",
        "iteration 1700 / 3000: loss 7.851960"
       ]
      },
      {
       "output_type": "stream",
       "stream": "stdout",
       "text": [
        "\n",
        "iteration 1800 / 3000: loss 7.695932"
       ]
      },
      {
       "output_type": "stream",
       "stream": "stdout",
       "text": [
        "\n",
        "iteration 1900 / 3000: loss 7.585445"
       ]
      },
      {
       "output_type": "stream",
       "stream": "stdout",
       "text": [
        "\n",
        "iteration 2000 / 3000: loss 7.646196"
       ]
      },
      {
       "output_type": "stream",
       "stream": "stdout",
       "text": [
        "\n",
        "iteration 2100 / 3000: loss 7.589275"
       ]
      },
      {
       "output_type": "stream",
       "stream": "stdout",
       "text": [
        "\n",
        "iteration 2200 / 3000: loss 7.492240"
       ]
      },
      {
       "output_type": "stream",
       "stream": "stdout",
       "text": [
        "\n",
        "iteration 2300 / 3000: loss 7.438844"
       ]
      },
      {
       "output_type": "stream",
       "stream": "stdout",
       "text": [
        "\n",
        "iteration 2400 / 3000: loss 7.124965"
       ]
      },
      {
       "output_type": "stream",
       "stream": "stdout",
       "text": [
        "\n",
        "iteration 2500 / 3000: loss 7.250686"
       ]
      },
      {
       "output_type": "stream",
       "stream": "stdout",
       "text": [
        "\n",
        "iteration 2600 / 3000: loss 6.923604"
       ]
      },
      {
       "output_type": "stream",
       "stream": "stdout",
       "text": [
        "\n",
        "iteration 2700 / 3000: loss 7.116088"
       ]
      },
      {
       "output_type": "stream",
       "stream": "stdout",
       "text": [
        "\n",
        "iteration 2800 / 3000: loss 7.046413"
       ]
      },
      {
       "output_type": "stream",
       "stream": "stdout",
       "text": [
        "\n",
        "iteration 2900 / 3000: loss 7.109614"
       ]
      },
      {
       "output_type": "stream",
       "stream": "stdout",
       "text": [
        "\n",
        "iteration 0 / 3000: loss 8.995336"
       ]
      },
      {
       "output_type": "stream",
       "stream": "stdout",
       "text": [
        "\n",
        "iteration 100 / 3000: loss 8.987966"
       ]
      },
      {
       "output_type": "stream",
       "stream": "stdout",
       "text": [
        "\n",
        "iteration 200 / 3000: loss 8.983580"
       ]
      },
      {
       "output_type": "stream",
       "stream": "stdout",
       "text": [
        "\n",
        "iteration 300 / 3000: loss 8.988810"
       ]
      },
      {
       "output_type": "stream",
       "stream": "stdout",
       "text": [
        "\n",
        "iteration 400 / 3000: loss 8.971586"
       ]
      },
      {
       "output_type": "stream",
       "stream": "stdout",
       "text": [
        "\n",
        "iteration 500 / 3000: loss 8.963005"
       ]
      },
      {
       "output_type": "stream",
       "stream": "stdout",
       "text": [
        "\n",
        "iteration 600 / 3000: loss 8.964097"
       ]
      },
      {
       "output_type": "stream",
       "stream": "stdout",
       "text": [
        "\n",
        "iteration 700 / 3000: loss 8.950489"
       ]
      },
      {
       "output_type": "stream",
       "stream": "stdout",
       "text": [
        "\n",
        "iteration 800 / 3000: loss 8.926796"
       ]
      },
      {
       "output_type": "stream",
       "stream": "stdout",
       "text": [
        "\n",
        "iteration 900 / 3000: loss 8.955406"
       ]
      },
      {
       "output_type": "stream",
       "stream": "stdout",
       "text": [
        "\n",
        "iteration 1000 / 3000: loss 8.930643"
       ]
      },
      {
       "output_type": "stream",
       "stream": "stdout",
       "text": [
        "\n",
        "iteration 1100 / 3000: loss 8.930461"
       ]
      },
      {
       "output_type": "stream",
       "stream": "stdout",
       "text": [
        "\n",
        "iteration 1200 / 3000: loss 8.916371"
       ]
      },
      {
       "output_type": "stream",
       "stream": "stdout",
       "text": [
        "\n",
        "iteration 1300 / 3000: loss 8.914690"
       ]
      },
      {
       "output_type": "stream",
       "stream": "stdout",
       "text": [
        "\n",
        "iteration 1400 / 3000: loss 8.906491"
       ]
      },
      {
       "output_type": "stream",
       "stream": "stdout",
       "text": [
        "\n",
        "iteration 1500 / 3000: loss 8.882957"
       ]
      },
      {
       "output_type": "stream",
       "stream": "stdout",
       "text": [
        "\n",
        "iteration 1600 / 3000: loss 8.888542"
       ]
      },
      {
       "output_type": "stream",
       "stream": "stdout",
       "text": [
        "\n",
        "iteration 1700 / 3000: loss 8.880664"
       ]
      },
      {
       "output_type": "stream",
       "stream": "stdout",
       "text": [
        "\n",
        "iteration 1800 / 3000: loss 8.880753"
       ]
      },
      {
       "output_type": "stream",
       "stream": "stdout",
       "text": [
        "\n",
        "iteration 1900 / 3000: loss 8.878731"
       ]
      },
      {
       "output_type": "stream",
       "stream": "stdout",
       "text": [
        "\n",
        "iteration 2000 / 3000: loss 8.850020"
       ]
      },
      {
       "output_type": "stream",
       "stream": "stdout",
       "text": [
        "\n",
        "iteration 2100 / 3000: loss 8.868383"
       ]
      },
      {
       "output_type": "stream",
       "stream": "stdout",
       "text": [
        "\n",
        "iteration 2200 / 3000: loss 8.845098"
       ]
      },
      {
       "output_type": "stream",
       "stream": "stdout",
       "text": [
        "\n",
        "iteration 2300 / 3000: loss 8.843799"
       ]
      },
      {
       "output_type": "stream",
       "stream": "stdout",
       "text": [
        "\n",
        "iteration 2400 / 3000: loss 8.835819"
       ]
      },
      {
       "output_type": "stream",
       "stream": "stdout",
       "text": [
        "\n",
        "iteration 2500 / 3000: loss 8.814319"
       ]
      },
      {
       "output_type": "stream",
       "stream": "stdout",
       "text": [
        "\n",
        "iteration 2600 / 3000: loss 8.798597"
       ]
      },
      {
       "output_type": "stream",
       "stream": "stdout",
       "text": [
        "\n",
        "iteration 2700 / 3000: loss 8.824349"
       ]
      },
      {
       "output_type": "stream",
       "stream": "stdout",
       "text": [
        "\n",
        "iteration 2800 / 3000: loss 8.799240"
       ]
      },
      {
       "output_type": "stream",
       "stream": "stdout",
       "text": [
        "\n",
        "iteration 2900 / 3000: loss 8.805655"
       ]
      },
      {
       "output_type": "stream",
       "stream": "stdout",
       "text": [
        "\n",
        "iteration 0 / 3000: loss 8.982514"
       ]
      },
      {
       "output_type": "stream",
       "stream": "stdout",
       "text": [
        "\n",
        "iteration 100 / 3000: loss 8.976673"
       ]
      },
      {
       "output_type": "stream",
       "stream": "stdout",
       "text": [
        "\n",
        "iteration 200 / 3000: loss 8.966627"
       ]
      },
      {
       "output_type": "stream",
       "stream": "stdout",
       "text": [
        "\n",
        "iteration 300 / 3000: loss 8.965332"
       ]
      },
      {
       "output_type": "stream",
       "stream": "stdout",
       "text": [
        "\n",
        "iteration 400 / 3000: loss 8.949342"
       ]
      },
      {
       "output_type": "stream",
       "stream": "stdout",
       "text": [
        "\n",
        "iteration 500 / 3000: loss 8.949054"
       ]
      },
      {
       "output_type": "stream",
       "stream": "stdout",
       "text": [
        "\n",
        "iteration 600 / 3000: loss 8.931305"
       ]
      },
      {
       "output_type": "stream",
       "stream": "stdout",
       "text": [
        "\n",
        "iteration 700 / 3000: loss 8.922195"
       ]
      },
      {
       "output_type": "stream",
       "stream": "stdout",
       "text": [
        "\n",
        "iteration 800 / 3000: loss 8.927614"
       ]
      },
      {
       "output_type": "stream",
       "stream": "stdout",
       "text": [
        "\n",
        "iteration 900 / 3000: loss 8.922908"
       ]
      },
      {
       "output_type": "stream",
       "stream": "stdout",
       "text": [
        "\n",
        "iteration 1000 / 3000: loss 8.912066"
       ]
      },
      {
       "output_type": "stream",
       "stream": "stdout",
       "text": [
        "\n",
        "iteration 1100 / 3000: loss 8.916608"
       ]
      },
      {
       "output_type": "stream",
       "stream": "stdout",
       "text": [
        "\n",
        "iteration 1200 / 3000: loss 8.895054"
       ]
      },
      {
       "output_type": "stream",
       "stream": "stdout",
       "text": [
        "\n",
        "iteration 1300 / 3000: loss 8.903015"
       ]
      },
      {
       "output_type": "stream",
       "stream": "stdout",
       "text": [
        "\n",
        "iteration 1400 / 3000: loss 8.871559"
       ]
      },
      {
       "output_type": "stream",
       "stream": "stdout",
       "text": [
        "\n",
        "iteration 1500 / 3000: loss 8.890290"
       ]
      },
      {
       "output_type": "stream",
       "stream": "stdout",
       "text": [
        "\n",
        "iteration 1600 / 3000: loss 8.864273"
       ]
      },
      {
       "output_type": "stream",
       "stream": "stdout",
       "text": [
        "\n",
        "iteration 1700 / 3000: loss 8.844551"
       ]
      },
      {
       "output_type": "stream",
       "stream": "stdout",
       "text": [
        "\n",
        "iteration 1800 / 3000: loss 8.835264"
       ]
      },
      {
       "output_type": "stream",
       "stream": "stdout",
       "text": [
        "\n",
        "iteration 1900 / 3000: loss 8.825842"
       ]
      },
      {
       "output_type": "stream",
       "stream": "stdout",
       "text": [
        "\n",
        "iteration 2000 / 3000: loss 8.840445"
       ]
      },
      {
       "output_type": "stream",
       "stream": "stdout",
       "text": [
        "\n",
        "iteration 2100 / 3000: loss 8.825043"
       ]
      },
      {
       "output_type": "stream",
       "stream": "stdout",
       "text": [
        "\n",
        "iteration 2200 / 3000: loss 8.817793"
       ]
      },
      {
       "output_type": "stream",
       "stream": "stdout",
       "text": [
        "\n",
        "iteration 2300 / 3000: loss 8.819081"
       ]
      },
      {
       "output_type": "stream",
       "stream": "stdout",
       "text": [
        "\n",
        "iteration 2400 / 3000: loss 8.823675"
       ]
      },
      {
       "output_type": "stream",
       "stream": "stdout",
       "text": [
        "\n",
        "iteration 2500 / 3000: loss 8.819976"
       ]
      },
      {
       "output_type": "stream",
       "stream": "stdout",
       "text": [
        "\n",
        "iteration 2600 / 3000: loss 8.783510"
       ]
      },
      {
       "output_type": "stream",
       "stream": "stdout",
       "text": [
        "\n",
        "iteration 2700 / 3000: loss 8.812452"
       ]
      },
      {
       "output_type": "stream",
       "stream": "stdout",
       "text": [
        "\n",
        "iteration 2800 / 3000: loss 8.831003"
       ]
      },
      {
       "output_type": "stream",
       "stream": "stdout",
       "text": [
        "\n",
        "iteration 2900 / 3000: loss 8.772505"
       ]
      },
      {
       "output_type": "stream",
       "stream": "stdout",
       "text": [
        "\n",
        "iteration 0 / 3000: loss 9.002589"
       ]
      },
      {
       "output_type": "stream",
       "stream": "stdout",
       "text": [
        "\n",
        "iteration 100 / 3000: loss 8.987264"
       ]
      },
      {
       "output_type": "stream",
       "stream": "stdout",
       "text": [
        "\n",
        "iteration 200 / 3000: loss 8.993203"
       ]
      },
      {
       "output_type": "stream",
       "stream": "stdout",
       "text": [
        "\n",
        "iteration 300 / 3000: loss 8.960117"
       ]
      },
      {
       "output_type": "stream",
       "stream": "stdout",
       "text": [
        "\n",
        "iteration 400 / 3000: loss 8.972683"
       ]
      },
      {
       "output_type": "stream",
       "stream": "stdout",
       "text": [
        "\n",
        "iteration 500 / 3000: loss 8.954212"
       ]
      },
      {
       "output_type": "stream",
       "stream": "stdout",
       "text": [
        "\n",
        "iteration 600 / 3000: loss 8.964873"
       ]
      },
      {
       "output_type": "stream",
       "stream": "stdout",
       "text": [
        "\n",
        "iteration 700 / 3000: loss 8.953612"
       ]
      },
      {
       "output_type": "stream",
       "stream": "stdout",
       "text": [
        "\n",
        "iteration 800 / 3000: loss 8.959647"
       ]
      },
      {
       "output_type": "stream",
       "stream": "stdout",
       "text": [
        "\n",
        "iteration 900 / 3000: loss 8.940926"
       ]
      },
      {
       "output_type": "stream",
       "stream": "stdout",
       "text": [
        "\n",
        "iteration 1000 / 3000: loss 8.934144"
       ]
      },
      {
       "output_type": "stream",
       "stream": "stdout",
       "text": [
        "\n",
        "iteration 1100 / 3000: loss 8.920514"
       ]
      },
      {
       "output_type": "stream",
       "stream": "stdout",
       "text": [
        "\n",
        "iteration 1200 / 3000: loss 8.922716"
       ]
      },
      {
       "output_type": "stream",
       "stream": "stdout",
       "text": [
        "\n",
        "iteration 1300 / 3000: loss 8.903446"
       ]
      },
      {
       "output_type": "stream",
       "stream": "stdout",
       "text": [
        "\n",
        "iteration 1400 / 3000: loss 8.905709"
       ]
      },
      {
       "output_type": "stream",
       "stream": "stdout",
       "text": [
        "\n",
        "iteration 1500 / 3000: loss 8.903837"
       ]
      },
      {
       "output_type": "stream",
       "stream": "stdout",
       "text": [
        "\n",
        "iteration 1600 / 3000: loss 8.921249"
       ]
      },
      {
       "output_type": "stream",
       "stream": "stdout",
       "text": [
        "\n",
        "iteration 1700 / 3000: loss 8.881188"
       ]
      },
      {
       "output_type": "stream",
       "stream": "stdout",
       "text": [
        "\n",
        "iteration 1800 / 3000: loss 8.880537"
       ]
      },
      {
       "output_type": "stream",
       "stream": "stdout",
       "text": [
        "\n",
        "iteration 1900 / 3000: loss 8.882238"
       ]
      },
      {
       "output_type": "stream",
       "stream": "stdout",
       "text": [
        "\n",
        "iteration 2000 / 3000: loss 8.862049"
       ]
      },
      {
       "output_type": "stream",
       "stream": "stdout",
       "text": [
        "\n",
        "iteration 2100 / 3000: loss 8.838682"
       ]
      },
      {
       "output_type": "stream",
       "stream": "stdout",
       "text": [
        "\n",
        "iteration 2200 / 3000: loss 8.852022"
       ]
      },
      {
       "output_type": "stream",
       "stream": "stdout",
       "text": [
        "\n",
        "iteration 2300 / 3000: loss 8.844928"
       ]
      },
      {
       "output_type": "stream",
       "stream": "stdout",
       "text": [
        "\n",
        "iteration 2400 / 3000: loss 8.840124"
       ]
      },
      {
       "output_type": "stream",
       "stream": "stdout",
       "text": [
        "\n",
        "iteration 2500 / 3000: loss 8.813965"
       ]
      },
      {
       "output_type": "stream",
       "stream": "stdout",
       "text": [
        "\n",
        "iteration 2600 / 3000: loss 8.807616"
       ]
      },
      {
       "output_type": "stream",
       "stream": "stdout",
       "text": [
        "\n",
        "iteration 2700 / 3000: loss 8.818280"
       ]
      },
      {
       "output_type": "stream",
       "stream": "stdout",
       "text": [
        "\n",
        "iteration 2800 / 3000: loss 8.830452"
       ]
      },
      {
       "output_type": "stream",
       "stream": "stdout",
       "text": [
        "\n",
        "iteration 2900 / 3000: loss 8.799702"
       ]
      },
      {
       "output_type": "stream",
       "stream": "stdout",
       "text": [
        "\n",
        "iteration 0 / 3000: loss 8.999767"
       ]
      },
      {
       "output_type": "stream",
       "stream": "stdout",
       "text": [
        "\n",
        "iteration 100 / 3000: loss 8.983559"
       ]
      },
      {
       "output_type": "stream",
       "stream": "stdout",
       "text": [
        "\n",
        "iteration 200 / 3000: loss 8.977478"
       ]
      },
      {
       "output_type": "stream",
       "stream": "stdout",
       "text": [
        "\n",
        "iteration 300 / 3000: loss 8.975778"
       ]
      },
      {
       "output_type": "stream",
       "stream": "stdout",
       "text": [
        "\n",
        "iteration 400 / 3000: loss 8.977588"
       ]
      },
      {
       "output_type": "stream",
       "stream": "stdout",
       "text": [
        "\n",
        "iteration 500 / 3000: loss 8.980870"
       ]
      },
      {
       "output_type": "stream",
       "stream": "stdout",
       "text": [
        "\n",
        "iteration 600 / 3000: loss 8.950319"
       ]
      },
      {
       "output_type": "stream",
       "stream": "stdout",
       "text": [
        "\n",
        "iteration 700 / 3000: loss 8.924731"
       ]
      },
      {
       "output_type": "stream",
       "stream": "stdout",
       "text": [
        "\n",
        "iteration 800 / 3000: loss 8.946627"
       ]
      },
      {
       "output_type": "stream",
       "stream": "stdout",
       "text": [
        "\n",
        "iteration 900 / 3000: loss 8.936895"
       ]
      },
      {
       "output_type": "stream",
       "stream": "stdout",
       "text": [
        "\n",
        "iteration 1000 / 3000: loss 8.917619"
       ]
      },
      {
       "output_type": "stream",
       "stream": "stdout",
       "text": [
        "\n",
        "iteration 1100 / 3000: loss 8.921252"
       ]
      },
      {
       "output_type": "stream",
       "stream": "stdout",
       "text": [
        "\n",
        "iteration 1200 / 3000: loss 8.905588"
       ]
      },
      {
       "output_type": "stream",
       "stream": "stdout",
       "text": [
        "\n",
        "iteration 1300 / 3000: loss 8.909459"
       ]
      },
      {
       "output_type": "stream",
       "stream": "stdout",
       "text": [
        "\n",
        "iteration 1400 / 3000: loss 8.891724"
       ]
      },
      {
       "output_type": "stream",
       "stream": "stdout",
       "text": [
        "\n",
        "iteration 1500 / 3000: loss 8.898819"
       ]
      },
      {
       "output_type": "stream",
       "stream": "stdout",
       "text": [
        "\n",
        "iteration 1600 / 3000: loss 8.880445"
       ]
      },
      {
       "output_type": "stream",
       "stream": "stdout",
       "text": [
        "\n",
        "iteration 1700 / 3000: loss 8.870076"
       ]
      },
      {
       "output_type": "stream",
       "stream": "stdout",
       "text": [
        "\n",
        "iteration 1800 / 3000: loss 8.882434"
       ]
      },
      {
       "output_type": "stream",
       "stream": "stdout",
       "text": [
        "\n",
        "iteration 1900 / 3000: loss 8.856217"
       ]
      },
      {
       "output_type": "stream",
       "stream": "stdout",
       "text": [
        "\n",
        "iteration 2000 / 3000: loss 8.851646"
       ]
      },
      {
       "output_type": "stream",
       "stream": "stdout",
       "text": [
        "\n",
        "iteration 2100 / 3000: loss 8.834865"
       ]
      },
      {
       "output_type": "stream",
       "stream": "stdout",
       "text": [
        "\n",
        "iteration 2200 / 3000: loss 8.831126"
       ]
      },
      {
       "output_type": "stream",
       "stream": "stdout",
       "text": [
        "\n",
        "iteration 2300 / 3000: loss 8.863654"
       ]
      },
      {
       "output_type": "stream",
       "stream": "stdout",
       "text": [
        "\n",
        "iteration 2400 / 3000: loss 8.818880"
       ]
      },
      {
       "output_type": "stream",
       "stream": "stdout",
       "text": [
        "\n",
        "iteration 2500 / 3000: loss 8.814646"
       ]
      },
      {
       "output_type": "stream",
       "stream": "stdout",
       "text": [
        "\n",
        "iteration 2600 / 3000: loss 8.813910"
       ]
      },
      {
       "output_type": "stream",
       "stream": "stdout",
       "text": [
        "\n",
        "iteration 2700 / 3000: loss 8.833267"
       ]
      },
      {
       "output_type": "stream",
       "stream": "stdout",
       "text": [
        "\n",
        "iteration 2800 / 3000: loss 8.811123"
       ]
      },
      {
       "output_type": "stream",
       "stream": "stdout",
       "text": [
        "\n",
        "iteration 2900 / 3000: loss 8.789287"
       ]
      },
      {
       "output_type": "stream",
       "stream": "stdout",
       "text": [
        "\n",
        "iteration 0 / 3000: loss 9.014244"
       ]
      },
      {
       "output_type": "stream",
       "stream": "stdout",
       "text": [
        "\n",
        "iteration 100 / 3000: loss 9.002133"
       ]
      },
      {
       "output_type": "stream",
       "stream": "stdout",
       "text": [
        "\n",
        "iteration 200 / 3000: loss 8.993632"
       ]
      },
      {
       "output_type": "stream",
       "stream": "stdout",
       "text": [
        "\n",
        "iteration 300 / 3000: loss 8.991483"
       ]
      },
      {
       "output_type": "stream",
       "stream": "stdout",
       "text": [
        "\n",
        "iteration 400 / 3000: loss 8.965980"
       ]
      },
      {
       "output_type": "stream",
       "stream": "stdout",
       "text": [
        "\n",
        "iteration 500 / 3000: loss 8.965449"
       ]
      },
      {
       "output_type": "stream",
       "stream": "stdout",
       "text": [
        "\n",
        "iteration 600 / 3000: loss 8.957690"
       ]
      },
      {
       "output_type": "stream",
       "stream": "stdout",
       "text": [
        "\n",
        "iteration 700 / 3000: loss 8.954281"
       ]
      },
      {
       "output_type": "stream",
       "stream": "stdout",
       "text": [
        "\n",
        "iteration 800 / 3000: loss 8.938961"
       ]
      },
      {
       "output_type": "stream",
       "stream": "stdout",
       "text": [
        "\n",
        "iteration 900 / 3000: loss 8.930499"
       ]
      },
      {
       "output_type": "stream",
       "stream": "stdout",
       "text": [
        "\n",
        "iteration 1000 / 3000: loss 8.925289"
       ]
      },
      {
       "output_type": "stream",
       "stream": "stdout",
       "text": [
        "\n",
        "iteration 1100 / 3000: loss 8.911841"
       ]
      },
      {
       "output_type": "stream",
       "stream": "stdout",
       "text": [
        "\n",
        "iteration 1200 / 3000: loss 8.930224"
       ]
      },
      {
       "output_type": "stream",
       "stream": "stdout",
       "text": [
        "\n",
        "iteration 1300 / 3000: loss 8.919059"
       ]
      },
      {
       "output_type": "stream",
       "stream": "stdout",
       "text": [
        "\n",
        "iteration 1400 / 3000: loss 8.910666"
       ]
      },
      {
       "output_type": "stream",
       "stream": "stdout",
       "text": [
        "\n",
        "iteration 1500 / 3000: loss 8.921793"
       ]
      },
      {
       "output_type": "stream",
       "stream": "stdout",
       "text": [
        "\n",
        "iteration 1600 / 3000: loss 8.882429"
       ]
      },
      {
       "output_type": "stream",
       "stream": "stdout",
       "text": [
        "\n",
        "iteration 1700 / 3000: loss 8.876285"
       ]
      },
      {
       "output_type": "stream",
       "stream": "stdout",
       "text": [
        "\n",
        "iteration 1800 / 3000: loss 8.876695"
       ]
      },
      {
       "output_type": "stream",
       "stream": "stdout",
       "text": [
        "\n",
        "iteration 1900 / 3000: loss 8.870302"
       ]
      },
      {
       "output_type": "stream",
       "stream": "stdout",
       "text": [
        "\n",
        "iteration 2000 / 3000: loss 8.867599"
       ]
      },
      {
       "output_type": "stream",
       "stream": "stdout",
       "text": [
        "\n",
        "iteration 2100 / 3000: loss 8.858264"
       ]
      },
      {
       "output_type": "stream",
       "stream": "stdout",
       "text": [
        "\n",
        "iteration 2200 / 3000: loss 8.821962"
       ]
      },
      {
       "output_type": "stream",
       "stream": "stdout",
       "text": [
        "\n",
        "iteration 2300 / 3000: loss 8.845648"
       ]
      },
      {
       "output_type": "stream",
       "stream": "stdout",
       "text": [
        "\n",
        "iteration 2400 / 3000: loss 8.813576"
       ]
      },
      {
       "output_type": "stream",
       "stream": "stdout",
       "text": [
        "\n",
        "iteration 2500 / 3000: loss 8.816925"
       ]
      },
      {
       "output_type": "stream",
       "stream": "stdout",
       "text": [
        "\n",
        "iteration 2600 / 3000: loss 8.808594"
       ]
      },
      {
       "output_type": "stream",
       "stream": "stdout",
       "text": [
        "\n",
        "iteration 2700 / 3000: loss 8.804846"
       ]
      },
      {
       "output_type": "stream",
       "stream": "stdout",
       "text": [
        "\n",
        "iteration 2800 / 3000: loss 8.810107"
       ]
      },
      {
       "output_type": "stream",
       "stream": "stdout",
       "text": [
        "\n",
        "iteration 2900 / 3000: loss 8.799517"
       ]
      },
      {
       "output_type": "stream",
       "stream": "stdout",
       "text": [
        "\n",
        "iteration 0 / 3000: loss 8.993791"
       ]
      },
      {
       "output_type": "stream",
       "stream": "stdout",
       "text": [
        "\n",
        "iteration 100 / 3000: loss 8.992917"
       ]
      },
      {
       "output_type": "stream",
       "stream": "stdout",
       "text": [
        "\n",
        "iteration 200 / 3000: loss 8.987063"
       ]
      },
      {
       "output_type": "stream",
       "stream": "stdout",
       "text": [
        "\n",
        "iteration 300 / 3000: loss 8.975967"
       ]
      },
      {
       "output_type": "stream",
       "stream": "stdout",
       "text": [
        "\n",
        "iteration 400 / 3000: loss 8.961771"
       ]
      },
      {
       "output_type": "stream",
       "stream": "stdout",
       "text": [
        "\n",
        "iteration 500 / 3000: loss 8.974630"
       ]
      },
      {
       "output_type": "stream",
       "stream": "stdout",
       "text": [
        "\n",
        "iteration 600 / 3000: loss 8.946053"
       ]
      },
      {
       "output_type": "stream",
       "stream": "stdout",
       "text": [
        "\n",
        "iteration 700 / 3000: loss 8.971599"
       ]
      },
      {
       "output_type": "stream",
       "stream": "stdout",
       "text": [
        "\n",
        "iteration 800 / 3000: loss 8.933547"
       ]
      },
      {
       "output_type": "stream",
       "stream": "stdout",
       "text": [
        "\n",
        "iteration 900 / 3000: loss 8.934453"
       ]
      },
      {
       "output_type": "stream",
       "stream": "stdout",
       "text": [
        "\n",
        "iteration 1000 / 3000: loss 8.929327"
       ]
      },
      {
       "output_type": "stream",
       "stream": "stdout",
       "text": [
        "\n",
        "iteration 1100 / 3000: loss 8.918905"
       ]
      },
      {
       "output_type": "stream",
       "stream": "stdout",
       "text": [
        "\n",
        "iteration 1200 / 3000: loss 8.911875"
       ]
      },
      {
       "output_type": "stream",
       "stream": "stdout",
       "text": [
        "\n",
        "iteration 1300 / 3000: loss 8.911240"
       ]
      },
      {
       "output_type": "stream",
       "stream": "stdout",
       "text": [
        "\n",
        "iteration 1400 / 3000: loss 8.898543"
       ]
      },
      {
       "output_type": "stream",
       "stream": "stdout",
       "text": [
        "\n",
        "iteration 1500 / 3000: loss 8.881923"
       ]
      },
      {
       "output_type": "stream",
       "stream": "stdout",
       "text": [
        "\n",
        "iteration 1600 / 3000: loss 8.870368"
       ]
      },
      {
       "output_type": "stream",
       "stream": "stdout",
       "text": [
        "\n",
        "iteration 1700 / 3000: loss 8.867503"
       ]
      },
      {
       "output_type": "stream",
       "stream": "stdout",
       "text": [
        "\n",
        "iteration 1800 / 3000: loss 8.852915"
       ]
      },
      {
       "output_type": "stream",
       "stream": "stdout",
       "text": [
        "\n",
        "iteration 1900 / 3000: loss 8.900123"
       ]
      },
      {
       "output_type": "stream",
       "stream": "stdout",
       "text": [
        "\n",
        "iteration 2000 / 3000: loss 8.851365"
       ]
      },
      {
       "output_type": "stream",
       "stream": "stdout",
       "text": [
        "\n",
        "iteration 2100 / 3000: loss 8.862514"
       ]
      },
      {
       "output_type": "stream",
       "stream": "stdout",
       "text": [
        "\n",
        "iteration 2200 / 3000: loss 8.845658"
       ]
      },
      {
       "output_type": "stream",
       "stream": "stdout",
       "text": [
        "\n",
        "iteration 2300 / 3000: loss 8.838000"
       ]
      },
      {
       "output_type": "stream",
       "stream": "stdout",
       "text": [
        "\n",
        "iteration 2400 / 3000: loss 8.826829"
       ]
      },
      {
       "output_type": "stream",
       "stream": "stdout",
       "text": [
        "\n",
        "iteration 2500 / 3000: loss 8.801179"
       ]
      },
      {
       "output_type": "stream",
       "stream": "stdout",
       "text": [
        "\n",
        "iteration 2600 / 3000: loss 8.809307"
       ]
      },
      {
       "output_type": "stream",
       "stream": "stdout",
       "text": [
        "\n",
        "iteration 2700 / 3000: loss 8.825709"
       ]
      },
      {
       "output_type": "stream",
       "stream": "stdout",
       "text": [
        "\n",
        "iteration 2800 / 3000: loss 8.793647"
       ]
      },
      {
       "output_type": "stream",
       "stream": "stdout",
       "text": [
        "\n",
        "iteration 2900 / 3000: loss 8.765369"
       ]
      },
      {
       "output_type": "stream",
       "stream": "stdout",
       "text": [
        "\n",
        "iteration 0 / 3000: loss 8.983119"
       ]
      },
      {
       "output_type": "stream",
       "stream": "stdout",
       "text": [
        "\n",
        "iteration 100 / 3000: loss 8.975498"
       ]
      },
      {
       "output_type": "stream",
       "stream": "stdout",
       "text": [
        "\n",
        "iteration 200 / 3000: loss 8.968987"
       ]
      },
      {
       "output_type": "stream",
       "stream": "stdout",
       "text": [
        "\n",
        "iteration 300 / 3000: loss 8.967184"
       ]
      },
      {
       "output_type": "stream",
       "stream": "stdout",
       "text": [
        "\n",
        "iteration 400 / 3000: loss 8.959951"
       ]
      },
      {
       "output_type": "stream",
       "stream": "stdout",
       "text": [
        "\n",
        "iteration 500 / 3000: loss 8.951123"
       ]
      },
      {
       "output_type": "stream",
       "stream": "stdout",
       "text": [
        "\n",
        "iteration 600 / 3000: loss 8.952827"
       ]
      },
      {
       "output_type": "stream",
       "stream": "stdout",
       "text": [
        "\n",
        "iteration 700 / 3000: loss 8.943402"
       ]
      },
      {
       "output_type": "stream",
       "stream": "stdout",
       "text": [
        "\n",
        "iteration 800 / 3000: loss 8.927663"
       ]
      },
      {
       "output_type": "stream",
       "stream": "stdout",
       "text": [
        "\n",
        "iteration 900 / 3000: loss 8.928932"
       ]
      },
      {
       "output_type": "stream",
       "stream": "stdout",
       "text": [
        "\n",
        "iteration 1000 / 3000: loss 8.919160"
       ]
      },
      {
       "output_type": "stream",
       "stream": "stdout",
       "text": [
        "\n",
        "iteration 1100 / 3000: loss 8.904213"
       ]
      },
      {
       "output_type": "stream",
       "stream": "stdout",
       "text": [
        "\n",
        "iteration 1200 / 3000: loss 8.907762"
       ]
      },
      {
       "output_type": "stream",
       "stream": "stdout",
       "text": [
        "\n",
        "iteration 1300 / 3000: loss 8.886673"
       ]
      },
      {
       "output_type": "stream",
       "stream": "stdout",
       "text": [
        "\n",
        "iteration 1400 / 3000: loss 8.882301"
       ]
      },
      {
       "output_type": "stream",
       "stream": "stdout",
       "text": [
        "\n",
        "iteration 1500 / 3000: loss 8.882206"
       ]
      },
      {
       "output_type": "stream",
       "stream": "stdout",
       "text": [
        "\n",
        "iteration 1600 / 3000: loss 8.858461"
       ]
      },
      {
       "output_type": "stream",
       "stream": "stdout",
       "text": [
        "\n",
        "iteration 1700 / 3000: loss 8.848467"
       ]
      },
      {
       "output_type": "stream",
       "stream": "stdout",
       "text": [
        "\n",
        "iteration 1800 / 3000: loss 8.861354"
       ]
      },
      {
       "output_type": "stream",
       "stream": "stdout",
       "text": [
        "\n",
        "iteration 1900 / 3000: loss 8.863890"
       ]
      },
      {
       "output_type": "stream",
       "stream": "stdout",
       "text": [
        "\n",
        "iteration 2000 / 3000: loss 8.859793"
       ]
      },
      {
       "output_type": "stream",
       "stream": "stdout",
       "text": [
        "\n",
        "iteration 2100 / 3000: loss 8.858748"
       ]
      },
      {
       "output_type": "stream",
       "stream": "stdout",
       "text": [
        "\n",
        "iteration 2200 / 3000: loss 8.816193"
       ]
      },
      {
       "output_type": "stream",
       "stream": "stdout",
       "text": [
        "\n",
        "iteration 2300 / 3000: loss 8.838457"
       ]
      },
      {
       "output_type": "stream",
       "stream": "stdout",
       "text": [
        "\n",
        "iteration 2400 / 3000: loss 8.830870"
       ]
      },
      {
       "output_type": "stream",
       "stream": "stdout",
       "text": [
        "\n",
        "iteration 2500 / 3000: loss 8.808111"
       ]
      },
      {
       "output_type": "stream",
       "stream": "stdout",
       "text": [
        "\n",
        "iteration 2600 / 3000: loss 8.810911"
       ]
      },
      {
       "output_type": "stream",
       "stream": "stdout",
       "text": [
        "\n",
        "iteration 2700 / 3000: loss 8.816129"
       ]
      },
      {
       "output_type": "stream",
       "stream": "stdout",
       "text": [
        "\n",
        "iteration 2800 / 3000: loss 8.801487"
       ]
      },
      {
       "output_type": "stream",
       "stream": "stdout",
       "text": [
        "\n",
        "iteration 2900 / 3000: loss 8.803262"
       ]
      },
      {
       "output_type": "stream",
       "stream": "stdout",
       "text": [
        "\n",
        "iteration 0 / 3000: loss 9.018002"
       ]
      },
      {
       "output_type": "stream",
       "stream": "stdout",
       "text": [
        "\n",
        "iteration 100 / 3000: loss 9.017161"
       ]
      },
      {
       "output_type": "stream",
       "stream": "stdout",
       "text": [
        "\n",
        "iteration 200 / 3000: loss 8.986106"
       ]
      },
      {
       "output_type": "stream",
       "stream": "stdout",
       "text": [
        "\n",
        "iteration 300 / 3000: loss 9.002189"
       ]
      },
      {
       "output_type": "stream",
       "stream": "stdout",
       "text": [
        "\n",
        "iteration 400 / 3000: loss 8.999501"
       ]
      },
      {
       "output_type": "stream",
       "stream": "stdout",
       "text": [
        "\n",
        "iteration 500 / 3000: loss 9.004092"
       ]
      },
      {
       "output_type": "stream",
       "stream": "stdout",
       "text": [
        "\n",
        "iteration 600 / 3000: loss 9.004670"
       ]
      },
      {
       "output_type": "stream",
       "stream": "stdout",
       "text": [
        "\n",
        "iteration 700 / 3000: loss 8.990246"
       ]
      },
      {
       "output_type": "stream",
       "stream": "stdout",
       "text": [
        "\n",
        "iteration 800 / 3000: loss 9.000388"
       ]
      },
      {
       "output_type": "stream",
       "stream": "stdout",
       "text": [
        "\n",
        "iteration 900 / 3000: loss 8.982675"
       ]
      },
      {
       "output_type": "stream",
       "stream": "stdout",
       "text": [
        "\n",
        "iteration 1000 / 3000: loss 8.989896"
       ]
      },
      {
       "output_type": "stream",
       "stream": "stdout",
       "text": [
        "\n",
        "iteration 1100 / 3000: loss 9.012502"
       ]
      },
      {
       "output_type": "stream",
       "stream": "stdout",
       "text": [
        "\n",
        "iteration 1200 / 3000: loss 8.996450"
       ]
      },
      {
       "output_type": "stream",
       "stream": "stdout",
       "text": [
        "\n",
        "iteration 1300 / 3000: loss 9.010785"
       ]
      },
      {
       "output_type": "stream",
       "stream": "stdout",
       "text": [
        "\n",
        "iteration 1400 / 3000: loss 9.004721"
       ]
      },
      {
       "output_type": "stream",
       "stream": "stdout",
       "text": [
        "\n",
        "iteration 1500 / 3000: loss 8.993365"
       ]
      },
      {
       "output_type": "stream",
       "stream": "stdout",
       "text": [
        "\n",
        "iteration 1600 / 3000: loss 9.003141"
       ]
      },
      {
       "output_type": "stream",
       "stream": "stdout",
       "text": [
        "\n",
        "iteration 1700 / 3000: loss 8.997111"
       ]
      },
      {
       "output_type": "stream",
       "stream": "stdout",
       "text": [
        "\n",
        "iteration 1800 / 3000: loss 8.972251"
       ]
      },
      {
       "output_type": "stream",
       "stream": "stdout",
       "text": [
        "\n",
        "iteration 1900 / 3000: loss 8.984059"
       ]
      },
      {
       "output_type": "stream",
       "stream": "stdout",
       "text": [
        "\n",
        "iteration 2000 / 3000: loss 9.000055"
       ]
      },
      {
       "output_type": "stream",
       "stream": "stdout",
       "text": [
        "\n",
        "iteration 2100 / 3000: loss 8.984985"
       ]
      },
      {
       "output_type": "stream",
       "stream": "stdout",
       "text": [
        "\n",
        "iteration 2200 / 3000: loss 8.992096"
       ]
      },
      {
       "output_type": "stream",
       "stream": "stdout",
       "text": [
        "\n",
        "iteration 2300 / 3000: loss 8.976713"
       ]
      },
      {
       "output_type": "stream",
       "stream": "stdout",
       "text": [
        "\n",
        "iteration 2400 / 3000: loss 8.984908"
       ]
      },
      {
       "output_type": "stream",
       "stream": "stdout",
       "text": [
        "\n",
        "iteration 2500 / 3000: loss 8.976087"
       ]
      },
      {
       "output_type": "stream",
       "stream": "stdout",
       "text": [
        "\n",
        "iteration 2600 / 3000: loss 8.977045"
       ]
      },
      {
       "output_type": "stream",
       "stream": "stdout",
       "text": [
        "\n",
        "iteration 2700 / 3000: loss 8.997790"
       ]
      },
      {
       "output_type": "stream",
       "stream": "stdout",
       "text": [
        "\n",
        "iteration 2800 / 3000: loss 8.989984"
       ]
      },
      {
       "output_type": "stream",
       "stream": "stdout",
       "text": [
        "\n",
        "iteration 2900 / 3000: loss 8.980473"
       ]
      },
      {
       "output_type": "stream",
       "stream": "stdout",
       "text": [
        "\n",
        "iteration 0 / 3000: loss 8.986172"
       ]
      },
      {
       "output_type": "stream",
       "stream": "stdout",
       "text": [
        "\n",
        "iteration 100 / 3000: loss 8.982015"
       ]
      },
      {
       "output_type": "stream",
       "stream": "stdout",
       "text": [
        "\n",
        "iteration 200 / 3000: loss 9.001510"
       ]
      },
      {
       "output_type": "stream",
       "stream": "stdout",
       "text": [
        "\n",
        "iteration 300 / 3000: loss 8.972633"
       ]
      },
      {
       "output_type": "stream",
       "stream": "stdout",
       "text": [
        "\n",
        "iteration 400 / 3000: loss 8.995882"
       ]
      },
      {
       "output_type": "stream",
       "stream": "stdout",
       "text": [
        "\n",
        "iteration 500 / 3000: loss 8.994603"
       ]
      },
      {
       "output_type": "stream",
       "stream": "stdout",
       "text": [
        "\n",
        "iteration 600 / 3000: loss 8.985358"
       ]
      },
      {
       "output_type": "stream",
       "stream": "stdout",
       "text": [
        "\n",
        "iteration 700 / 3000: loss 8.993349"
       ]
      },
      {
       "output_type": "stream",
       "stream": "stdout",
       "text": [
        "\n",
        "iteration 800 / 3000: loss 8.988409"
       ]
      },
      {
       "output_type": "stream",
       "stream": "stdout",
       "text": [
        "\n",
        "iteration 900 / 3000: loss 8.979388"
       ]
      },
      {
       "output_type": "stream",
       "stream": "stdout",
       "text": [
        "\n",
        "iteration 1000 / 3000: loss 8.983886"
       ]
      },
      {
       "output_type": "stream",
       "stream": "stdout",
       "text": [
        "\n",
        "iteration 1100 / 3000: loss 8.986569"
       ]
      },
      {
       "output_type": "stream",
       "stream": "stdout",
       "text": [
        "\n",
        "iteration 1200 / 3000: loss 8.984491"
       ]
      },
      {
       "output_type": "stream",
       "stream": "stdout",
       "text": [
        "\n",
        "iteration 1300 / 3000: loss 8.975011"
       ]
      },
      {
       "output_type": "stream",
       "stream": "stdout",
       "text": [
        "\n",
        "iteration 1400 / 3000: loss 8.998925"
       ]
      },
      {
       "output_type": "stream",
       "stream": "stdout",
       "text": [
        "\n",
        "iteration 1500 / 3000: loss 8.977861"
       ]
      },
      {
       "output_type": "stream",
       "stream": "stdout",
       "text": [
        "\n",
        "iteration 1600 / 3000: loss 8.982663"
       ]
      },
      {
       "output_type": "stream",
       "stream": "stdout",
       "text": [
        "\n",
        "iteration 1700 / 3000: loss 8.964298"
       ]
      },
      {
       "output_type": "stream",
       "stream": "stdout",
       "text": [
        "\n",
        "iteration 1800 / 3000: loss 8.984095"
       ]
      },
      {
       "output_type": "stream",
       "stream": "stdout",
       "text": [
        "\n",
        "iteration 1900 / 3000: loss 8.980764"
       ]
      },
      {
       "output_type": "stream",
       "stream": "stdout",
       "text": [
        "\n",
        "iteration 2000 / 3000: loss 8.971259"
       ]
      },
      {
       "output_type": "stream",
       "stream": "stdout",
       "text": [
        "\n",
        "iteration 2100 / 3000: loss 8.963464"
       ]
      },
      {
       "output_type": "stream",
       "stream": "stdout",
       "text": [
        "\n",
        "iteration 2200 / 3000: loss 8.987604"
       ]
      },
      {
       "output_type": "stream",
       "stream": "stdout",
       "text": [
        "\n",
        "iteration 2300 / 3000: loss 8.989196"
       ]
      },
      {
       "output_type": "stream",
       "stream": "stdout",
       "text": [
        "\n",
        "iteration 2400 / 3000: loss 8.965481"
       ]
      },
      {
       "output_type": "stream",
       "stream": "stdout",
       "text": [
        "\n",
        "iteration 2500 / 3000: loss 8.977490"
       ]
      },
      {
       "output_type": "stream",
       "stream": "stdout",
       "text": [
        "\n",
        "iteration 2600 / 3000: loss 8.977518"
       ]
      },
      {
       "output_type": "stream",
       "stream": "stdout",
       "text": [
        "\n",
        "iteration 2700 / 3000: loss 8.978988"
       ]
      },
      {
       "output_type": "stream",
       "stream": "stdout",
       "text": [
        "\n",
        "iteration 2800 / 3000: loss 8.969584"
       ]
      },
      {
       "output_type": "stream",
       "stream": "stdout",
       "text": [
        "\n",
        "iteration 2900 / 3000: loss 8.970615"
       ]
      },
      {
       "output_type": "stream",
       "stream": "stdout",
       "text": [
        "\n",
        "iteration 0 / 3000: loss 8.981967"
       ]
      },
      {
       "output_type": "stream",
       "stream": "stdout",
       "text": [
        "\n",
        "iteration 100 / 3000: loss 8.973261"
       ]
      },
      {
       "output_type": "stream",
       "stream": "stdout",
       "text": [
        "\n",
        "iteration 200 / 3000: loss 8.989206"
       ]
      },
      {
       "output_type": "stream",
       "stream": "stdout",
       "text": [
        "\n",
        "iteration 300 / 3000: loss 9.000621"
       ]
      },
      {
       "output_type": "stream",
       "stream": "stdout",
       "text": [
        "\n",
        "iteration 400 / 3000: loss 8.988046"
       ]
      },
      {
       "output_type": "stream",
       "stream": "stdout",
       "text": [
        "\n",
        "iteration 500 / 3000: loss 8.995325"
       ]
      },
      {
       "output_type": "stream",
       "stream": "stdout",
       "text": [
        "\n",
        "iteration 600 / 3000: loss 9.004628"
       ]
      },
      {
       "output_type": "stream",
       "stream": "stdout",
       "text": [
        "\n",
        "iteration 700 / 3000: loss 8.977970"
       ]
      },
      {
       "output_type": "stream",
       "stream": "stdout",
       "text": [
        "\n",
        "iteration 800 / 3000: loss 8.977571"
       ]
      },
      {
       "output_type": "stream",
       "stream": "stdout",
       "text": [
        "\n",
        "iteration 900 / 3000: loss 8.983672"
       ]
      },
      {
       "output_type": "stream",
       "stream": "stdout",
       "text": [
        "\n",
        "iteration 1000 / 3000: loss 8.992997"
       ]
      },
      {
       "output_type": "stream",
       "stream": "stdout",
       "text": [
        "\n",
        "iteration 1100 / 3000: loss 8.984203"
       ]
      },
      {
       "output_type": "stream",
       "stream": "stdout",
       "text": [
        "\n",
        "iteration 1200 / 3000: loss 8.990489"
       ]
      },
      {
       "output_type": "stream",
       "stream": "stdout",
       "text": [
        "\n",
        "iteration 1300 / 3000: loss 8.976644"
       ]
      },
      {
       "output_type": "stream",
       "stream": "stdout",
       "text": [
        "\n",
        "iteration 1400 / 3000: loss 9.005799"
       ]
      },
      {
       "output_type": "stream",
       "stream": "stdout",
       "text": [
        "\n",
        "iteration 1500 / 3000: loss 8.993396"
       ]
      },
      {
       "output_type": "stream",
       "stream": "stdout",
       "text": [
        "\n",
        "iteration 1600 / 3000: loss 8.995812"
       ]
      },
      {
       "output_type": "stream",
       "stream": "stdout",
       "text": [
        "\n",
        "iteration 1700 / 3000: loss 8.976331"
       ]
      },
      {
       "output_type": "stream",
       "stream": "stdout",
       "text": [
        "\n",
        "iteration 1800 / 3000: loss 8.992612"
       ]
      },
      {
       "output_type": "stream",
       "stream": "stdout",
       "text": [
        "\n",
        "iteration 1900 / 3000: loss 8.964153"
       ]
      },
      {
       "output_type": "stream",
       "stream": "stdout",
       "text": [
        "\n",
        "iteration 2000 / 3000: loss 8.975891"
       ]
      },
      {
       "output_type": "stream",
       "stream": "stdout",
       "text": [
        "\n",
        "iteration 2100 / 3000: loss 8.977046"
       ]
      },
      {
       "output_type": "stream",
       "stream": "stdout",
       "text": [
        "\n",
        "iteration 2200 / 3000: loss 8.990250"
       ]
      },
      {
       "output_type": "stream",
       "stream": "stdout",
       "text": [
        "\n",
        "iteration 2300 / 3000: loss 8.989486"
       ]
      },
      {
       "output_type": "stream",
       "stream": "stdout",
       "text": [
        "\n",
        "iteration 2400 / 3000: loss 8.964144"
       ]
      },
      {
       "output_type": "stream",
       "stream": "stdout",
       "text": [
        "\n",
        "iteration 2500 / 3000: loss 8.983428"
       ]
      },
      {
       "output_type": "stream",
       "stream": "stdout",
       "text": [
        "\n",
        "iteration 2600 / 3000: loss 8.977251"
       ]
      },
      {
       "output_type": "stream",
       "stream": "stdout",
       "text": [
        "\n",
        "iteration 2700 / 3000: loss 8.973741"
       ]
      },
      {
       "output_type": "stream",
       "stream": "stdout",
       "text": [
        "\n",
        "iteration 2800 / 3000: loss 8.974127"
       ]
      },
      {
       "output_type": "stream",
       "stream": "stdout",
       "text": [
        "\n",
        "iteration 2900 / 3000: loss 8.971517"
       ]
      },
      {
       "output_type": "stream",
       "stream": "stdout",
       "text": [
        "\n",
        "iteration 0 / 3000: loss 8.988771"
       ]
      },
      {
       "output_type": "stream",
       "stream": "stdout",
       "text": [
        "\n",
        "iteration 100 / 3000: loss 8.975163"
       ]
      },
      {
       "output_type": "stream",
       "stream": "stdout",
       "text": [
        "\n",
        "iteration 200 / 3000: loss 9.002883"
       ]
      },
      {
       "output_type": "stream",
       "stream": "stdout",
       "text": [
        "\n",
        "iteration 300 / 3000: loss 8.983105"
       ]
      },
      {
       "output_type": "stream",
       "stream": "stdout",
       "text": [
        "\n",
        "iteration 400 / 3000: loss 9.000977"
       ]
      },
      {
       "output_type": "stream",
       "stream": "stdout",
       "text": [
        "\n",
        "iteration 500 / 3000: loss 8.988136"
       ]
      },
      {
       "output_type": "stream",
       "stream": "stdout",
       "text": [
        "\n",
        "iteration 600 / 3000: loss 8.978815"
       ]
      },
      {
       "output_type": "stream",
       "stream": "stdout",
       "text": [
        "\n",
        "iteration 700 / 3000: loss 8.983131"
       ]
      },
      {
       "output_type": "stream",
       "stream": "stdout",
       "text": [
        "\n",
        "iteration 800 / 3000: loss 8.991004"
       ]
      },
      {
       "output_type": "stream",
       "stream": "stdout",
       "text": [
        "\n",
        "iteration 900 / 3000: loss 8.994805"
       ]
      },
      {
       "output_type": "stream",
       "stream": "stdout",
       "text": [
        "\n",
        "iteration 1000 / 3000: loss 8.979035"
       ]
      },
      {
       "output_type": "stream",
       "stream": "stdout",
       "text": [
        "\n",
        "iteration 1100 / 3000: loss 8.989471"
       ]
      },
      {
       "output_type": "stream",
       "stream": "stdout",
       "text": [
        "\n",
        "iteration 1200 / 3000: loss 8.971795"
       ]
      },
      {
       "output_type": "stream",
       "stream": "stdout",
       "text": [
        "\n",
        "iteration 1300 / 3000: loss 8.965590"
       ]
      },
      {
       "output_type": "stream",
       "stream": "stdout",
       "text": [
        "\n",
        "iteration 1400 / 3000: loss 8.982336"
       ]
      },
      {
       "output_type": "stream",
       "stream": "stdout",
       "text": [
        "\n",
        "iteration 1500 / 3000: loss 8.985281"
       ]
      },
      {
       "output_type": "stream",
       "stream": "stdout",
       "text": [
        "\n",
        "iteration 1600 / 3000: loss 8.975253"
       ]
      },
      {
       "output_type": "stream",
       "stream": "stdout",
       "text": [
        "\n",
        "iteration 1700 / 3000: loss 8.972004"
       ]
      },
      {
       "output_type": "stream",
       "stream": "stdout",
       "text": [
        "\n",
        "iteration 1800 / 3000: loss 8.963579"
       ]
      },
      {
       "output_type": "stream",
       "stream": "stdout",
       "text": [
        "\n",
        "iteration 1900 / 3000: loss 8.986192"
       ]
      },
      {
       "output_type": "stream",
       "stream": "stdout",
       "text": [
        "\n",
        "iteration 2000 / 3000: loss 8.968655"
       ]
      },
      {
       "output_type": "stream",
       "stream": "stdout",
       "text": [
        "\n",
        "iteration 2100 / 3000: loss 8.963631"
       ]
      },
      {
       "output_type": "stream",
       "stream": "stdout",
       "text": [
        "\n",
        "iteration 2200 / 3000: loss 8.971621"
       ]
      },
      {
       "output_type": "stream",
       "stream": "stdout",
       "text": [
        "\n",
        "iteration 2300 / 3000: loss 8.992038"
       ]
      },
      {
       "output_type": "stream",
       "stream": "stdout",
       "text": [
        "\n",
        "iteration 2400 / 3000: loss 8.969507"
       ]
      },
      {
       "output_type": "stream",
       "stream": "stdout",
       "text": [
        "\n",
        "iteration 2500 / 3000: loss 8.974631"
       ]
      },
      {
       "output_type": "stream",
       "stream": "stdout",
       "text": [
        "\n",
        "iteration 2600 / 3000: loss 8.981698"
       ]
      },
      {
       "output_type": "stream",
       "stream": "stdout",
       "text": [
        "\n",
        "iteration 2700 / 3000: loss 8.979262"
       ]
      },
      {
       "output_type": "stream",
       "stream": "stdout",
       "text": [
        "\n",
        "iteration 2800 / 3000: loss 8.978649"
       ]
      },
      {
       "output_type": "stream",
       "stream": "stdout",
       "text": [
        "\n",
        "iteration 2900 / 3000: loss 8.969937"
       ]
      },
      {
       "output_type": "stream",
       "stream": "stdout",
       "text": [
        "\n",
        "iteration 0 / 3000: loss 9.008860"
       ]
      },
      {
       "output_type": "stream",
       "stream": "stdout",
       "text": [
        "\n",
        "iteration 100 / 3000: loss 9.011039"
       ]
      },
      {
       "output_type": "stream",
       "stream": "stdout",
       "text": [
        "\n",
        "iteration 200 / 3000: loss 9.017502"
       ]
      },
      {
       "output_type": "stream",
       "stream": "stdout",
       "text": [
        "\n",
        "iteration 300 / 3000: loss 9.005839"
       ]
      },
      {
       "output_type": "stream",
       "stream": "stdout",
       "text": [
        "\n",
        "iteration 400 / 3000: loss 9.008161"
       ]
      },
      {
       "output_type": "stream",
       "stream": "stdout",
       "text": [
        "\n",
        "iteration 500 / 3000: loss 9.006309"
       ]
      },
      {
       "output_type": "stream",
       "stream": "stdout",
       "text": [
        "\n",
        "iteration 600 / 3000: loss 9.001357"
       ]
      },
      {
       "output_type": "stream",
       "stream": "stdout",
       "text": [
        "\n",
        "iteration 700 / 3000: loss 9.009374"
       ]
      },
      {
       "output_type": "stream",
       "stream": "stdout",
       "text": [
        "\n",
        "iteration 800 / 3000: loss 8.986573"
       ]
      },
      {
       "output_type": "stream",
       "stream": "stdout",
       "text": [
        "\n",
        "iteration 900 / 3000: loss 9.002775"
       ]
      },
      {
       "output_type": "stream",
       "stream": "stdout",
       "text": [
        "\n",
        "iteration 1000 / 3000: loss 9.018694"
       ]
      },
      {
       "output_type": "stream",
       "stream": "stdout",
       "text": [
        "\n",
        "iteration 1100 / 3000: loss 8.999980"
       ]
      },
      {
       "output_type": "stream",
       "stream": "stdout",
       "text": [
        "\n",
        "iteration 1200 / 3000: loss 9.009822"
       ]
      },
      {
       "output_type": "stream",
       "stream": "stdout",
       "text": [
        "\n",
        "iteration 1300 / 3000: loss 9.007033"
       ]
      },
      {
       "output_type": "stream",
       "stream": "stdout",
       "text": [
        "\n",
        "iteration 1400 / 3000: loss 9.005186"
       ]
      },
      {
       "output_type": "stream",
       "stream": "stdout",
       "text": [
        "\n",
        "iteration 1500 / 3000: loss 9.008589"
       ]
      },
      {
       "output_type": "stream",
       "stream": "stdout",
       "text": [
        "\n",
        "iteration 1600 / 3000: loss 9.006463"
       ]
      },
      {
       "output_type": "stream",
       "stream": "stdout",
       "text": [
        "\n",
        "iteration 1700 / 3000: loss 8.993468"
       ]
      },
      {
       "output_type": "stream",
       "stream": "stdout",
       "text": [
        "\n",
        "iteration 1800 / 3000: loss 8.996646"
       ]
      },
      {
       "output_type": "stream",
       "stream": "stdout",
       "text": [
        "\n",
        "iteration 1900 / 3000: loss 8.987768"
       ]
      },
      {
       "output_type": "stream",
       "stream": "stdout",
       "text": [
        "\n",
        "iteration 2000 / 3000: loss 8.993049"
       ]
      },
      {
       "output_type": "stream",
       "stream": "stdout",
       "text": [
        "\n",
        "iteration 2100 / 3000: loss 8.998208"
       ]
      },
      {
       "output_type": "stream",
       "stream": "stdout",
       "text": [
        "\n",
        "iteration 2200 / 3000: loss 8.995446"
       ]
      },
      {
       "output_type": "stream",
       "stream": "stdout",
       "text": [
        "\n",
        "iteration 2300 / 3000: loss 8.997221"
       ]
      },
      {
       "output_type": "stream",
       "stream": "stdout",
       "text": [
        "\n",
        "iteration 2400 / 3000: loss 8.982218"
       ]
      },
      {
       "output_type": "stream",
       "stream": "stdout",
       "text": [
        "\n",
        "iteration 2500 / 3000: loss 8.986370"
       ]
      },
      {
       "output_type": "stream",
       "stream": "stdout",
       "text": [
        "\n",
        "iteration 2600 / 3000: loss 8.990392"
       ]
      },
      {
       "output_type": "stream",
       "stream": "stdout",
       "text": [
        "\n",
        "iteration 2700 / 3000: loss 8.983514"
       ]
      },
      {
       "output_type": "stream",
       "stream": "stdout",
       "text": [
        "\n",
        "iteration 2800 / 3000: loss 8.981388"
       ]
      },
      {
       "output_type": "stream",
       "stream": "stdout",
       "text": [
        "\n",
        "iteration 2900 / 3000: loss 8.966517"
       ]
      },
      {
       "output_type": "stream",
       "stream": "stdout",
       "text": [
        "\n",
        "iteration 0 / 3000: loss 8.999722"
       ]
      },
      {
       "output_type": "stream",
       "stream": "stdout",
       "text": [
        "\n",
        "iteration 100 / 3000: loss 9.005672"
       ]
      },
      {
       "output_type": "stream",
       "stream": "stdout",
       "text": [
        "\n",
        "iteration 200 / 3000: loss 9.005487"
       ]
      },
      {
       "output_type": "stream",
       "stream": "stdout",
       "text": [
        "\n",
        "iteration 300 / 3000: loss 8.983929"
       ]
      },
      {
       "output_type": "stream",
       "stream": "stdout",
       "text": [
        "\n",
        "iteration 400 / 3000: loss 9.008923"
       ]
      },
      {
       "output_type": "stream",
       "stream": "stdout",
       "text": [
        "\n",
        "iteration 500 / 3000: loss 8.988069"
       ]
      },
      {
       "output_type": "stream",
       "stream": "stdout",
       "text": [
        "\n",
        "iteration 600 / 3000: loss 8.986026"
       ]
      },
      {
       "output_type": "stream",
       "stream": "stdout",
       "text": [
        "\n",
        "iteration 700 / 3000: loss 8.997813"
       ]
      },
      {
       "output_type": "stream",
       "stream": "stdout",
       "text": [
        "\n",
        "iteration 800 / 3000: loss 8.992164"
       ]
      },
      {
       "output_type": "stream",
       "stream": "stdout",
       "text": [
        "\n",
        "iteration 900 / 3000: loss 8.985698"
       ]
      },
      {
       "output_type": "stream",
       "stream": "stdout",
       "text": [
        "\n",
        "iteration 1000 / 3000: loss 8.989779"
       ]
      },
      {
       "output_type": "stream",
       "stream": "stdout",
       "text": [
        "\n",
        "iteration 1100 / 3000: loss 8.997923"
       ]
      },
      {
       "output_type": "stream",
       "stream": "stdout",
       "text": [
        "\n",
        "iteration 1200 / 3000: loss 9.001161"
       ]
      },
      {
       "output_type": "stream",
       "stream": "stdout",
       "text": [
        "\n",
        "iteration 1300 / 3000: loss 8.977355"
       ]
      },
      {
       "output_type": "stream",
       "stream": "stdout",
       "text": [
        "\n",
        "iteration 1400 / 3000: loss 8.974810"
       ]
      },
      {
       "output_type": "stream",
       "stream": "stdout",
       "text": [
        "\n",
        "iteration 1500 / 3000: loss 8.980331"
       ]
      },
      {
       "output_type": "stream",
       "stream": "stdout",
       "text": [
        "\n",
        "iteration 1600 / 3000: loss 8.996109"
       ]
      },
      {
       "output_type": "stream",
       "stream": "stdout",
       "text": [
        "\n",
        "iteration 1700 / 3000: loss 8.979967"
       ]
      },
      {
       "output_type": "stream",
       "stream": "stdout",
       "text": [
        "\n",
        "iteration 1800 / 3000: loss 8.983972"
       ]
      },
      {
       "output_type": "stream",
       "stream": "stdout",
       "text": [
        "\n",
        "iteration 1900 / 3000: loss 8.982102"
       ]
      },
      {
       "output_type": "stream",
       "stream": "stdout",
       "text": [
        "\n",
        "iteration 2000 / 3000: loss 8.981472"
       ]
      },
      {
       "output_type": "stream",
       "stream": "stdout",
       "text": [
        "\n",
        "iteration 2100 / 3000: loss 8.977595"
       ]
      },
      {
       "output_type": "stream",
       "stream": "stdout",
       "text": [
        "\n",
        "iteration 2200 / 3000: loss 8.979943"
       ]
      },
      {
       "output_type": "stream",
       "stream": "stdout",
       "text": [
        "\n",
        "iteration 2300 / 3000: loss 8.980992"
       ]
      },
      {
       "output_type": "stream",
       "stream": "stdout",
       "text": [
        "\n",
        "iteration 2400 / 3000: loss 8.981519"
       ]
      },
      {
       "output_type": "stream",
       "stream": "stdout",
       "text": [
        "\n",
        "iteration 2500 / 3000: loss 8.978274"
       ]
      },
      {
       "output_type": "stream",
       "stream": "stdout",
       "text": [
        "\n",
        "iteration 2600 / 3000: loss 8.991870"
       ]
      },
      {
       "output_type": "stream",
       "stream": "stdout",
       "text": [
        "\n",
        "iteration 2700 / 3000: loss 8.985350"
       ]
      },
      {
       "output_type": "stream",
       "stream": "stdout",
       "text": [
        "\n",
        "iteration 2800 / 3000: loss 8.986585"
       ]
      },
      {
       "output_type": "stream",
       "stream": "stdout",
       "text": [
        "\n",
        "iteration 2900 / 3000: loss 8.989493"
       ]
      },
      {
       "output_type": "stream",
       "stream": "stdout",
       "text": [
        "\n",
        "iteration 0 / 3000: loss 8.990628"
       ]
      },
      {
       "output_type": "stream",
       "stream": "stdout",
       "text": [
        "\n",
        "iteration 100 / 3000: loss 8.987298"
       ]
      },
      {
       "output_type": "stream",
       "stream": "stdout",
       "text": [
        "\n",
        "iteration 200 / 3000: loss 8.995829"
       ]
      },
      {
       "output_type": "stream",
       "stream": "stdout",
       "text": [
        "\n",
        "iteration 300 / 3000: loss 8.992657"
       ]
      },
      {
       "output_type": "stream",
       "stream": "stdout",
       "text": [
        "\n",
        "iteration 400 / 3000: loss 8.989173"
       ]
      },
      {
       "output_type": "stream",
       "stream": "stdout",
       "text": [
        "\n",
        "iteration 500 / 3000: loss 8.989067"
       ]
      },
      {
       "output_type": "stream",
       "stream": "stdout",
       "text": [
        "\n",
        "iteration 600 / 3000: loss 8.997554"
       ]
      },
      {
       "output_type": "stream",
       "stream": "stdout",
       "text": [
        "\n",
        "iteration 700 / 3000: loss 8.989503"
       ]
      },
      {
       "output_type": "stream",
       "stream": "stdout",
       "text": [
        "\n",
        "iteration 800 / 3000: loss 8.986250"
       ]
      },
      {
       "output_type": "stream",
       "stream": "stdout",
       "text": [
        "\n",
        "iteration 900 / 3000: loss 8.979621"
       ]
      },
      {
       "output_type": "stream",
       "stream": "stdout",
       "text": [
        "\n",
        "iteration 1000 / 3000: loss 8.976334"
       ]
      },
      {
       "output_type": "stream",
       "stream": "stdout",
       "text": [
        "\n",
        "iteration 1100 / 3000: loss 8.985059"
       ]
      },
      {
       "output_type": "stream",
       "stream": "stdout",
       "text": [
        "\n",
        "iteration 1200 / 3000: loss 8.978023"
       ]
      },
      {
       "output_type": "stream",
       "stream": "stdout",
       "text": [
        "\n",
        "iteration 1300 / 3000: loss 8.986048"
       ]
      },
      {
       "output_type": "stream",
       "stream": "stdout",
       "text": [
        "\n",
        "iteration 1400 / 3000: loss 9.003768"
       ]
      },
      {
       "output_type": "stream",
       "stream": "stdout",
       "text": [
        "\n",
        "iteration 1500 / 3000: loss 8.991055"
       ]
      },
      {
       "output_type": "stream",
       "stream": "stdout",
       "text": [
        "\n",
        "iteration 1600 / 3000: loss 8.978048"
       ]
      },
      {
       "output_type": "stream",
       "stream": "stdout",
       "text": [
        "\n",
        "iteration 1700 / 3000: loss 8.971016"
       ]
      },
      {
       "output_type": "stream",
       "stream": "stdout",
       "text": [
        "\n",
        "iteration 1800 / 3000: loss 8.978743"
       ]
      },
      {
       "output_type": "stream",
       "stream": "stdout",
       "text": [
        "\n",
        "iteration 1900 / 3000: loss 8.982366"
       ]
      },
      {
       "output_type": "stream",
       "stream": "stdout",
       "text": [
        "\n",
        "iteration 2000 / 3000: loss 8.952966"
       ]
      },
      {
       "output_type": "stream",
       "stream": "stdout",
       "text": [
        "\n",
        "iteration 2100 / 3000: loss 8.989606"
       ]
      },
      {
       "output_type": "stream",
       "stream": "stdout",
       "text": [
        "\n",
        "iteration 2200 / 3000: loss 8.985787"
       ]
      },
      {
       "output_type": "stream",
       "stream": "stdout",
       "text": [
        "\n",
        "iteration 2300 / 3000: loss 8.980248"
       ]
      },
      {
       "output_type": "stream",
       "stream": "stdout",
       "text": [
        "\n",
        "iteration 2400 / 3000: loss 8.990208"
       ]
      },
      {
       "output_type": "stream",
       "stream": "stdout",
       "text": [
        "\n",
        "iteration 2500 / 3000: loss 8.975982"
       ]
      },
      {
       "output_type": "stream",
       "stream": "stdout",
       "text": [
        "\n",
        "iteration 2600 / 3000: loss 8.972295"
       ]
      },
      {
       "output_type": "stream",
       "stream": "stdout",
       "text": [
        "\n",
        "iteration 2700 / 3000: loss 8.977670"
       ]
      },
      {
       "output_type": "stream",
       "stream": "stdout",
       "text": [
        "\n",
        "iteration 2800 / 3000: loss 8.958845"
       ]
      },
      {
       "output_type": "stream",
       "stream": "stdout",
       "text": [
        "\n",
        "iteration 2900 / 3000: loss 8.965447"
       ]
      },
      {
       "output_type": "stream",
       "stream": "stdout",
       "text": [
        "\n",
        "iteration 0 / 3000: loss 9.000150"
       ]
      },
      {
       "output_type": "stream",
       "stream": "stdout",
       "text": [
        "\n",
        "iteration 100 / 3000: loss 8.992569"
       ]
      },
      {
       "output_type": "stream",
       "stream": "stdout",
       "text": [
        "\n",
        "iteration 200 / 3000: loss 8.999728"
       ]
      },
      {
       "output_type": "stream",
       "stream": "stdout",
       "text": [
        "\n",
        "iteration 300 / 3000: loss 8.997054"
       ]
      },
      {
       "output_type": "stream",
       "stream": "stdout",
       "text": [
        "\n",
        "iteration 400 / 3000: loss 9.002737"
       ]
      },
      {
       "output_type": "stream",
       "stream": "stdout",
       "text": [
        "\n",
        "iteration 500 / 3000: loss 8.991470"
       ]
      },
      {
       "output_type": "stream",
       "stream": "stdout",
       "text": [
        "\n",
        "iteration 600 / 3000: loss 8.992501"
       ]
      },
      {
       "output_type": "stream",
       "stream": "stdout",
       "text": [
        "\n",
        "iteration 700 / 3000: loss 8.988753"
       ]
      },
      {
       "output_type": "stream",
       "stream": "stdout",
       "text": [
        "\n",
        "iteration 800 / 3000: loss 8.995134"
       ]
      },
      {
       "output_type": "stream",
       "stream": "stdout",
       "text": [
        "\n",
        "iteration 900 / 3000: loss 8.984555"
       ]
      },
      {
       "output_type": "stream",
       "stream": "stdout",
       "text": [
        "\n",
        "iteration 1000 / 3000: loss 9.001766"
       ]
      },
      {
       "output_type": "stream",
       "stream": "stdout",
       "text": [
        "\n",
        "iteration 1100 / 3000: loss 9.001743"
       ]
      },
      {
       "output_type": "stream",
       "stream": "stdout",
       "text": [
        "\n",
        "iteration 1200 / 3000: loss 8.981280"
       ]
      },
      {
       "output_type": "stream",
       "stream": "stdout",
       "text": [
        "\n",
        "iteration 1300 / 3000: loss 9.000622"
       ]
      },
      {
       "output_type": "stream",
       "stream": "stdout",
       "text": [
        "\n",
        "iteration 1400 / 3000: loss 9.003586"
       ]
      },
      {
       "output_type": "stream",
       "stream": "stdout",
       "text": [
        "\n",
        "iteration 1500 / 3000: loss 8.993642"
       ]
      },
      {
       "output_type": "stream",
       "stream": "stdout",
       "text": [
        "\n",
        "iteration 1600 / 3000: loss 9.008458"
       ]
      },
      {
       "output_type": "stream",
       "stream": "stdout",
       "text": [
        "\n",
        "iteration 1700 / 3000: loss 9.002821"
       ]
      },
      {
       "output_type": "stream",
       "stream": "stdout",
       "text": [
        "\n",
        "iteration 1800 / 3000: loss 9.006027"
       ]
      },
      {
       "output_type": "stream",
       "stream": "stdout",
       "text": [
        "\n",
        "iteration 1900 / 3000: loss 8.999054"
       ]
      },
      {
       "output_type": "stream",
       "stream": "stdout",
       "text": [
        "\n",
        "iteration 2000 / 3000: loss 9.008055"
       ]
      },
      {
       "output_type": "stream",
       "stream": "stdout",
       "text": [
        "\n",
        "iteration 2100 / 3000: loss 8.995698"
       ]
      },
      {
       "output_type": "stream",
       "stream": "stdout",
       "text": [
        "\n",
        "iteration 2200 / 3000: loss 9.004372"
       ]
      },
      {
       "output_type": "stream",
       "stream": "stdout",
       "text": [
        "\n",
        "iteration 2300 / 3000: loss 8.994296"
       ]
      },
      {
       "output_type": "stream",
       "stream": "stdout",
       "text": [
        "\n",
        "iteration 2400 / 3000: loss 9.001218"
       ]
      },
      {
       "output_type": "stream",
       "stream": "stdout",
       "text": [
        "\n",
        "iteration 2500 / 3000: loss 9.000463"
       ]
      },
      {
       "output_type": "stream",
       "stream": "stdout",
       "text": [
        "\n",
        "iteration 2600 / 3000: loss 8.996303"
       ]
      },
      {
       "output_type": "stream",
       "stream": "stdout",
       "text": [
        "\n",
        "iteration 2700 / 3000: loss 9.005907"
       ]
      },
      {
       "output_type": "stream",
       "stream": "stdout",
       "text": [
        "\n",
        "iteration 2800 / 3000: loss 9.003835"
       ]
      },
      {
       "output_type": "stream",
       "stream": "stdout",
       "text": [
        "\n",
        "iteration 2900 / 3000: loss 8.988830"
       ]
      },
      {
       "output_type": "stream",
       "stream": "stdout",
       "text": [
        "\n",
        "iteration 0 / 3000: loss 8.994443"
       ]
      },
      {
       "output_type": "stream",
       "stream": "stdout",
       "text": [
        "\n",
        "iteration 100 / 3000: loss 8.992891"
       ]
      },
      {
       "output_type": "stream",
       "stream": "stdout",
       "text": [
        "\n",
        "iteration 200 / 3000: loss 9.025493"
       ]
      },
      {
       "output_type": "stream",
       "stream": "stdout",
       "text": [
        "\n",
        "iteration 300 / 3000: loss 9.004437"
       ]
      },
      {
       "output_type": "stream",
       "stream": "stdout",
       "text": [
        "\n",
        "iteration 400 / 3000: loss 8.983982"
       ]
      },
      {
       "output_type": "stream",
       "stream": "stdout",
       "text": [
        "\n",
        "iteration 500 / 3000: loss 9.001688"
       ]
      },
      {
       "output_type": "stream",
       "stream": "stdout",
       "text": [
        "\n",
        "iteration 600 / 3000: loss 9.004416"
       ]
      },
      {
       "output_type": "stream",
       "stream": "stdout",
       "text": [
        "\n",
        "iteration 700 / 3000: loss 9.009410"
       ]
      },
      {
       "output_type": "stream",
       "stream": "stdout",
       "text": [
        "\n",
        "iteration 800 / 3000: loss 9.000173"
       ]
      },
      {
       "output_type": "stream",
       "stream": "stdout",
       "text": [
        "\n",
        "iteration 900 / 3000: loss 9.001742"
       ]
      },
      {
       "output_type": "stream",
       "stream": "stdout",
       "text": [
        "\n",
        "iteration 1000 / 3000: loss 9.011292"
       ]
      },
      {
       "output_type": "stream",
       "stream": "stdout",
       "text": [
        "\n",
        "iteration 1100 / 3000: loss 8.992081"
       ]
      },
      {
       "output_type": "stream",
       "stream": "stdout",
       "text": [
        "\n",
        "iteration 1200 / 3000: loss 9.007361"
       ]
      },
      {
       "output_type": "stream",
       "stream": "stdout",
       "text": [
        "\n",
        "iteration 1300 / 3000: loss 9.010109"
       ]
      },
      {
       "output_type": "stream",
       "stream": "stdout",
       "text": [
        "\n",
        "iteration 1400 / 3000: loss 9.009100"
       ]
      },
      {
       "output_type": "stream",
       "stream": "stdout",
       "text": [
        "\n",
        "iteration 1500 / 3000: loss 8.995036"
       ]
      },
      {
       "output_type": "stream",
       "stream": "stdout",
       "text": [
        "\n",
        "iteration 1600 / 3000: loss 8.999433"
       ]
      },
      {
       "output_type": "stream",
       "stream": "stdout",
       "text": [
        "\n",
        "iteration 1700 / 3000: loss 9.007558"
       ]
      },
      {
       "output_type": "stream",
       "stream": "stdout",
       "text": [
        "\n",
        "iteration 1800 / 3000: loss 8.994413"
       ]
      },
      {
       "output_type": "stream",
       "stream": "stdout",
       "text": [
        "\n",
        "iteration 1900 / 3000: loss 9.019934"
       ]
      },
      {
       "output_type": "stream",
       "stream": "stdout",
       "text": [
        "\n",
        "iteration 2000 / 3000: loss 9.003418"
       ]
      },
      {
       "output_type": "stream",
       "stream": "stdout",
       "text": [
        "\n",
        "iteration 2100 / 3000: loss 9.002774"
       ]
      },
      {
       "output_type": "stream",
       "stream": "stdout",
       "text": [
        "\n",
        "iteration 2200 / 3000: loss 9.020864"
       ]
      },
      {
       "output_type": "stream",
       "stream": "stdout",
       "text": [
        "\n",
        "iteration 2300 / 3000: loss 8.999335"
       ]
      },
      {
       "output_type": "stream",
       "stream": "stdout",
       "text": [
        "\n",
        "iteration 2400 / 3000: loss 9.003932"
       ]
      },
      {
       "output_type": "stream",
       "stream": "stdout",
       "text": [
        "\n",
        "iteration 2500 / 3000: loss 8.990669"
       ]
      },
      {
       "output_type": "stream",
       "stream": "stdout",
       "text": [
        "\n",
        "iteration 2600 / 3000: loss 9.020655"
       ]
      },
      {
       "output_type": "stream",
       "stream": "stdout",
       "text": [
        "\n",
        "iteration 2700 / 3000: loss 9.010538"
       ]
      },
      {
       "output_type": "stream",
       "stream": "stdout",
       "text": [
        "\n",
        "iteration 2800 / 3000: loss 8.996307"
       ]
      },
      {
       "output_type": "stream",
       "stream": "stdout",
       "text": [
        "\n",
        "iteration 2900 / 3000: loss 8.983091"
       ]
      },
      {
       "output_type": "stream",
       "stream": "stdout",
       "text": [
        "\n",
        "iteration 0 / 3000: loss 8.983141"
       ]
      },
      {
       "output_type": "stream",
       "stream": "stdout",
       "text": [
        "\n",
        "iteration 100 / 3000: loss 8.995281"
       ]
      },
      {
       "output_type": "stream",
       "stream": "stdout",
       "text": [
        "\n",
        "iteration 200 / 3000: loss 8.980452"
       ]
      },
      {
       "output_type": "stream",
       "stream": "stdout",
       "text": [
        "\n",
        "iteration 300 / 3000: loss 8.998208"
       ]
      },
      {
       "output_type": "stream",
       "stream": "stdout",
       "text": [
        "\n",
        "iteration 400 / 3000: loss 8.998743"
       ]
      },
      {
       "output_type": "stream",
       "stream": "stdout",
       "text": [
        "\n",
        "iteration 500 / 3000: loss 8.975094"
       ]
      },
      {
       "output_type": "stream",
       "stream": "stdout",
       "text": [
        "\n",
        "iteration 600 / 3000: loss 8.984461"
       ]
      },
      {
       "output_type": "stream",
       "stream": "stdout",
       "text": [
        "\n",
        "iteration 700 / 3000: loss 8.991059"
       ]
      },
      {
       "output_type": "stream",
       "stream": "stdout",
       "text": [
        "\n",
        "iteration 800 / 3000: loss 9.000089"
       ]
      },
      {
       "output_type": "stream",
       "stream": "stdout",
       "text": [
        "\n",
        "iteration 900 / 3000: loss 8.991428"
       ]
      },
      {
       "output_type": "stream",
       "stream": "stdout",
       "text": [
        "\n",
        "iteration 1000 / 3000: loss 8.982611"
       ]
      },
      {
       "output_type": "stream",
       "stream": "stdout",
       "text": [
        "\n",
        "iteration 1100 / 3000: loss 8.995872"
       ]
      },
      {
       "output_type": "stream",
       "stream": "stdout",
       "text": [
        "\n",
        "iteration 1200 / 3000: loss 8.992876"
       ]
      },
      {
       "output_type": "stream",
       "stream": "stdout",
       "text": [
        "\n",
        "iteration 1300 / 3000: loss 8.999047"
       ]
      },
      {
       "output_type": "stream",
       "stream": "stdout",
       "text": [
        "\n",
        "iteration 1400 / 3000: loss 8.997772"
       ]
      },
      {
       "output_type": "stream",
       "stream": "stdout",
       "text": [
        "\n",
        "iteration 1500 / 3000: loss 8.976362"
       ]
      },
      {
       "output_type": "stream",
       "stream": "stdout",
       "text": [
        "\n",
        "iteration 1600 / 3000: loss 8.985920"
       ]
      },
      {
       "output_type": "stream",
       "stream": "stdout",
       "text": [
        "\n",
        "iteration 1700 / 3000: loss 9.000467"
       ]
      },
      {
       "output_type": "stream",
       "stream": "stdout",
       "text": [
        "\n",
        "iteration 1800 / 3000: loss 8.988812"
       ]
      },
      {
       "output_type": "stream",
       "stream": "stdout",
       "text": [
        "\n",
        "iteration 1900 / 3000: loss 9.003654"
       ]
      },
      {
       "output_type": "stream",
       "stream": "stdout",
       "text": [
        "\n",
        "iteration 2000 / 3000: loss 8.970713"
       ]
      },
      {
       "output_type": "stream",
       "stream": "stdout",
       "text": [
        "\n",
        "iteration 2100 / 3000: loss 8.975314"
       ]
      },
      {
       "output_type": "stream",
       "stream": "stdout",
       "text": [
        "\n",
        "iteration 2200 / 3000: loss 8.989097"
       ]
      },
      {
       "output_type": "stream",
       "stream": "stdout",
       "text": [
        "\n",
        "iteration 2300 / 3000: loss 8.989185"
       ]
      },
      {
       "output_type": "stream",
       "stream": "stdout",
       "text": [
        "\n",
        "iteration 2400 / 3000: loss 9.012819"
       ]
      },
      {
       "output_type": "stream",
       "stream": "stdout",
       "text": [
        "\n",
        "iteration 2500 / 3000: loss 8.994795"
       ]
      },
      {
       "output_type": "stream",
       "stream": "stdout",
       "text": [
        "\n",
        "iteration 2600 / 3000: loss 8.987735"
       ]
      },
      {
       "output_type": "stream",
       "stream": "stdout",
       "text": [
        "\n",
        "iteration 2700 / 3000: loss 8.985272"
       ]
      },
      {
       "output_type": "stream",
       "stream": "stdout",
       "text": [
        "\n",
        "iteration 2800 / 3000: loss 8.987188"
       ]
      },
      {
       "output_type": "stream",
       "stream": "stdout",
       "text": [
        "\n",
        "iteration 2900 / 3000: loss 8.993990"
       ]
      },
      {
       "output_type": "stream",
       "stream": "stdout",
       "text": [
        "\n",
        "iteration 0 / 3000: loss 9.019343"
       ]
      },
      {
       "output_type": "stream",
       "stream": "stdout",
       "text": [
        "\n",
        "iteration 100 / 3000: loss 8.997954"
       ]
      },
      {
       "output_type": "stream",
       "stream": "stdout",
       "text": [
        "\n",
        "iteration 200 / 3000: loss 9.011315"
       ]
      },
      {
       "output_type": "stream",
       "stream": "stdout",
       "text": [
        "\n",
        "iteration 300 / 3000: loss 9.007631"
       ]
      },
      {
       "output_type": "stream",
       "stream": "stdout",
       "text": [
        "\n",
        "iteration 400 / 3000: loss 9.001436"
       ]
      },
      {
       "output_type": "stream",
       "stream": "stdout",
       "text": [
        "\n",
        "iteration 500 / 3000: loss 9.011572"
       ]
      },
      {
       "output_type": "stream",
       "stream": "stdout",
       "text": [
        "\n",
        "iteration 600 / 3000: loss 9.023322"
       ]
      },
      {
       "output_type": "stream",
       "stream": "stdout",
       "text": [
        "\n",
        "iteration 700 / 3000: loss 9.019714"
       ]
      },
      {
       "output_type": "stream",
       "stream": "stdout",
       "text": [
        "\n",
        "iteration 800 / 3000: loss 8.999050"
       ]
      },
      {
       "output_type": "stream",
       "stream": "stdout",
       "text": [
        "\n",
        "iteration 900 / 3000: loss 8.999630"
       ]
      },
      {
       "output_type": "stream",
       "stream": "stdout",
       "text": [
        "\n",
        "iteration 1000 / 3000: loss 9.007501"
       ]
      },
      {
       "output_type": "stream",
       "stream": "stdout",
       "text": [
        "\n",
        "iteration 1100 / 3000: loss 9.015439"
       ]
      },
      {
       "output_type": "stream",
       "stream": "stdout",
       "text": [
        "\n",
        "iteration 1200 / 3000: loss 9.014551"
       ]
      },
      {
       "output_type": "stream",
       "stream": "stdout",
       "text": [
        "\n",
        "iteration 1300 / 3000: loss 9.005947"
       ]
      },
      {
       "output_type": "stream",
       "stream": "stdout",
       "text": [
        "\n",
        "iteration 1400 / 3000: loss 8.999306"
       ]
      },
      {
       "output_type": "stream",
       "stream": "stdout",
       "text": [
        "\n",
        "iteration 1500 / 3000: loss 9.002983"
       ]
      },
      {
       "output_type": "stream",
       "stream": "stdout",
       "text": [
        "\n",
        "iteration 1600 / 3000: loss 9.000785"
       ]
      },
      {
       "output_type": "stream",
       "stream": "stdout",
       "text": [
        "\n",
        "iteration 1700 / 3000: loss 9.002599"
       ]
      },
      {
       "output_type": "stream",
       "stream": "stdout",
       "text": [
        "\n",
        "iteration 1800 / 3000: loss 9.001552"
       ]
      },
      {
       "output_type": "stream",
       "stream": "stdout",
       "text": [
        "\n",
        "iteration 1900 / 3000: loss 9.015050"
       ]
      },
      {
       "output_type": "stream",
       "stream": "stdout",
       "text": [
        "\n",
        "iteration 2000 / 3000: loss 9.004000"
       ]
      },
      {
       "output_type": "stream",
       "stream": "stdout",
       "text": [
        "\n",
        "iteration 2100 / 3000: loss 9.020360"
       ]
      },
      {
       "output_type": "stream",
       "stream": "stdout",
       "text": [
        "\n",
        "iteration 2200 / 3000: loss 8.991061"
       ]
      },
      {
       "output_type": "stream",
       "stream": "stdout",
       "text": [
        "\n",
        "iteration 2300 / 3000: loss 8.992653"
       ]
      },
      {
       "output_type": "stream",
       "stream": "stdout",
       "text": [
        "\n",
        "iteration 2400 / 3000: loss 9.012833"
       ]
      },
      {
       "output_type": "stream",
       "stream": "stdout",
       "text": [
        "\n",
        "iteration 2500 / 3000: loss 8.996928"
       ]
      },
      {
       "output_type": "stream",
       "stream": "stdout",
       "text": [
        "\n",
        "iteration 2600 / 3000: loss 9.002334"
       ]
      },
      {
       "output_type": "stream",
       "stream": "stdout",
       "text": [
        "\n",
        "iteration 2700 / 3000: loss 9.002919"
       ]
      },
      {
       "output_type": "stream",
       "stream": "stdout",
       "text": [
        "\n",
        "iteration 2800 / 3000: loss 9.002396"
       ]
      },
      {
       "output_type": "stream",
       "stream": "stdout",
       "text": [
        "\n",
        "iteration 2900 / 3000: loss 9.011024"
       ]
      },
      {
       "output_type": "stream",
       "stream": "stdout",
       "text": [
        "\n",
        "iteration 0 / 3000: loss 8.999260"
       ]
      },
      {
       "output_type": "stream",
       "stream": "stdout",
       "text": [
        "\n",
        "iteration 100 / 3000: loss 8.997690"
       ]
      },
      {
       "output_type": "stream",
       "stream": "stdout",
       "text": [
        "\n",
        "iteration 200 / 3000: loss 8.993851"
       ]
      },
      {
       "output_type": "stream",
       "stream": "stdout",
       "text": [
        "\n",
        "iteration 300 / 3000: loss 8.976686"
       ]
      },
      {
       "output_type": "stream",
       "stream": "stdout",
       "text": [
        "\n",
        "iteration 400 / 3000: loss 8.997435"
       ]
      },
      {
       "output_type": "stream",
       "stream": "stdout",
       "text": [
        "\n",
        "iteration 500 / 3000: loss 8.990310"
       ]
      },
      {
       "output_type": "stream",
       "stream": "stdout",
       "text": [
        "\n",
        "iteration 600 / 3000: loss 8.995691"
       ]
      },
      {
       "output_type": "stream",
       "stream": "stdout",
       "text": [
        "\n",
        "iteration 700 / 3000: loss 8.986068"
       ]
      },
      {
       "output_type": "stream",
       "stream": "stdout",
       "text": [
        "\n",
        "iteration 800 / 3000: loss 8.995496"
       ]
      },
      {
       "output_type": "stream",
       "stream": "stdout",
       "text": [
        "\n",
        "iteration 900 / 3000: loss 8.973146"
       ]
      },
      {
       "output_type": "stream",
       "stream": "stdout",
       "text": [
        "\n",
        "iteration 1000 / 3000: loss 9.001033"
       ]
      },
      {
       "output_type": "stream",
       "stream": "stdout",
       "text": [
        "\n",
        "iteration 1100 / 3000: loss 9.001370"
       ]
      },
      {
       "output_type": "stream",
       "stream": "stdout",
       "text": [
        "\n",
        "iteration 1200 / 3000: loss 8.990324"
       ]
      },
      {
       "output_type": "stream",
       "stream": "stdout",
       "text": [
        "\n",
        "iteration 1300 / 3000: loss 8.983563"
       ]
      },
      {
       "output_type": "stream",
       "stream": "stdout",
       "text": [
        "\n",
        "iteration 1400 / 3000: loss 8.999417"
       ]
      },
      {
       "output_type": "stream",
       "stream": "stdout",
       "text": [
        "\n",
        "iteration 1500 / 3000: loss 8.996430"
       ]
      },
      {
       "output_type": "stream",
       "stream": "stdout",
       "text": [
        "\n",
        "iteration 1600 / 3000: loss 8.987333"
       ]
      },
      {
       "output_type": "stream",
       "stream": "stdout",
       "text": [
        "\n",
        "iteration 1700 / 3000: loss 8.999285"
       ]
      },
      {
       "output_type": "stream",
       "stream": "stdout",
       "text": [
        "\n",
        "iteration 1800 / 3000: loss 8.990225"
       ]
      },
      {
       "output_type": "stream",
       "stream": "stdout",
       "text": [
        "\n",
        "iteration 1900 / 3000: loss 8.990972"
       ]
      },
      {
       "output_type": "stream",
       "stream": "stdout",
       "text": [
        "\n",
        "iteration 2000 / 3000: loss 8.983365"
       ]
      },
      {
       "output_type": "stream",
       "stream": "stdout",
       "text": [
        "\n",
        "iteration 2100 / 3000: loss 8.993814"
       ]
      },
      {
       "output_type": "stream",
       "stream": "stdout",
       "text": [
        "\n",
        "iteration 2200 / 3000: loss 8.993995"
       ]
      },
      {
       "output_type": "stream",
       "stream": "stdout",
       "text": [
        "\n",
        "iteration 2300 / 3000: loss 8.984728"
       ]
      },
      {
       "output_type": "stream",
       "stream": "stdout",
       "text": [
        "\n",
        "iteration 2400 / 3000: loss 8.987918"
       ]
      },
      {
       "output_type": "stream",
       "stream": "stdout",
       "text": [
        "\n",
        "iteration 2500 / 3000: loss 8.980793"
       ]
      },
      {
       "output_type": "stream",
       "stream": "stdout",
       "text": [
        "\n",
        "iteration 2600 / 3000: loss 8.999436"
       ]
      },
      {
       "output_type": "stream",
       "stream": "stdout",
       "text": [
        "\n",
        "iteration 2700 / 3000: loss 8.992501"
       ]
      },
      {
       "output_type": "stream",
       "stream": "stdout",
       "text": [
        "\n",
        "iteration 2800 / 3000: loss 8.994897"
       ]
      },
      {
       "output_type": "stream",
       "stream": "stdout",
       "text": [
        "\n",
        "iteration 2900 / 3000: loss 8.989770"
       ]
      },
      {
       "output_type": "stream",
       "stream": "stdout",
       "text": [
        "\n",
        "iteration 0 / 3000: loss 8.993114"
       ]
      },
      {
       "output_type": "stream",
       "stream": "stdout",
       "text": [
        "\n",
        "iteration 100 / 3000: loss 8.997061"
       ]
      },
      {
       "output_type": "stream",
       "stream": "stdout",
       "text": [
        "\n",
        "iteration 200 / 3000: loss 9.008518"
       ]
      },
      {
       "output_type": "stream",
       "stream": "stdout",
       "text": [
        "\n",
        "iteration 300 / 3000: loss 9.022522"
       ]
      },
      {
       "output_type": "stream",
       "stream": "stdout",
       "text": [
        "\n",
        "iteration 400 / 3000: loss 8.990788"
       ]
      },
      {
       "output_type": "stream",
       "stream": "stdout",
       "text": [
        "\n",
        "iteration 500 / 3000: loss 8.997456"
       ]
      },
      {
       "output_type": "stream",
       "stream": "stdout",
       "text": [
        "\n",
        "iteration 600 / 3000: loss 8.992131"
       ]
      },
      {
       "output_type": "stream",
       "stream": "stdout",
       "text": [
        "\n",
        "iteration 700 / 3000: loss 8.997743"
       ]
      },
      {
       "output_type": "stream",
       "stream": "stdout",
       "text": [
        "\n",
        "iteration 800 / 3000: loss 9.003581"
       ]
      },
      {
       "output_type": "stream",
       "stream": "stdout",
       "text": [
        "\n",
        "iteration 900 / 3000: loss 8.994222"
       ]
      },
      {
       "output_type": "stream",
       "stream": "stdout",
       "text": [
        "\n",
        "iteration 1000 / 3000: loss 9.012776"
       ]
      },
      {
       "output_type": "stream",
       "stream": "stdout",
       "text": [
        "\n",
        "iteration 1100 / 3000: loss 9.005552"
       ]
      },
      {
       "output_type": "stream",
       "stream": "stdout",
       "text": [
        "\n",
        "iteration 1200 / 3000: loss 8.997184"
       ]
      },
      {
       "output_type": "stream",
       "stream": "stdout",
       "text": [
        "\n",
        "iteration 1300 / 3000: loss 8.988694"
       ]
      },
      {
       "output_type": "stream",
       "stream": "stdout",
       "text": [
        "\n",
        "iteration 1400 / 3000: loss 9.005355"
       ]
      },
      {
       "output_type": "stream",
       "stream": "stdout",
       "text": [
        "\n",
        "iteration 1500 / 3000: loss 8.998497"
       ]
      },
      {
       "output_type": "stream",
       "stream": "stdout",
       "text": [
        "\n",
        "iteration 1600 / 3000: loss 8.989178"
       ]
      },
      {
       "output_type": "stream",
       "stream": "stdout",
       "text": [
        "\n",
        "iteration 1700 / 3000: loss 9.011833"
       ]
      },
      {
       "output_type": "stream",
       "stream": "stdout",
       "text": [
        "\n",
        "iteration 1800 / 3000: loss 9.017655"
       ]
      },
      {
       "output_type": "stream",
       "stream": "stdout",
       "text": [
        "\n",
        "iteration 1900 / 3000: loss 8.997970"
       ]
      },
      {
       "output_type": "stream",
       "stream": "stdout",
       "text": [
        "\n",
        "iteration 2000 / 3000: loss 9.001542"
       ]
      },
      {
       "output_type": "stream",
       "stream": "stdout",
       "text": [
        "\n",
        "iteration 2100 / 3000: loss 9.002801"
       ]
      },
      {
       "output_type": "stream",
       "stream": "stdout",
       "text": [
        "\n",
        "iteration 2200 / 3000: loss 8.991928"
       ]
      },
      {
       "output_type": "stream",
       "stream": "stdout",
       "text": [
        "\n",
        "iteration 2300 / 3000: loss 8.997826"
       ]
      },
      {
       "output_type": "stream",
       "stream": "stdout",
       "text": [
        "\n",
        "iteration 2400 / 3000: loss 8.998860"
       ]
      },
      {
       "output_type": "stream",
       "stream": "stdout",
       "text": [
        "\n",
        "iteration 2500 / 3000: loss 9.001279"
       ]
      },
      {
       "output_type": "stream",
       "stream": "stdout",
       "text": [
        "\n",
        "iteration 2600 / 3000: loss 9.009152"
       ]
      },
      {
       "output_type": "stream",
       "stream": "stdout",
       "text": [
        "\n",
        "iteration 2700 / 3000: loss 8.997758"
       ]
      },
      {
       "output_type": "stream",
       "stream": "stdout",
       "text": [
        "\n",
        "iteration 2800 / 3000: loss 9.004506"
       ]
      },
      {
       "output_type": "stream",
       "stream": "stdout",
       "text": [
        "\n",
        "iteration 2900 / 3000: loss 9.010928"
       ]
      },
      {
       "output_type": "stream",
       "stream": "stdout",
       "text": [
        "\n",
        "iteration 0 / 3000: loss 8.999881"
       ]
      },
      {
       "output_type": "stream",
       "stream": "stdout",
       "text": [
        "\n",
        "iteration 100 / 3000: loss 8.999092"
       ]
      },
      {
       "output_type": "stream",
       "stream": "stdout",
       "text": [
        "\n",
        "iteration 200 / 3000: loss 8.994980"
       ]
      },
      {
       "output_type": "stream",
       "stream": "stdout",
       "text": [
        "\n",
        "iteration 300 / 3000: loss 9.007275"
       ]
      },
      {
       "output_type": "stream",
       "stream": "stdout",
       "text": [
        "\n",
        "iteration 400 / 3000: loss 8.984141"
       ]
      },
      {
       "output_type": "stream",
       "stream": "stdout",
       "text": [
        "\n",
        "iteration 500 / 3000: loss 9.000462"
       ]
      },
      {
       "output_type": "stream",
       "stream": "stdout",
       "text": [
        "\n",
        "iteration 600 / 3000: loss 9.006733"
       ]
      },
      {
       "output_type": "stream",
       "stream": "stdout",
       "text": [
        "\n",
        "iteration 700 / 3000: loss 9.012954"
       ]
      },
      {
       "output_type": "stream",
       "stream": "stdout",
       "text": [
        "\n",
        "iteration 800 / 3000: loss 9.005459"
       ]
      },
      {
       "output_type": "stream",
       "stream": "stdout",
       "text": [
        "\n",
        "iteration 900 / 3000: loss 8.989940"
       ]
      },
      {
       "output_type": "stream",
       "stream": "stdout",
       "text": [
        "\n",
        "iteration 1000 / 3000: loss 8.992894"
       ]
      },
      {
       "output_type": "stream",
       "stream": "stdout",
       "text": [
        "\n",
        "iteration 1100 / 3000: loss 8.995181"
       ]
      },
      {
       "output_type": "stream",
       "stream": "stdout",
       "text": [
        "\n",
        "iteration 1200 / 3000: loss 9.000918"
       ]
      },
      {
       "output_type": "stream",
       "stream": "stdout",
       "text": [
        "\n",
        "iteration 1300 / 3000: loss 8.994032"
       ]
      },
      {
       "output_type": "stream",
       "stream": "stdout",
       "text": [
        "\n",
        "iteration 1400 / 3000: loss 8.997239"
       ]
      },
      {
       "output_type": "stream",
       "stream": "stdout",
       "text": [
        "\n",
        "iteration 1500 / 3000: loss 8.978784"
       ]
      },
      {
       "output_type": "stream",
       "stream": "stdout",
       "text": [
        "\n",
        "iteration 1600 / 3000: loss 9.000403"
       ]
      },
      {
       "output_type": "stream",
       "stream": "stdout",
       "text": [
        "\n",
        "iteration 1700 / 3000: loss 8.990436"
       ]
      },
      {
       "output_type": "stream",
       "stream": "stdout",
       "text": [
        "\n",
        "iteration 1800 / 3000: loss 8.996933"
       ]
      },
      {
       "output_type": "stream",
       "stream": "stdout",
       "text": [
        "\n",
        "iteration 1900 / 3000: loss 8.988632"
       ]
      },
      {
       "output_type": "stream",
       "stream": "stdout",
       "text": [
        "\n",
        "iteration 2000 / 3000: loss 9.004411"
       ]
      },
      {
       "output_type": "stream",
       "stream": "stdout",
       "text": [
        "\n",
        "iteration 2100 / 3000: loss 8.992664"
       ]
      },
      {
       "output_type": "stream",
       "stream": "stdout",
       "text": [
        "\n",
        "iteration 2200 / 3000: loss 8.989804"
       ]
      },
      {
       "output_type": "stream",
       "stream": "stdout",
       "text": [
        "\n",
        "iteration 2300 / 3000: loss 8.992689"
       ]
      },
      {
       "output_type": "stream",
       "stream": "stdout",
       "text": [
        "\n",
        "iteration 2400 / 3000: loss 8.992823"
       ]
      },
      {
       "output_type": "stream",
       "stream": "stdout",
       "text": [
        "\n",
        "iteration 2500 / 3000: loss 9.002027"
       ]
      },
      {
       "output_type": "stream",
       "stream": "stdout",
       "text": [
        "\n",
        "iteration 2600 / 3000: loss 9.008903"
       ]
      },
      {
       "output_type": "stream",
       "stream": "stdout",
       "text": [
        "\n",
        "iteration 2700 / 3000: loss 9.010533"
       ]
      },
      {
       "output_type": "stream",
       "stream": "stdout",
       "text": [
        "\n",
        "iteration 2800 / 3000: loss 8.997894"
       ]
      },
      {
       "output_type": "stream",
       "stream": "stdout",
       "text": [
        "\n",
        "iteration 2900 / 3000: loss 8.987892"
       ]
      },
      {
       "output_type": "stream",
       "stream": "stdout",
       "text": [
        "\n",
        "lr 1.000000e-08 reg 1.000000e-04 train accuracy: 0.097102 val accuracy: 0.104000"
       ]
      },
      {
       "output_type": "stream",
       "stream": "stdout",
       "text": [
        "\n",
        "lr 1.000000e-08 reg 5.000000e-04 train accuracy: 0.103367 val accuracy: 0.090000\n",
        "lr 1.000000e-08 reg 1.000000e-03 train accuracy: 0.091122 val accuracy: 0.089000\n",
        "lr 1.000000e-08 reg 5.000000e-03 train accuracy: 0.103490 val accuracy: 0.121000\n",
        "lr 1.000000e-08 reg 1.000000e-02 train accuracy: 0.089184 val accuracy: 0.079000\n",
        "lr 1.000000e-08 reg 5.000000e-02 train accuracy: 0.130796 val accuracy: 0.120000\n",
        "lr 1.000000e-08 reg 5.000000e-01 train accuracy: 0.104429 val accuracy: 0.100000\n",
        "lr 1.000000e-07 reg 1.000000e-04 train accuracy: 0.141449 val accuracy: 0.160000\n",
        "lr 1.000000e-07 reg 5.000000e-04 train accuracy: 0.147122 val accuracy: 0.148000\n",
        "lr 1.000000e-07 reg 1.000000e-03 train accuracy: 0.152837 val accuracy: 0.166000\n",
        "lr 1.000000e-07 reg 5.000000e-03 train accuracy: 0.107653 val accuracy: 0.112000\n",
        "lr 1.000000e-07 reg 1.000000e-02 train accuracy: 0.151408 val accuracy: 0.147000\n",
        "lr 1.000000e-07 reg 5.000000e-02 train accuracy: 0.148633 val accuracy: 0.130000\n",
        "lr 1.000000e-07 reg 5.000000e-01 train accuracy: 0.133816 val accuracy: 0.132000\n",
        "lr 1.000000e-06 reg 1.000000e-04 train accuracy: 0.324429 val accuracy: 0.321000\n",
        "lr 1.000000e-06 reg 5.000000e-04 train accuracy: 0.335000 val accuracy: 0.339000\n",
        "lr 1.000000e-06 reg 1.000000e-03 train accuracy: 0.324918 val accuracy: 0.334000\n",
        "lr 1.000000e-06 reg 5.000000e-03 train accuracy: 0.330837 val accuracy: 0.311000\n",
        "lr 1.000000e-06 reg 1.000000e-02 train accuracy: 0.338265 val accuracy: 0.355000\n",
        "lr 1.000000e-06 reg 5.000000e-02 train accuracy: 0.317490 val accuracy: 0.314000\n",
        "lr 1.000000e-06 reg 5.000000e-01 train accuracy: 0.343735 val accuracy: 0.348000\n",
        "lr 1.000000e-05 reg 1.000000e-04 train accuracy: 0.414878 val accuracy: 0.415000\n",
        "lr 1.000000e-05 reg 5.000000e-04 train accuracy: 0.412592 val accuracy: 0.409000\n",
        "lr 1.000000e-05 reg 1.000000e-03 train accuracy: 0.415592 val accuracy: 0.419000\n",
        "lr 1.000000e-05 reg 5.000000e-03 train accuracy: 0.413653 val accuracy: 0.417000\n",
        "lr 1.000000e-05 reg 1.000000e-02 train accuracy: 0.412163 val accuracy: 0.421000\n",
        "lr 1.000000e-05 reg 5.000000e-02 train accuracy: 0.415449 val accuracy: 0.424000\n",
        "lr 1.000000e-05 reg 5.000000e-01 train accuracy: 0.415265 val accuracy: 0.417000\n",
        "lr 1.000000e-04 reg 1.000000e-04 train accuracy: 0.470551 val accuracy: 0.459000\n",
        "lr 1.000000e-04 reg 5.000000e-04 train accuracy: 0.471367 val accuracy: 0.457000\n",
        "lr 1.000000e-04 reg 1.000000e-03 train accuracy: 0.469653 val accuracy: 0.459000\n",
        "lr 1.000000e-04 reg 5.000000e-03 train accuracy: 0.469408 val accuracy: 0.458000\n",
        "lr 1.000000e-04 reg 1.000000e-02 train accuracy: 0.469592 val accuracy: 0.458000\n",
        "lr 1.000000e-04 reg 5.000000e-02 train accuracy: 0.470510 val accuracy: 0.453000\n",
        "lr 1.000000e-04 reg 5.000000e-01 train accuracy: 0.470449 val accuracy: 0.460000\n",
        "lr 1.000000e-03 reg 1.000000e-04 train accuracy: 0.508857 val accuracy: 0.488000\n",
        "lr 1.000000e-03 reg 5.000000e-04 train accuracy: 0.509163 val accuracy: 0.497000\n",
        "lr 1.000000e-03 reg 1.000000e-03 train accuracy: 0.509469 val accuracy: 0.491000\n",
        "lr 1.000000e-03 reg 5.000000e-03 train accuracy: 0.508510 val accuracy: 0.491000\n",
        "lr 1.000000e-03 reg 1.000000e-02 train accuracy: 0.508735 val accuracy: 0.498000\n",
        "lr 1.000000e-03 reg 5.000000e-02 train accuracy: 0.508265 val accuracy: 0.497000\n",
        "lr 1.000000e-03 reg 5.000000e-01 train accuracy: 0.509469 val accuracy: 0.487000\n",
        "best validation accuracy achieved during cross-validation: 0.498000\n"
       ]
      }
     ],
     "prompt_number": 34
    },
    {
     "cell_type": "code",
     "collapsed": false,
     "input": [
      "# Finetuning\n",
      "from cs231n.classifiers import LinearSVM\n",
      "#lr, rs = 1e-2, 3e-2\n",
      "#svm = LinearSVM()\n",
      "lr, rs = 1e-6, 3e-2\n",
      "svm = LinearSVM(svm.W)\n",
      "svm.train(X_train_feats, y_train, learning_rate=lr, reg=rs,\n",
      "                  num_iters=1000, verbose=True)"
     ],
     "language": "python",
     "metadata": {},
     "outputs": [
      {
       "output_type": "stream",
       "stream": "stdout",
       "text": [
        "iteration 0 / 1000: loss 3.187040\n",
        "iteration 100 / 1000: loss 2.866890"
       ]
      },
      {
       "output_type": "stream",
       "stream": "stdout",
       "text": [
        "\n",
        "iteration 200 / 1000: loss 3.346839"
       ]
      },
      {
       "output_type": "stream",
       "stream": "stdout",
       "text": [
        "\n",
        "iteration 300 / 1000: loss 3.315551"
       ]
      },
      {
       "output_type": "stream",
       "stream": "stdout",
       "text": [
        "\n",
        "iteration 400 / 1000: loss 2.801087"
       ]
      },
      {
       "output_type": "stream",
       "stream": "stdout",
       "text": [
        "\n",
        "iteration 500 / 1000: loss 3.120390"
       ]
      },
      {
       "output_type": "stream",
       "stream": "stdout",
       "text": [
        "\n",
        "iteration 600 / 1000: loss 3.023034"
       ]
      },
      {
       "output_type": "stream",
       "stream": "stdout",
       "text": [
        "\n",
        "iteration 700 / 1000: loss 2.704068"
       ]
      },
      {
       "output_type": "stream",
       "stream": "stdout",
       "text": [
        "\n",
        "iteration 800 / 1000: loss 2.724119"
       ]
      },
      {
       "output_type": "stream",
       "stream": "stdout",
       "text": [
        "\n",
        "iteration 900 / 1000: loss 3.448682"
       ]
      },
      {
       "output_type": "stream",
       "stream": "stdout",
       "text": [
        "\n"
       ]
      },
      {
       "metadata": {},
       "output_type": "pyout",
       "prompt_number": 56,
       "text": [
        "[3.1870395657123729,\n",
        " 3.3751939168786973,\n",
        " 3.1951570653368395,\n",
        " 3.0811253335817321,\n",
        " 3.5813735741726789,\n",
        " 2.9089703995518206,\n",
        " 2.8382313681702542,\n",
        " 2.9318633508849063,\n",
        " 2.8745633782860716,\n",
        " 2.8367444513090989,\n",
        " 2.5143245439398365,\n",
        " 2.7499905416160813,\n",
        " 3.0530901894137763,\n",
        " 3.0229018502731351,\n",
        " 3.0628026314799532,\n",
        " 2.9347095228380775,\n",
        " 3.0556417949706884,\n",
        " 2.81721334932978,\n",
        " 3.0647195553877991,\n",
        " 3.0786536755444018,\n",
        " 2.9110823211709405,\n",
        " 3.3068605304362149,\n",
        " 2.6164857931787586,\n",
        " 2.8168479759404033,\n",
        " 2.6270837334967698,\n",
        " 3.5233831043938313,\n",
        " 2.7392437477452596,\n",
        " 3.0838300005053072,\n",
        " 3.1493726034850216,\n",
        " 3.1493479358266327,\n",
        " 3.3421566195352432,\n",
        " 3.3002287956101592,\n",
        " 2.739540341054624,\n",
        " 3.0877690670132001,\n",
        " 2.8286613526663258,\n",
        " 2.584817830063848,\n",
        " 3.3132111322386972,\n",
        " 2.6876510593808418,\n",
        " 3.1610428982470089,\n",
        " 2.9046651668093961,\n",
        " 3.1897519428284493,\n",
        " 3.4232421982001298,\n",
        " 3.5120810690371438,\n",
        " 3.3146616711087589,\n",
        " 3.0016449396267193,\n",
        " 2.7108299748837648,\n",
        " 3.0149966500204011,\n",
        " 2.7508090699525281,\n",
        " 2.898389651143916,\n",
        " 2.8628886032620895,\n",
        " 3.0088868676740552,\n",
        " 2.9539434135728304,\n",
        " 3.2896929101768051,\n",
        " 2.9778752170253791,\n",
        " 3.0104741948142801,\n",
        " 2.6962682764913644,\n",
        " 2.8749178102648174,\n",
        " 3.2153895353507993,\n",
        " 2.7382278007543688,\n",
        " 3.1499866357177129,\n",
        " 2.339808369531267,\n",
        " 2.7708673138189361,\n",
        " 2.68017043119369,\n",
        " 3.1635816057587069,\n",
        " 2.9524361423386529,\n",
        " 2.8597994683131578,\n",
        " 3.7247207678189005,\n",
        " 3.0972450199695896,\n",
        " 2.4794172061106381,\n",
        " 2.5404710941473168,\n",
        " 2.7492946994658825,\n",
        " 2.6856028337731468,\n",
        " 2.7056933678074744,\n",
        " 2.9770825164072523,\n",
        " 2.7533638735930577,\n",
        " 2.9205145953910425,\n",
        " 3.1738416698317402,\n",
        " 3.6214396315396806,\n",
        " 3.2149289771211018,\n",
        " 3.0718231577069814,\n",
        " 2.7213682713194207,\n",
        " 3.0507000335736509,\n",
        " 2.9580177883042236,\n",
        " 2.7519764326202854,\n",
        " 2.974068776255423,\n",
        " 3.1230058049572573,\n",
        " 2.9796554402904949,\n",
        " 3.2432212357439898,\n",
        " 2.6861223617015146,\n",
        " 2.6707346403319869,\n",
        " 2.8367804341636638,\n",
        " 3.1313364919513766,\n",
        " 3.2328888114277712,\n",
        " 3.081313544180766,\n",
        " 2.9506655370715209,\n",
        " 3.0062332629197095,\n",
        " 3.327167726917764,\n",
        " 2.6039501490189321,\n",
        " 2.9097027319034656,\n",
        " 3.0358780454939547,\n",
        " 2.8668898851372679,\n",
        " 3.1088171920186878,\n",
        " 2.9467800168237672,\n",
        " 3.225350265506576,\n",
        " 2.8650879362349571,\n",
        " 2.6657239722657198,\n",
        " 3.0338560126225778,\n",
        " 2.6206760442836345,\n",
        " 3.3333902084036633,\n",
        " 3.4858274122707105,\n",
        " 3.1231866889989641,\n",
        " 2.8685449722443082,\n",
        " 3.0147559090966984,\n",
        " 2.8512721992416896,\n",
        " 2.9419370499987032,\n",
        " 2.7123533471672427,\n",
        " 2.8732850155969061,\n",
        " 3.0127066983054442,\n",
        " 3.1333196691524439,\n",
        " 2.770230519525505,\n",
        " 3.0983875715479217,\n",
        " 3.2525088709732524,\n",
        " 3.3147866144662128,\n",
        " 2.7460904117252909,\n",
        " 2.6845869757363783,\n",
        " 3.2238260788483544,\n",
        " 3.1209337662298604,\n",
        " 2.4085653718089475,\n",
        " 3.1894626531488082,\n",
        " 2.7569759919880785,\n",
        " 3.4515181431934376,\n",
        " 2.9155034544286984,\n",
        " 3.0142905707379972,\n",
        " 3.0321169158569794,\n",
        " 3.3425659163131942,\n",
        " 2.8741344561282931,\n",
        " 3.2660776285286799,\n",
        " 3.3253749049200794,\n",
        " 3.0655159518833885,\n",
        " 2.731327371727311,\n",
        " 2.9277693121182717,\n",
        " 2.8460896521778904,\n",
        " 3.1400161557501942,\n",
        " 2.6191556373984497,\n",
        " 2.9397778735882873,\n",
        " 2.6538012712912606,\n",
        " 2.9355883458047023,\n",
        " 3.023925810304211,\n",
        " 2.9090140551276953,\n",
        " 3.3315676107669736,\n",
        " 2.8682754566639383,\n",
        " 2.808494280221379,\n",
        " 3.263030683186336,\n",
        " 2.9356364244221602,\n",
        " 3.0606022102208916,\n",
        " 2.9501454610398792,\n",
        " 3.218069937210474,\n",
        " 2.755325835944948,\n",
        " 2.9684165019097737,\n",
        " 3.0502577995441729,\n",
        " 3.1912876938407284,\n",
        " 2.7849298357954058,\n",
        " 3.153328591272484,\n",
        " 3.28498238388147,\n",
        " 3.1775297898952717,\n",
        " 2.9430356572387741,\n",
        " 3.3859033715109805,\n",
        " 2.6444247955539071,\n",
        " 3.4234385591746572,\n",
        " 3.1979035064757415,\n",
        " 2.9852734589423622,\n",
        " 2.8266317832556229,\n",
        " 2.5294417201863788,\n",
        " 2.7670734576843676,\n",
        " 2.9970832410307384,\n",
        " 2.910650375152803,\n",
        " 2.8899765028899016,\n",
        " 2.885432200961501,\n",
        " 2.8480139128828412,\n",
        " 3.4672908300209828,\n",
        " 2.8906274655753905,\n",
        " 3.4330587642239094,\n",
        " 3.0366793414948927,\n",
        " 3.0601684724252913,\n",
        " 2.8954192100228417,\n",
        " 3.3009923363982425,\n",
        " 3.0064364324189636,\n",
        " 3.6223569398599453,\n",
        " 2.984295635892491,\n",
        " 3.4422144051488504,\n",
        " 3.5265841717511748,\n",
        " 2.9735946032664797,\n",
        " 3.6783033321799588,\n",
        " 2.7953791037788922,\n",
        " 2.7403124928153177,\n",
        " 3.2173083510769662,\n",
        " 2.4981222201812132,\n",
        " 3.1718259734581764,\n",
        " 3.2078308182836857,\n",
        " 3.2633349227209032,\n",
        " 3.3468385413638577,\n",
        " 3.3596553598972037,\n",
        " 3.1438622789500541,\n",
        " 3.0429592692693332,\n",
        " 3.0053282151606706,\n",
        " 2.9964067559591125,\n",
        " 2.5113697126426406,\n",
        " 3.2469117715319369,\n",
        " 3.2244397547847568,\n",
        " 2.5590168944405023,\n",
        " 2.9697298446780991,\n",
        " 2.6548978947945687,\n",
        " 3.5546128210709553,\n",
        " 2.9082024237319271,\n",
        " 2.7048961725973548,\n",
        " 2.8742790649993704,\n",
        " 3.0313928661179372,\n",
        " 2.7245229657726608,\n",
        " 3.0728380221147704,\n",
        " 3.3406812740664282,\n",
        " 2.7740791036257386,\n",
        " 2.8900730734066786,\n",
        " 2.9857798991508258,\n",
        " 3.1871271917611725,\n",
        " 3.0093381406430728,\n",
        " 3.4927552658121228,\n",
        " 3.0471140702590125,\n",
        " 3.5151665738094153,\n",
        " 3.3093782250505326,\n",
        " 2.7963422178488502,\n",
        " 2.7212901115586545,\n",
        " 3.094522087410053,\n",
        " 3.041858027730187,\n",
        " 3.0786899605980125,\n",
        " 3.3151199238848985,\n",
        " 3.1179672281712167,\n",
        " 3.0290927976979347,\n",
        " 2.5668809141235425,\n",
        " 3.1957229382819539,\n",
        " 3.454846057000005,\n",
        " 2.748953848406106,\n",
        " 3.364754383208203,\n",
        " 2.8857299711195266,\n",
        " 3.0505632150437867,\n",
        " 3.0319509875761175,\n",
        " 2.6195471566802855,\n",
        " 2.7868567577900829,\n",
        " 3.1293095772457642,\n",
        " 3.302909223063073,\n",
        " 2.8784672498819277,\n",
        " 2.5960954991861032,\n",
        " 2.973163458937262,\n",
        " 2.6592852298443286,\n",
        " 3.4412733836865561,\n",
        " 3.5957029461535606,\n",
        " 2.8144160773711326,\n",
        " 2.940000429150508,\n",
        " 2.9687357066625868,\n",
        " 3.2881585215383358,\n",
        " 2.823493595153268,\n",
        " 2.8702329977943886,\n",
        " 3.0405766820537377,\n",
        " 2.9754620181921196,\n",
        " 2.8238996637217273,\n",
        " 2.645775138978959,\n",
        " 2.7040668821564404,\n",
        " 2.9682913136505613,\n",
        " 3.2189801751093836,\n",
        " 3.4752653154673867,\n",
        " 3.2306950288561489,\n",
        " 2.8403173592345756,\n",
        " 2.7966595206920655,\n",
        " 3.3482323540102295,\n",
        " 3.0991529527343498,\n",
        " 3.6294100064050303,\n",
        " 3.2092077943268444,\n",
        " 3.2169906706702922,\n",
        " 2.4328272561142037,\n",
        " 3.0760998980382386,\n",
        " 3.286482156056318,\n",
        " 3.0232887870619929,\n",
        " 2.6609599902544718,\n",
        " 2.8925986763760765,\n",
        " 3.5794529783384617,\n",
        " 3.4285288326673649,\n",
        " 2.9531312453268534,\n",
        " 3.3098672502445461,\n",
        " 2.8146970686641448,\n",
        " 2.9016968589019729,\n",
        " 2.8804624155643759,\n",
        " 3.0266796429615366,\n",
        " 2.6674458982591882,\n",
        " 3.2061668736438165,\n",
        " 3.179297868090869,\n",
        " 2.9689241988366537,\n",
        " 3.0211744729296597,\n",
        " 3.0348770190183312,\n",
        " 3.3824651882705523,\n",
        " 2.7026298446858452,\n",
        " 3.0991970725166289,\n",
        " 3.3155509730207884,\n",
        " 3.4405609417949812,\n",
        " 2.9114636038425585,\n",
        " 2.9275584569177973,\n",
        " 3.4656958095398083,\n",
        " 3.2451160779842549,\n",
        " 3.0398335655104525,\n",
        " 2.7713898550228517,\n",
        " 2.7634270413096615,\n",
        " 2.6575304233354839,\n",
        " 3.1190247533743083,\n",
        " 3.0977564293040647,\n",
        " 3.0337040143357918,\n",
        " 3.1828178931645446,\n",
        " 3.1100027644166555,\n",
        " 3.0484872599702673,\n",
        " 3.0486840073768859,\n",
        " 3.2465907124733828,\n",
        " 3.0418385921833573,\n",
        " 2.701396265439703,\n",
        " 2.915628936417626,\n",
        " 3.2668421311240619,\n",
        " 2.5043270441753993,\n",
        " 2.7204879579753722,\n",
        " 2.9513725788876544,\n",
        " 2.7013971853590175,\n",
        " 3.3781583302804021,\n",
        " 2.8268570198609599,\n",
        " 3.379534063133891,\n",
        " 3.1216796988318309,\n",
        " 3.1991042898636528,\n",
        " 3.3469958700069791,\n",
        " 2.4857689841949613,\n",
        " 3.3769800954849805,\n",
        " 2.8868331498395943,\n",
        " 3.0596422674057884,\n",
        " 2.9563548906208408,\n",
        " 3.2790273739104738,\n",
        " 2.8901131931578283,\n",
        " 3.0126376005305904,\n",
        " 2.7492150405196578,\n",
        " 3.154609411164095,\n",
        " 3.116115143674449,\n",
        " 3.0963995640145066,\n",
        " 3.0332142790168199,\n",
        " 2.7523671221239558,\n",
        " 3.2194033148148362,\n",
        " 3.0108217131547708,\n",
        " 3.1098916499363476,\n",
        " 3.0718722454974325,\n",
        " 3.0163169636312226,\n",
        " 3.4679687660414094,\n",
        " 2.8687568320762384,\n",
        " 3.1331158180942498,\n",
        " 2.8634693526421988,\n",
        " 2.973026456007104,\n",
        " 3.6275476148847403,\n",
        " 2.7339379100284011,\n",
        " 2.5735314727316787,\n",
        " 2.6579277885868398,\n",
        " 2.6335591041609594,\n",
        " 3.1283548349802746,\n",
        " 3.2240802590309015,\n",
        " 2.7181710696095838,\n",
        " 3.1022573885531322,\n",
        " 3.3290259044852717,\n",
        " 2.7990171016758802,\n",
        " 2.9956757757612165,\n",
        " 2.5741631079799707,\n",
        " 2.8446673100031505,\n",
        " 3.2218332396393894,\n",
        " 3.1944739503401172,\n",
        " 2.9574263334250483,\n",
        " 2.9813216638815163,\n",
        " 2.7964926322874444,\n",
        " 2.9999520433140088,\n",
        " 2.899692803856373,\n",
        " 3.437429280574094,\n",
        " 3.1820053580824572,\n",
        " 2.5853445380292706,\n",
        " 3.0957935389018689,\n",
        " 3.1061278312544367,\n",
        " 3.0177911409662794,\n",
        " 2.4312391331546488,\n",
        " 3.0718459233708737,\n",
        " 2.9906344043018871,\n",
        " 2.7063954555075438,\n",
        " 2.8281038544028627,\n",
        " 3.0290851532243614,\n",
        " 3.6542871724053771,\n",
        " 2.4821814690561186,\n",
        " 2.9021044339101327,\n",
        " 3.2936072032382158,\n",
        " 3.3551652197765751,\n",
        " 3.3306081608492084,\n",
        " 2.6675425813276341,\n",
        " 3.3509429845835883,\n",
        " 2.7086630022275644,\n",
        " 2.4414025604779401,\n",
        " 2.9915500242468873,\n",
        " 2.8010871222611433,\n",
        " 3.3344076610755709,\n",
        " 2.6666282370694643,\n",
        " 2.9042390839249497,\n",
        " 2.7598550688665,\n",
        " 3.8100139486019069,\n",
        " 3.1247234800000592,\n",
        " 2.9627235697206062,\n",
        " 3.0588567533604651,\n",
        " 2.6587423425134231,\n",
        " 2.8419868320666843,\n",
        " 3.1057963748945085,\n",
        " 2.8058726195070958,\n",
        " 2.4247432448570851,\n",
        " 2.8797101834753969,\n",
        " 2.6836771965437136,\n",
        " 2.7943434022226596,\n",
        " 3.2814407372939867,\n",
        " 2.9864736858237775,\n",
        " 2.9334666645025607,\n",
        " 3.3194003923485291,\n",
        " 3.0366654354590845,\n",
        " 3.0445839028227932,\n",
        " 3.0577295518466294,\n",
        " 2.9441493571704536,\n",
        " 2.735740110449866,\n",
        " 3.1969643397765539,\n",
        " 3.1123041801854172,\n",
        " 2.8500639421167864,\n",
        " 2.7002307162978276,\n",
        " 2.8929367431549964,\n",
        " 3.1018189753165797,\n",
        " 2.8088786724358203,\n",
        " 3.3595998602391219,\n",
        " 3.1042655760920086,\n",
        " 2.9208198197417921,\n",
        " 2.9373381270904244,\n",
        " 3.4436875316516762,\n",
        " 3.2674384057001435,\n",
        " 3.2546420525018513,\n",
        " 3.0568426946892169,\n",
        " 2.9600225283682207,\n",
        " 3.0571515321506211,\n",
        " 2.6200632316649131,\n",
        " 2.8114275338493222,\n",
        " 3.2693374680805425,\n",
        " 3.1538410685539762,\n",
        " 3.3600250163007814,\n",
        " 2.788530027808525,\n",
        " 3.2639729143296989,\n",
        " 2.9213696345878213,\n",
        " 3.0608434887319622,\n",
        " 3.2939794564955416,\n",
        " 3.070118414302426,\n",
        " 3.1635823726018244,\n",
        " 2.8698395120497402,\n",
        " 3.3284373984619156,\n",
        " 2.9169631339170023,\n",
        " 3.1593108085736739,\n",
        " 3.6737546795453886,\n",
        " 3.2472501577004191,\n",
        " 2.781569582891728,\n",
        " 2.7470739577254286,\n",
        " 3.2174415932599167,\n",
        " 2.6130473682372619,\n",
        " 3.0184800073819043,\n",
        " 2.7991373053803179,\n",
        " 2.8503470538769418,\n",
        " 2.497303581995141,\n",
        " 2.7803403223209329,\n",
        " 3.002042229205423,\n",
        " 2.855634779179292,\n",
        " 3.1387815322864174,\n",
        " 3.1322875974658544,\n",
        " 3.5501005040845417,\n",
        " 3.2606095977953529,\n",
        " 3.0597191163460677,\n",
        " 2.4574884501447127,\n",
        " 2.8855896051799736,\n",
        " 3.2697143766192358,\n",
        " 2.7725673858121542,\n",
        " 2.9819857077051717,\n",
        " 2.4544593955075875,\n",
        " 2.823423268434011,\n",
        " 3.2808803037624479,\n",
        " 3.2926814987732831,\n",
        " 2.9326445891090311,\n",
        " 2.7753829975580584,\n",
        " 3.0375837662339213,\n",
        " 2.4532591643411834,\n",
        " 3.1885947363027505,\n",
        " 2.8231478202481015,\n",
        " 3.0379020744671363,\n",
        " 3.406524153144634,\n",
        " 2.7990413965691459,\n",
        " 2.7207917114661644,\n",
        " 2.8076113898323167,\n",
        " 2.6326050974267119,\n",
        " 2.9476141518225734,\n",
        " 2.7890643616814534,\n",
        " 3.1203901434639998,\n",
        " 2.6596363740034956,\n",
        " 3.0515837543039837,\n",
        " 2.9171793038335845,\n",
        " 2.9404681379555742,\n",
        " 3.2388165751058087,\n",
        " 3.2238762721809593,\n",
        " 3.4212884901364227,\n",
        " 2.8539744046454674,\n",
        " 3.1627208837258038,\n",
        " 2.7285125157148618,\n",
        " 2.6434750712021349,\n",
        " 2.7323274343977899,\n",
        " 3.0431235580980083,\n",
        " 3.0459937409145743,\n",
        " 2.5035974651648605,\n",
        " 3.2777652583199575,\n",
        " 2.7623209821271888,\n",
        " 2.8145869936154284,\n",
        " 3.4101530990755378,\n",
        " 3.5094523962541446,\n",
        " 3.1176310434330627,\n",
        " 3.0680038379862129,\n",
        " 3.4829742061873037,\n",
        " 2.6798319868961156,\n",
        " 2.6709378691562704,\n",
        " 2.9269102578897606,\n",
        " 2.9394339677137342,\n",
        " 2.6733065840143957,\n",
        " 2.9669889140387808,\n",
        " 3.2644015367806514,\n",
        " 3.1343847675155141,\n",
        " 3.2624899604467243,\n",
        " 3.0611996249305804,\n",
        " 3.1792857471818095,\n",
        " 3.0103801951201663,\n",
        " 3.2130089568480886,\n",
        " 3.5919236910850514,\n",
        " 3.2025108428381079,\n",
        " 3.2476332025246588,\n",
        " 2.896024233727752,\n",
        " 2.7212448118612884,\n",
        " 3.3929379821542458,\n",
        " 3.0762299951153103,\n",
        " 2.944941618439564,\n",
        " 2.917863388644764,\n",
        " 3.1253094987776819,\n",
        " 3.5231339058172177,\n",
        " 3.3805067040467724,\n",
        " 2.9914030558229587,\n",
        " 2.940918399426665,\n",
        " 3.1546487292234238,\n",
        " 2.9675325536186992,\n",
        " 3.3130025163938219,\n",
        " 2.9064390638773325,\n",
        " 3.3027193615184882,\n",
        " 3.250847018367979,\n",
        " 3.1498672367714242,\n",
        " 3.4020635999224025,\n",
        " 2.4828947656418334,\n",
        " 3.265282133954305,\n",
        " 3.2358203665422254,\n",
        " 3.0993776665764976,\n",
        " 3.3433355929472217,\n",
        " 2.8075408804152362,\n",
        " 3.1317526664902684,\n",
        " 2.9910639867113225,\n",
        " 3.0931883488049134,\n",
        " 3.1772531314664145,\n",
        " 3.208988082459606,\n",
        " 3.3022590756798911,\n",
        " 3.075565966664167,\n",
        " 3.0898231957030511,\n",
        " 2.6508954197279175,\n",
        " 3.0609608442232705,\n",
        " 3.0409728977789543,\n",
        " 2.9153947918860554,\n",
        " 2.5654078178309567,\n",
        " 3.2814502218966739,\n",
        " 2.7943633835313202,\n",
        " 2.8391354640558983,\n",
        " 3.107317179051595,\n",
        " 2.7785453349168527,\n",
        " 3.3118398792721013,\n",
        " 2.7000266929020222,\n",
        " 3.290873186555606,\n",
        " 2.9799189664929568,\n",
        " 2.8798839088215873,\n",
        " 3.2937849234003744,\n",
        " 2.686819630071636,\n",
        " 2.8520863609414411,\n",
        " 2.5357574609213942,\n",
        " 3.2511174060729382,\n",
        " 2.6522335129480563,\n",
        " 3.173540777379376,\n",
        " 2.7312648235502373,\n",
        " 2.9454989723022877,\n",
        " 2.8289104614094063,\n",
        " 2.931035466415409,\n",
        " 3.2277699369639379,\n",
        " 3.0230340352199012,\n",
        " 2.7131327380676069,\n",
        " 3.2158460124727131,\n",
        " 2.8635016486188198,\n",
        " 2.7712065540935353,\n",
        " 3.0319061010632029,\n",
        " 2.8790894670909375,\n",
        " 2.5331482939997927,\n",
        " 2.8888212570720406,\n",
        " 2.8822198651813267,\n",
        " 3.1144042340863556,\n",
        " 2.9707176324034585,\n",
        " 2.7368651286177448,\n",
        " 3.2805169254031483,\n",
        " 2.5565907812046191,\n",
        " 3.108884103317985,\n",
        " 3.3766383467730847,\n",
        " 2.9491986473310718,\n",
        " 2.7874310338132582,\n",
        " 2.750094061752451,\n",
        " 2.9806831718613491,\n",
        " 2.8821996022614305,\n",
        " 3.5190207703213963,\n",
        " 2.937577513278494,\n",
        " 2.714844395685077,\n",
        " 3.4455293527969757,\n",
        " 3.2595188131067214,\n",
        " 3.1587565523315368,\n",
        " 2.9292405849630145,\n",
        " 3.4847657319008092,\n",
        " 3.052949362686483,\n",
        " 3.3068594228836226,\n",
        " 3.1447518139857649,\n",
        " 3.0070909446311509,\n",
        " 2.9082042078033457,\n",
        " 2.9430152590713874,\n",
        " 2.7320178544095364,\n",
        " 2.8735007587976726,\n",
        " 2.5721931663721707,\n",
        " 2.9245080596308073,\n",
        " 3.3678543323271435,\n",
        " 2.8641672658363482,\n",
        " 3.2114592054372904,\n",
        " 3.2996894655076598,\n",
        " 3.159802285296728,\n",
        " 3.4072566671212807,\n",
        " 2.4686086255871444,\n",
        " 3.2011050773000931,\n",
        " 2.7168154405434932,\n",
        " 2.9036166828536469,\n",
        " 3.0338887197885107,\n",
        " 2.9955305210853629,\n",
        " 2.6591962139291421,\n",
        " 2.656366840246005,\n",
        " 2.5985482088559091,\n",
        " 2.995909473595932,\n",
        " 2.6502003673584813,\n",
        " 3.3825299498050279,\n",
        " 2.8366633936796988,\n",
        " 2.8427999402353024,\n",
        " 2.8995203363387181,\n",
        " 2.5395298131103474,\n",
        " 2.7429730902322906,\n",
        " 3.4833189952787329,\n",
        " 3.0734993041548466,\n",
        " 2.9751849783247462,\n",
        " 3.0229035386022343,\n",
        " 3.3004031131497618,\n",
        " 3.017320172739653,\n",
        " 2.9082953604258082,\n",
        " 3.1974510589534972,\n",
        " 2.9084141492835549,\n",
        " 3.1774752189626616,\n",
        " 3.0268522709421108,\n",
        " 3.2449441012978246,\n",
        " 3.3965822157529049,\n",
        " 2.9838681869113635,\n",
        " 3.4147781383689084,\n",
        " 3.2084198313874275,\n",
        " 2.931292982745735,\n",
        " 3.3957378485560339,\n",
        " 3.4049028447563257,\n",
        " 2.7705523557787881,\n",
        " 2.6292757369104889,\n",
        " 3.3455821766357206,\n",
        " 3.1825166058044378,\n",
        " 3.0576048519681822,\n",
        " 2.5970002450115119,\n",
        " 2.7563990539511685,\n",
        " 2.9088445716286029,\n",
        " 3.2282604284679373,\n",
        " 3.1747689018411061,\n",
        " 3.0267276130088896,\n",
        " 3.3280150133647393,\n",
        " 3.1297969941098365,\n",
        " 3.0778800643308499,\n",
        " 2.769730055799303,\n",
        " 2.8834730979655716,\n",
        " 2.5523389289286316,\n",
        " 2.9165729304043584,\n",
        " 2.7040681338710666,\n",
        " 2.9304473757982725,\n",
        " 3.189126811239579,\n",
        " 3.3491647798467472,\n",
        " 2.8825916171954691,\n",
        " 2.8233883510414111,\n",
        " 3.4239692640901511,\n",
        " 3.0604367008149973,\n",
        " 3.268081926964391,\n",
        " 2.5027315021010192,\n",
        " 3.3009529244611651,\n",
        " 2.8167481169571404,\n",
        " 2.8499296489970671,\n",
        " 2.9978454392151832,\n",
        " 2.6817439146913697,\n",
        " 3.0088919066075213,\n",
        " 2.91483204661295,\n",
        " 3.1677558661368757,\n",
        " 3.3209406307328075,\n",
        " 2.7297486588670172,\n",
        " 2.8095096680675251,\n",
        " 2.7899541992970791,\n",
        " 2.6941302289487643,\n",
        " 2.8582312089402344,\n",
        " 3.6309299161823705,\n",
        " 3.3906535177554784,\n",
        " 2.708830139382953,\n",
        " 2.874502869816943,\n",
        " 3.1229610224196551,\n",
        " 3.364721601885134,\n",
        " 2.7858377960094867,\n",
        " 2.8855681062291523,\n",
        " 3.0371112247190699,\n",
        " 3.0600778067713534,\n",
        " 3.3077482717256026,\n",
        " 2.9410850683979262,\n",
        " 2.7695928884854739,\n",
        " 3.3919394459196597,\n",
        " 3.4830253440721068,\n",
        " 2.8049840359920961,\n",
        " 3.2965196286931135,\n",
        " 3.0429143040827835,\n",
        " 2.8764808245545468,\n",
        " 2.8605124849717782,\n",
        " 2.7530029299711516,\n",
        " 2.7925432478313161,\n",
        " 2.9247316489189514,\n",
        " 3.1316724969631649,\n",
        " 2.9202785446709951,\n",
        " 3.3757704398950956,\n",
        " 2.4299662650159894,\n",
        " 3.1824890892926119,\n",
        " 3.0079750555025506,\n",
        " 2.9002016316969383,\n",
        " 3.4676362334164685,\n",
        " 2.7198541532285438,\n",
        " 3.4911196809752991,\n",
        " 3.4548288336600685,\n",
        " 2.782957456737662,\n",
        " 2.8726677664047431,\n",
        " 2.7989640844246897,\n",
        " 2.8694249290104108,\n",
        " 3.2487583335228134,\n",
        " 3.3103487021211753,\n",
        " 3.3357032558498121,\n",
        " 3.0043013501797207,\n",
        " 2.6580692806633097,\n",
        " 2.7191362986354304,\n",
        " 2.9109282158535348,\n",
        " 2.9687092391975733,\n",
        " 2.8642364267980422,\n",
        " 3.00424026258443,\n",
        " 3.5282610820901708,\n",
        " 3.2818118371246188,\n",
        " 3.3434814518588278,\n",
        " 2.8018652035942302,\n",
        " 3.1347912881981066,\n",
        " 3.0666295868276805,\n",
        " 2.9684369374902979,\n",
        " 2.7519689613111655,\n",
        " 2.78796301090139,\n",
        " 3.1318336869653409,\n",
        " 2.992629995398318,\n",
        " 2.8626748150328654,\n",
        " 2.9010245382733171,\n",
        " 3.323545769327112,\n",
        " 2.7287891758325449,\n",
        " 2.9185977733692137,\n",
        " 3.1421125435164283,\n",
        " 3.0781204722185791,\n",
        " 2.897186965493848,\n",
        " 2.9561122668574988,\n",
        " 3.0822005226581064,\n",
        " 3.0218362965596639,\n",
        " 2.6579536573769671,\n",
        " 3.3389934348726817,\n",
        " 2.8980436762811772,\n",
        " 2.6565051450590076,\n",
        " 3.2946081962596256,\n",
        " 3.2752518952839074,\n",
        " 2.7241186946318288,\n",
        " 2.5830644098390798,\n",
        " 3.0342443366089165,\n",
        " 3.4624008424933668,\n",
        " 3.0808536532077229,\n",
        " 2.7630242261008404,\n",
        " 2.453928990388123,\n",
        " 3.1811035818067825,\n",
        " 2.6108886411899048,\n",
        " 2.952978560787912,\n",
        " 3.679702809498461,\n",
        " 3.0339149862056023,\n",
        " 3.0017523742889267,\n",
        " 2.6702808127877953,\n",
        " 2.829780978823599,\n",
        " 3.0729812275567534,\n",
        " 3.2655744902291395,\n",
        " 2.6057915820966695,\n",
        " 3.1094676359333424,\n",
        " 3.1158052070908302,\n",
        " 3.0924201633279136,\n",
        " 3.11051026694081,\n",
        " 2.8051245240704827,\n",
        " 3.1487352741890997,\n",
        " 3.2547777463572554,\n",
        " 3.0173170302652541,\n",
        " 2.7511829522762907,\n",
        " 2.5866434284468638,\n",
        " 2.9168183839401745,\n",
        " 3.3335631602465865,\n",
        " 2.7447341525359836,\n",
        " 2.8432032543300418,\n",
        " 2.9010500631690674,\n",
        " 3.056214737266866,\n",
        " 3.5996561130515365,\n",
        " 3.0913421180955343,\n",
        " 2.9035590051504188,\n",
        " 2.7898923338405401,\n",
        " 2.7329031148602825,\n",
        " 3.1418181549031443,\n",
        " 3.1178313380669782,\n",
        " 2.7789680976055546,\n",
        " 2.8672815734554891,\n",
        " 3.3987689918508655,\n",
        " 2.7743844694115025,\n",
        " 3.190332335114924,\n",
        " 2.7851460569688187,\n",
        " 3.3315852880273242,\n",
        " 3.0636548677980731,\n",
        " 3.2128201328205899,\n",
        " 3.3404321056350934,\n",
        " 2.7091229459413708,\n",
        " 3.2740078999645887,\n",
        " 2.7891555426864461,\n",
        " 2.7727576617949676,\n",
        " 2.9418597847051076,\n",
        " 3.2629292403196479,\n",
        " 2.9092619581836585,\n",
        " 2.7197462447847012,\n",
        " 3.592794298883256,\n",
        " 2.8772560619491889,\n",
        " 2.8001667625562732,\n",
        " 3.3513002099214781,\n",
        " 2.9894324943770689,\n",
        " 2.9170032026847283,\n",
        " 2.9563707125566152,\n",
        " 3.1066317926699361,\n",
        " 2.9385157890242604,\n",
        " 2.8728829377571681,\n",
        " 3.4765682625267331,\n",
        " 3.0305435792835178,\n",
        " 3.1032433204742551,\n",
        " 3.2711453081451243,\n",
        " 3.6924799980076917,\n",
        " 3.002867862809302,\n",
        " 2.433837850594522,\n",
        " 2.5114187252256599,\n",
        " 3.0217983087754781,\n",
        " 2.8944713371978041,\n",
        " 2.9916503125431384,\n",
        " 2.8014182355906909,\n",
        " 2.6686065359355076,\n",
        " 3.1334563946865885,\n",
        " 2.9630849939507495,\n",
        " 3.3436703457527028,\n",
        " 2.7676114920321204,\n",
        " 2.8258338915638612,\n",
        " 3.1419444745021035,\n",
        " 2.8601488410993094,\n",
        " 2.9995144627523409,\n",
        " 2.7918957882353701,\n",
        " 3.3016497230838082,\n",
        " 3.0974251758043745,\n",
        " 3.0845385848530653,\n",
        " 3.0914120776744731,\n",
        " 3.1927961997204521,\n",
        " 3.7322308166021645,\n",
        " 3.0730563131024673,\n",
        " 3.2178830112640568,\n",
        " 3.6596380384785188,\n",
        " 3.4486819208883612,\n",
        " 2.8324157957416229,\n",
        " 3.2687261766589453,\n",
        " 2.8364106676845813,\n",
        " 3.1399112679369501,\n",
        " 2.7185151917439061,\n",
        " 3.6184340906709753,\n",
        " 3.0120188394552541,\n",
        " 2.9430125399608111,\n",
        " 3.0653798080272106,\n",
        " 2.9781882680048994,\n",
        " 2.8928276730639446,\n",
        " 3.1971653462838217,\n",
        " 3.0458789529463308,\n",
        " 2.9275130124055559,\n",
        " 3.1320493921307651,\n",
        " 2.6034765162783913,\n",
        " 2.5475861307601053,\n",
        " 2.8762278610688821,\n",
        " 2.956407914011137,\n",
        " 2.7517597843568664,\n",
        " 3.1323402370479601,\n",
        " 2.9663639087953539,\n",
        " 2.4010002665199832,\n",
        " 3.0307190153578629,\n",
        " 3.4531021851564212,\n",
        " 3.0145697821837008,\n",
        " 3.1914763204046186,\n",
        " 2.9546972239441565,\n",
        " 2.9215922478483169,\n",
        " 3.1364586994013344,\n",
        " 3.1924529827706665,\n",
        " 2.8090975151477409,\n",
        " 3.4540474160762447,\n",
        " 3.4053585414035328,\n",
        " 2.9559312387392986,\n",
        " 2.8864074670080448,\n",
        " 2.8410376844038407,\n",
        " 2.6735927419968166,\n",
        " 2.8997484321529141,\n",
        " 3.0411054120227616,\n",
        " 2.9499193246628987,\n",
        " 2.7411663717686023,\n",
        " 3.2058264208971732,\n",
        " 3.0928146154080349,\n",
        " 3.7559931787115137,\n",
        " 2.9690841913353352,\n",
        " 3.153760279321197,\n",
        " 2.7767208503094469,\n",
        " 3.1837283603962638,\n",
        " 2.8534990385107148,\n",
        " 3.0887888703326465,\n",
        " 2.8746926982275793,\n",
        " 2.8881939166920789,\n",
        " 3.0813886495121112,\n",
        " 2.9597107916201892,\n",
        " 3.2399729185422443,\n",
        " 2.8425301431602836,\n",
        " 3.1015058728662774,\n",
        " 3.1481558423613367,\n",
        " 2.8087561173600926,\n",
        " 3.5685983617971067,\n",
        " 3.0228112298553205,\n",
        " 2.9646858776251466,\n",
        " 3.2623542481416581,\n",
        " 3.3325031263521891,\n",
        " 3.5331746153375638,\n",
        " 3.005958610315361,\n",
        " 2.6537843215795456,\n",
        " 2.7777715664640947,\n",
        " 2.8148832417666787,\n",
        " 2.9408170380366667,\n",
        " 3.2450775457706098,\n",
        " 2.8025692260728574,\n",
        " 3.5304644012401374,\n",
        " 2.3797973616641426,\n",
        " 3.0329493388302464,\n",
        " 2.6036117312700924,\n",
        " 3.2813135708124266,\n",
        " 2.7082975523924731,\n",
        " 2.9178480919386023,\n",
        " 3.2484509535458495,\n",
        " 3.1118389677955802,\n",
        " 3.0687302491481625,\n",
        " 3.5954187087590803,\n",
        " 3.3204394829256874,\n",
        " 2.9461472436725127,\n",
        " 3.0897401167980396,\n",
        " 2.7620721571961862,\n",
        " 2.853816735785641,\n",
        " 2.985911414475825,\n",
        " 2.837991554047179,\n",
        " 3.3213186841162741,\n",
        " 3.0777335998560078,\n",
        " 2.9714036934168289,\n",
        " 2.8453778773452667,\n",
        " 2.6932527056886224,\n",
        " 3.0347486469988314,\n",
        " 2.8681178018674842,\n",
        " 3.1204447808571367]"
       ]
      }
     ],
     "prompt_number": 56
    },
    {
     "cell_type": "code",
     "collapsed": false,
     "input": [
      "#y_test_pred = best_svm.predict(X_test_feats)\n",
      "y_test_pred = svm.predict(X_test_feats)\n",
      "test_accuracy = np.mean(y_test == y_test_pred)\n",
      "print test_accuracy"
     ],
     "language": "python",
     "metadata": {},
     "outputs": [
      {
       "output_type": "stream",
       "stream": "stdout",
       "text": [
        "0.49\n"
       ]
      }
     ],
     "prompt_number": 57
    },
    {
     "cell_type": "code",
     "collapsed": false,
     "input": [
      "# Visualize the learned weights for each class.\n",
      "# Depending on your choice of learning rate and regularization strength, these may\n",
      "# or may not be nice to look at.\n",
      "w = best_svm.W[:,:-1] # strip out the bias\n",
      "w = w.reshape(10, 32, 32, 3)\n",
      "w_min, w_max = np.min(w), np.max(w)\n",
      "classes = ['plane', 'car', 'bird', 'cat', 'deer', 'dog', 'frog', 'horse', 'ship', 'truck']\n",
      "for i in xrange(10):\n",
      "  plt.subplot(2, 5, i + 1)\n",
      "    \n",
      "  # Rescale the weights to be between 0 and 255\n",
      "  wimg = 255.0 * (w[i].squeeze() - w_min) / (w_max - w_min)\n",
      "  plt.imshow(wimg.astype('uint8'))\n",
      "  plt.axis('off')\n",
      "  plt.title(classes[i])"
     ],
     "language": "python",
     "metadata": {},
     "outputs": [
      {
       "ename": "ValueError",
       "evalue": "total size of new array must be unchanged",
       "output_type": "pyerr",
       "traceback": [
        "\u001b[0;31m---------------------------------------------------------------------------\u001b[0m\n\u001b[0;31mValueError\u001b[0m                                Traceback (most recent call last)",
        "\u001b[0;32m<ipython-input-58-e467724ee925>\u001b[0m in \u001b[0;36m<module>\u001b[0;34m()\u001b[0m\n\u001b[1;32m      3\u001b[0m \u001b[0;31m# or may not be nice to look at.\u001b[0m\u001b[0;34m\u001b[0m\u001b[0;34m\u001b[0m\u001b[0m\n\u001b[1;32m      4\u001b[0m \u001b[0mw\u001b[0m \u001b[0;34m=\u001b[0m \u001b[0mbest_svm\u001b[0m\u001b[0;34m.\u001b[0m\u001b[0mW\u001b[0m\u001b[0;34m[\u001b[0m\u001b[0;34m:\u001b[0m\u001b[0;34m,\u001b[0m\u001b[0;34m:\u001b[0m\u001b[0;34m-\u001b[0m\u001b[0;36m1\u001b[0m\u001b[0;34m]\u001b[0m \u001b[0;31m# strip out the bias\u001b[0m\u001b[0;34m\u001b[0m\u001b[0m\n\u001b[0;32m----> 5\u001b[0;31m \u001b[0mw\u001b[0m \u001b[0;34m=\u001b[0m \u001b[0mw\u001b[0m\u001b[0;34m.\u001b[0m\u001b[0mreshape\u001b[0m\u001b[0;34m(\u001b[0m\u001b[0;36m10\u001b[0m\u001b[0;34m,\u001b[0m \u001b[0;36m32\u001b[0m\u001b[0;34m,\u001b[0m \u001b[0;36m32\u001b[0m\u001b[0;34m,\u001b[0m \u001b[0;36m3\u001b[0m\u001b[0;34m)\u001b[0m\u001b[0;34m\u001b[0m\u001b[0m\n\u001b[0m\u001b[1;32m      6\u001b[0m \u001b[0mw_min\u001b[0m\u001b[0;34m,\u001b[0m \u001b[0mw_max\u001b[0m \u001b[0;34m=\u001b[0m \u001b[0mnp\u001b[0m\u001b[0;34m.\u001b[0m\u001b[0mmin\u001b[0m\u001b[0;34m(\u001b[0m\u001b[0mw\u001b[0m\u001b[0;34m)\u001b[0m\u001b[0;34m,\u001b[0m \u001b[0mnp\u001b[0m\u001b[0;34m.\u001b[0m\u001b[0mmax\u001b[0m\u001b[0;34m(\u001b[0m\u001b[0mw\u001b[0m\u001b[0;34m)\u001b[0m\u001b[0;34m\u001b[0m\u001b[0m\n\u001b[1;32m      7\u001b[0m \u001b[0mclasses\u001b[0m \u001b[0;34m=\u001b[0m \u001b[0;34m[\u001b[0m\u001b[0;34m'plane'\u001b[0m\u001b[0;34m,\u001b[0m \u001b[0;34m'car'\u001b[0m\u001b[0;34m,\u001b[0m \u001b[0;34m'bird'\u001b[0m\u001b[0;34m,\u001b[0m \u001b[0;34m'cat'\u001b[0m\u001b[0;34m,\u001b[0m \u001b[0;34m'deer'\u001b[0m\u001b[0;34m,\u001b[0m \u001b[0;34m'dog'\u001b[0m\u001b[0;34m,\u001b[0m \u001b[0;34m'frog'\u001b[0m\u001b[0;34m,\u001b[0m \u001b[0;34m'horse'\u001b[0m\u001b[0;34m,\u001b[0m \u001b[0;34m'ship'\u001b[0m\u001b[0;34m,\u001b[0m \u001b[0;34m'truck'\u001b[0m\u001b[0;34m]\u001b[0m\u001b[0;34m\u001b[0m\u001b[0m\n",
        "\u001b[0;31mValueError\u001b[0m: total size of new array must be unchanged"
       ]
      }
     ],
     "prompt_number": 58
    },
    {
     "cell_type": "code",
     "collapsed": false,
     "input": [
      "# An important way to gain intuition about how an algorithm works is to\n",
      "# visualize the mistakes that it makes. In this visualization, we show examples\n",
      "# of images that are misclassified by our current system. The first column\n",
      "# shows images that our system labeled as \"plane\" but whose true label is\n",
      "# something other than \"plane\".\n",
      "\n",
      "_, h, w, c = X_train.shape\n",
      "print X_test.shape\n",
      "examples_per_class = 8\n",
      "classes = ['plane', 'car', 'bird', 'cat', 'deer', 'dog', 'frog', 'horse', 'ship', 'truck']\n",
      "for cls, cls_name in enumerate(classes):\n",
      "    idxs = np.where((y_test != cls) & (y_test_pred == cls))[0]\n",
      "    idxs = np.random.choice(idxs, examples_per_class, replace=False)\n",
      "    for i, idx in enumerate(idxs):\n",
      "        plt.subplot(examples_per_class, len(classes), i * len(classes) + cls + 1)\n",
      "        plt.imshow(X_test[idx].astype('uint8'))\n",
      "        plt.axis('off')\n",
      "        if i == 0:\n",
      "            plt.title(cls_name)\n",
      "plt.show()"
     ],
     "language": "python",
     "metadata": {},
     "outputs": [
      {
       "output_type": "stream",
       "stream": "stdout",
       "text": [
        "(1000, 32, 32, 3)\n"
       ]
      },
      {
       "metadata": {},
       "output_type": "display_data",
       "png": "[encoded data removed]",
       "text": [
        "<matplotlib.figure.Figure at 0x1b0dbb2d0>"
       ]
      }
     ],
     "prompt_number": 63
    },
    {
     "cell_type": "markdown",
     "metadata": {},
     "source": [
      "### Inline question 1:\n",
      "Describe the misclassification results that you see. Do they make sense?"
     ]
    },
    {
     "cell_type": "markdown",
     "metadata": {},
     "source": [
      "# Bonus: Design your own features!\n",
      "\n",
      "You have seen that simple image features can improve classification performance. So far we have tried HOG and color histograms, but other types of features may be able to achieve even better classification performance.\n",
      "\n",
      "For bonus points, design and implement a new type of feature and use it for image classification on CIFAR-10. Explain how your feature works and why you expect it to be useful for image classification. Implement it in this notebook, cross-validate any hyperparameters, and compare its performance to the HOG + Color histogram baseline."
     ]
    },
    {
     "cell_type": "markdown",
     "metadata": {},
     "source": [
      "# Bonus: Do something extra!\n",
      "Use the material and code we have presented in this assignment to do something interesting. Was there another question we should have asked? Did any cool ideas pop into your head as you were working on the assignment? This is your chance to show off!"
     ]
    }
   ],
   "metadata": {}
  }
 ]
}